{
 "cells": [
  {
   "cell_type": "code",
   "execution_count": null,
   "id": "e834969b-9baa-4727-9a07-0a45956c13b9",
   "metadata": {
    "tags": []
   },
   "outputs": [],
   "source": [
    "#!pip install 'crewai[tools]'\n",
    "#!pip install ollama"
   ]
  },
  {
   "cell_type": "code",
   "execution_count": null,
   "id": "743f1860-72c6-4162-b9e6-061409fe4b60",
   "metadata": {
    "tags": []
   },
   "outputs": [],
   "source": [
    "!pip install crewai crewai_tools langchain==0.2.6 langchain-core==0.2.15 langchain-experimental==0.0.62 langchain-community==0.2.6 langchain_mistralai"
   ]
  },
  {
   "cell_type": "code",
   "execution_count": null,
   "id": "f61f74b7-5250-40f9-9624-b0cc73ec893a",
   "metadata": {
    "tags": []
   },
   "outputs": [],
   "source": [
    "!pip install crewai==0.28.8 crewai_tools==0.1.6 langchain_community==0.0.29 langchain_core"
   ]
  },
  {
   "cell_type": "code",
   "execution_count": null,
   "id": "c9140408-18aa-47f2-938c-e1b1150e4ee3",
   "metadata": {
    "tags": []
   },
   "outputs": [],
   "source": [
    "import os\n",
    "os.environ[\"OPENAI_API_BASE\"] = \"https://api.mistral.ai/v1\"\n",
    "os.environ[\"OPENAI_API_KEY\"] = \"xxxxxxxxx\"\n",
    "os.environ[\"OPENAI_MODEL_NAME\"] = 'mistral-large-latest'\n",
    "os.environ[\"SERPER_API_KEY\"] =\"xxxxxx\"\n",
    "\n",
    "from langchain_community.graphs import Neo4jGraph\n",
    "from langchain_openai import ChatOpenAI\n",
    "from langchain_mistralai.chat_models import ChatMistralAI\n",
    "#from langchain.chains import GraphCypherQAChain\n",
    "from langchain.chains.graph_qa.cypher import GraphCypherQAChain\n",
    "os.environ[\"NEO4J_URI\"] = \"bolt://localhost:7687\"\n",
    "os.environ[\"NEO4J_USERNAME\"] = \"neo4j\"\n",
    "os.environ[\"NEO4J_PASSWORD\"] = \"password\"\n"
   ]
  },
  {
   "cell_type": "code",
   "execution_count": null,
   "id": "35f9c37a-5afa-4552-bfb5-0574008d429c",
   "metadata": {
    "tags": []
   },
   "outputs": [],
   "source": [
    "from langchain.agents import Tool\n",
    "graph = Neo4jGraph(url=os.environ['NEO4J_URI'], username=os.environ['NEO4J_USERNAME'], password=os.environ['NEO4J_PASSWORD'])\n",
    "\n",
    "graph.refresh_schema()\n",
    "api_key=os.environ[\"OPENAI_API_KEY\"]\n",
    "llm = ChatMistralAI(api_key=api_key, model=\"mistral-large-latest\",temperature=0)\n",
    "neo4jquery = GraphCypherQAChain.from_llm(\n",
    "    llm, graph=graph, verbose=True\n",
    ")\n",
    "neo4j_query_tool = Tool(\n",
    "  name=\"neo4j_query_tool\",\n",
    "  func=neo4jquery.run,\n",
    "  description=\"neo4j database that contains data about the project, user provide english question the tool translates it to query and respond with the answer\",\n",
    ")\n",
    "\n",
    "#neo4j_query_tool.run(\"count floors\")\n",
    "neo4j_query_tool.run(\"how many floors are there?\")"
   ]
  },
  {
   "cell_type": "code",
   "execution_count": null,
   "id": "a797f3cc-9101-4af9-b9c0-97166d3bd64d",
   "metadata": {
    "tags": []
   },
   "outputs": [],
   "source": [
    "# Agent 1: Researcher\n",
    "from crewai import Agent, Task, Crew\n",
    "analyst = Agent(\n",
    "    role=\"civil engineer\",\n",
    "    goal=\"get information about materials from data tool you ask the tool the questions in human language\",\n",
    "    tools = [  neo4j_query_tool],\n",
    "    verbose=True,\n",
    "    backstory=(\n",
    "        \"As civil engineer, you get your input from the neo4j_query_tool, you ask the questions in human language, for example, if you want to know number of floors you ask : how many floors are there? \"\n",
    "        \"you might need to calculate things by yourself, according to the data you get from the tool. you should not invent anything\"\n",
    "    )\n",
    ")\n",
    "# Task for Researcher Agent:\n",
    "analyst_task = Task(\n",
    "    description=(\n",
    "        \"get the list of materials. the data is about construction project. \"\n",
    "        \"need to get the number of walls, their materials and calculate their volumes, calculate volume data for what you find\"\n",
    "    ),\n",
    "    expected_output=(\n",
    "        \"list of walls, material and volume\"\n",
    "    ),\n",
    "    agent=analyst,\n",
    "    async_execution=True\n",
    ")\n",
    "application_crew = Crew(\n",
    "    agents=[analyst],\n",
    "\n",
    "    tasks=[analyst_task],\n",
    "\n",
    "    verbose=True\n",
    ")\n",
    "result = application_crew.kickoff()\n"
   ]
  },
  {
   "cell_type": "code",
   "execution_count": null,
   "id": "b2c25680-b4cd-492b-ad63-b50b42703606",
   "metadata": {},
   "outputs": [],
   "source": []
  }
 ],
 "metadata": {
  "kernelspec": {
   "display_name": "Python 3 (ipykernel)",
   "language": "python",
   "name": "python3"
  },
  "language_info": {
   "codemirror_mode": {
    "name": "ipython",
    "version": 3
   },
   "file_extension": ".py",
   "mimetype": "text/x-python",
   "name": "python",
   "nbconvert_exporter": "python",
   "pygments_lexer": "ipython3",
   "version": "3.11.4"
  }
 },
 "nbformat": 4,
 "nbformat_minor": 5
}
