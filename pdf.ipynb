{
 "cells": [
  {
   "cell_type": "code",
   "execution_count": null,
   "id": "d9c9f94e-c3ae-493c-8b49-19a494c39674",
   "metadata": {
    "tags": []
   },
   "outputs": [],
   "source": [
    "#!pip install pdfplumber\n",
    "#!pip install pdfreader\n",
    "#!pip install --upgrade PyPDF3\n",
    "#!pip install multilingual-pdf2text"
   ]
  },
  {
   "cell_type": "code",
   "execution_count": 2,
   "id": "2c652b12-a727-45a4-ad08-8e230333f460",
   "metadata": {
    "tags": []
   },
   "outputs": [],
   "source": [
    "#import pdfplumber\n",
    "#from pdfreader import SimplePDFViewer\n",
    "from pypdf import PdfReader\n",
    "#def extract_text_with_pdfplumber(pdf_path):\n",
    "#    text = \"\"\n",
    "#    with pdfplumber.open(pdf_path) as pdf:\n",
    "#        for page in pdf.pages:\n",
    "#            text += page.extract_text()\n",
    "#    return text\n",
    "\n",
    "from transformers import MarianMTModel, MarianTokenizer\n",
    "\n",
    "def translate_hebrew_to_english(text):\n",
    "    # Define the model name for Hebrew to English translation\n",
    "    model_name = 'Helsinki-NLP/opus-mt-mul-en'\n",
    "    \n",
    "    # Load the pre-trained model and tokenizer\n",
    "    tokenizer = MarianTokenizer.from_pretrained(model_name)\n",
    "    model = MarianMTModel.from_pretrained(model_name)\n",
    "    \n",
    "    # Tokenize the input text\n",
    "    inputs = tokenizer(text, return_tensors='pt', padding=True)\n",
    "    \n",
    "    # Generate the translated text\n",
    "    translated = model.generate(**inputs)\n",
    "    \n",
    "    # Decode the translated text\n",
    "    translated_text = tokenizer.decode(translated[0], skip_special_tokens=True)\n",
    "    \n",
    "    return translated_text\n",
    "\n",
    "def extract_text_with_pdfReader(pdf_path):\n",
    "    text = \"\"\n",
    "#    english_text=\"\"\n",
    "    english_text = \"\"\n",
    "    pdf = PdfReader(pdf_path)\n",
    "    for page in pdf.pages:\n",
    "        text += page.extract_text()\n",
    "#        english_text += translate_hebrew_to_english(text)\n",
    "    return text\n",
    "path=\"/Users/amit/Documents/IFC/gil_school.pdf\"\n",
    "he_text = extract_text_with_pdfReader(path)\n"
   ]
  },
  {
   "cell_type": "code",
   "execution_count": 29,
   "id": "57dba9a6-b49e-4f71-8fd0-ff28ad603e53",
   "metadata": {
    "tags": []
   },
   "outputs": [],
   "source": [
    "import re\n",
    "child_pattern = r\"\\d{2}\\.\\d{2}\\.\\d{3}[^\\d.]\"\n",
    "parent_pattern=r\"\\n\\d{2}\\.\\d{2}\\w\"\n",
    "matches = re.findall(pattern, he_text)\n"
   ]
  },
  {
   "cell_type": "code",
   "execution_count": 30,
   "id": "f1a248cd-160f-4015-bccd-ca1ab421b6db",
   "metadata": {
    "tags": []
   },
   "outputs": [],
   "source": [
    "#print(f\"Number of occurrences: {len(matches)}\")\n",
    "#print(\"Matches:\", matches)\n",
    "parent_documents = re.split(parent_pattern, he_text)"
   ]
  },
  {
   "cell_type": "code",
   "execution_count": 36,
   "id": "ca1377ef-7adc-480e-90b8-8c70e5a55edb",
   "metadata": {
    "tags": []
   },
   "outputs": [],
   "source": [
    "file_path = \"/Users/amit/github/rag_neo4j_streamlit/neo4j_rags/packages/neo4j-advanced-rag/PdfReader_example.txt\"\n",
    "with open(file_path, 'r', encoding='utf-8') as file:\n",
    "        text=file.read()"
   ]
  },
  {
   "cell_type": "code",
   "execution_count": null,
   "id": "51eef63b-686c-4d34-a0ca-ac4549e53d7a",
   "metadata": {
    "tags": []
   },
   "outputs": [],
   "source": []
  },
  {
   "cell_type": "code",
   "execution_count": null,
   "id": "8c3a6bec-dc4c-41b2-aafa-948d7cd42765",
   "metadata": {},
   "outputs": [],
   "source": []
  },
  {
   "cell_type": "code",
   "execution_count": 35,
   "id": "de437482-fe3a-4c89-810a-d369d29b8955",
   "metadata": {
    "tags": []
   },
   "outputs": [],
   "source": [
    "\n",
    "for i, parent in enumerate(parent_documents):\n",
    "#    print(f\"parent chank {i + 1} XXXXXXXXXXXXXXXXXXXXXXXXXXX:\")\n",
    "#    child_documents = re.split(child_pattern, parent)\n",
    "#    for j, child in enumerate(child_documents):\n",
    "#        print(f\"child chank {j + 1} YYYYYYYYYYYYYYYYYYYYYYYYYYYYYYY\")\n",
    "#        print(child_documents)\n",
    "#        print()"
   ]
  },
  {
   "cell_type": "code",
   "execution_count": 4,
   "id": "fa4f2beb-66f5-4107-9d62-a673c8ab4855",
   "metadata": {
    "tags": []
   },
   "outputs": [],
   "source": [
    "def write_string_to_file(file_path, content):\n",
    "    with open(file_path, 'w') as file:\n",
    "        file.write(content)\n",
    "\n",
    "# Example usage\n",
    "file_path = '/Users/amit/github/rag_neo4j_streamlit/neo4j_rags/packages/neo4j-advanced-rag/PdfReader_example.txt'\n",
    "write_string_to_file(file_path, he_text)"
   ]
  },
  {
   "cell_type": "code",
   "execution_count": null,
   "id": "17acb92f-5c96-4778-b301-89dff5d2f2db",
   "metadata": {
    "tags": []
   },
   "outputs": [],
   "source": [
    "#!pip install transformers torch\n",
    "from transformers import MarianMTModel, MarianTokenizer\n",
    "\n",
    "# Load model and tokenizer for English to French translation\n",
    "model_name = 'Helsinki-NLP/opus-mt-mul-en'\n",
    "tokenizer = MarianTokenizer.from_pretrained(model_name)\n",
    "model = MarianMTModel.from_pretrained(model_name)\n"
   ]
  },
  {
   "cell_type": "code",
   "execution_count": null,
   "id": "5e980cd0-ba2b-4065-9722-0d84477ad088",
   "metadata": {
    "tags": []
   },
   "outputs": [],
   "source": [
    "en_text=\"\"\n",
    "for s in he_text.split(\"\\n\"):\n",
    "    print(s)\n",
    "    en_text += translate_hebrew_to_english (he_text)\n",
    "    "
   ]
  },
  {
   "cell_type": "code",
   "execution_count": null,
   "id": "b679dd72-1dfe-45d3-a6d4-cce9064e0d09",
   "metadata": {
    "tags": []
   },
   "outputs": [],
   "source": [
    "def write_string_to_file(file_path, content):\n",
    "    with open(file_path, 'w') as file:\n",
    "        file.write(content)\n",
    "\n",
    "# Example usage\n",
    "file_path = '/Users/amit/github/rag_neo4j_streamlit/neo4j_rags/packages/neo4j-advanced-rag/PdfReader_example.txt'\n",
    "write_string_to_file(file_path, pdf_text)"
   ]
  },
  {
   "cell_type": "code",
   "execution_count": null,
   "id": "a32bf395-5e25-4c76-a907-f242ddbc5e1d",
   "metadata": {
    "tags": []
   },
   "outputs": [],
   "source": [
    "from transformers import MarianMTModel, MarianTokenizer\n",
    "\n",
    "def translate_hebrew_to_english(text):\n",
    "    # Define the model name for Hebrew to English translation\n",
    "    model_name = 'Helsinki-NLP/opus-mt-mul-en'\n",
    "    \n",
    "    # Load the pre-trained model and tokenizer\n",
    "    tokenizer = MarianTokenizer.from_pretrained(model_name)\n",
    "    model = MarianMTModel.from_pretrained(model_name)\n",
    "    \n",
    "    # Tokenize the input text\n",
    "    inputs = tokenizer(text, return_tensors='pt', padding=True)\n",
    "    \n",
    "    # Generate the translated text\n",
    "    translated = model.generate(**inputs)\n",
    "    \n",
    "    # Decode the translated text\n",
    "    translated_text = tokenizer.decode(translated[0], skip_special_tokens=True)\n",
    "    \n",
    "    return translated_text\n"
   ]
  },
  {
   "cell_type": "code",
   "execution_count": null,
   "id": "ce5de34b-c9e6-489a-864b-f7618749e6ea",
   "metadata": {
    "tags": []
   },
   "outputs": [],
   "source": [
    "pdf_text[:500]"
   ]
  },
  {
   "cell_type": "code",
   "execution_count": null,
   "id": "d3245860-e5d8-4347-b68b-675137698543",
   "metadata": {
    "tags": []
   },
   "outputs": [],
   "source": [
    "translate_hebrew_to_english(pdf_text)"
   ]
  },
  {
   "cell_type": "code",
   "execution_count": null,
   "id": "00d2c4cd-3336-422a-93fd-a59a88a7a395",
   "metadata": {
    "tags": []
   },
   "outputs": [],
   "source": [
    "en_text"
   ]
  },
  {
   "cell_type": "code",
   "execution_count": null,
   "id": "a918f9ff-e52b-42e5-ba68-07fc27b01cc4",
   "metadata": {
    "tags": []
   },
   "outputs": [],
   "source": [
    "with open(\"/Users/amit/github/rag_neo4j_streamlit/neo4j_rags/packages/neo4j-advanced-rag/apt_mecher.txt\", \"w\") as file:\n",
    "    # Write the string to the file\n",
    "    file.write(pdf_text)"
   ]
  },
  {
   "cell_type": "code",
   "execution_count": null,
   "id": "e026d237-4207-4a64-b2af-d5d0fa25a89c",
   "metadata": {
    "tags": []
   },
   "outputs": [],
   "source": [
    "# importing required classes \n",
    "from pypdf import PdfReader \n",
    "  \n",
    "# creating a pdf reader object \n",
    "#reader = PdfReader('/Users/amit/private/amit_cahanovich.pdf') \n",
    "reader=PdfReader('/Users/amit/Documents/IFC/ronen_aptmt.pdf') \n",
    "  \n",
    "# printing number of pages in pdf file \n",
    "print(len(reader.pages)) \n",
    "  \n",
    "# creating a page object \n",
    "page = reader.pages[0] \n",
    "  \n",
    "# extracting text from page \n",
    "print(page.extract_text()) \n",
    "\n"
   ]
  },
  {
   "cell_type": "code",
   "execution_count": null,
   "id": "4824751d-f643-4efe-9782-1b7a75675d3f",
   "metadata": {},
   "outputs": [],
   "source": [
    "for page in reader.pages:\n",
    "    print(page.extract_text())"
   ]
  },
  {
   "cell_type": "code",
   "execution_count": null,
   "id": "eb6bcf1f-4c15-4534-9946-c2c8d03832f7",
   "metadata": {},
   "outputs": [],
   "source": []
  }
 ],
 "metadata": {
  "kernelspec": {
   "display_name": "Python 3 (ipykernel)",
   "language": "python",
   "name": "python3"
  },
  "language_info": {
   "codemirror_mode": {
    "name": "ipython",
    "version": 3
   },
   "file_extension": ".py",
   "mimetype": "text/x-python",
   "name": "python",
   "nbconvert_exporter": "python",
   "pygments_lexer": "ipython3",
   "version": "3.11.4"
  }
 },
 "nbformat": 4,
 "nbformat_minor": 5
}
