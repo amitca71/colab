{
 "cells": [
  {
   "cell_type": "code",
   "execution_count": null,
   "id": "e834969b-9baa-4727-9a07-0a45956c13b9",
   "metadata": {
    "tags": []
   },
   "outputs": [],
   "source": [
    "#!pip install crewai crewai_tools langchain==0.2.6 langchain-core==0.2.15 langchain-experimental==0.0.62 langchain-community==0.2.6 langchain_mistralai"
   ]
  },
  {
   "cell_type": "code",
   "execution_count": 1,
   "id": "a91f36c8-049d-4794-a435-faa081b742ba",
   "metadata": {
    "tags": []
   },
   "outputs": [
    {
     "name": "stdout",
     "output_type": "stream",
     "text": [
      "codestral-latest https://codestral.mistral.ai/v1/\n"
     ]
    }
   ],
   "source": [
    "from dotenv import load_dotenv\n",
    "import os\n",
    "local=True\n",
    "load_dotenv(\".env_generic\")\n",
    "load_dotenv(\".env_neo4j_local\")\n",
    "model_file=\".env_mistal_ai\"\n",
    "if (local):\n",
    "    model_file=\".env_ollama\"\n",
    "    model_file=\".env_codestral\" \n",
    "#    model_file=\".env_openai\" \n",
    "load_dotenv(model_file)\n",
    "print(os.getenv('OPENAI_MODEL_NAME'),os.getenv('OPENAI_API_BASE'))"
   ]
  },
  {
   "cell_type": "code",
   "execution_count": 2,
   "id": "2cdecb3e-8333-437e-938f-8ad74f28efe9",
   "metadata": {
    "tags": []
   },
   "outputs": [],
   "source": [
    "from langchain.prompts.prompt import PromptTemplate\n",
    "from langchain_openai import ChatOpenAI\n",
    "from langchain.agents import Tool\n",
    "from langchain_community.graphs import Neo4jGraph\n",
    "from langchain.chains import GraphCypherQAChain\n",
    "import os\n",
    "graph = Neo4jGraph(url=os.environ['NEO4J_URI'], username=os.environ['NEO4J_USERNAME'], password=os.environ['NEO4J_PASSWORD'])\n",
    "graph.refresh_schema()\n",
    "llm = ChatOpenAI(model=os.getenv('OPENAI_MODEL_NAME'), temperature=0)\n",
    "\n",
    "\n",
    "CYPHER_GENERATION_TEMPLATE = \"\"\"\n",
    "Task:Generate Cypher statement to query a graph database.\n",
    "Instructions:\n",
    "Use only the provided relationship types and properties in the schema.\n",
    "All the data is based on ifc (industry foundation classes) standard.\n",
    "Do not use any other relationship types or properties that are not provided.\n",
    "when you get a question that is cypher, dont execute it as is, try to understand what the question is about and translate it according to the knowledge that you have, as you are top expert of getting the data, and the one that question is not aware of the data model.\n",
    "the property names and description are in hebrew for example IfcBuildingStorey.Name=\"קומה 6\"\n",
    "\n",
    "Schema:\n",
    "{schema}\n",
    "Cypher examples:\n",
    "# get gross volume of all entities that has gross volume (such as IfcBeam, IfcWallStandardCase, IfcSlab, IfcColumn): \n",
    "             MATCH (n:IfcQuantityVolume)<-[:Quantities]-(:IfcElementQuantity)<-[:RelatingPropertyDefinition]-(:IfcRelDefinesByProperties)-[:RelatedObjects]->(o) return labels(o)[0] as entity_name,o.ObjectType as entity_type ,n.VolumeValue as gross_volume\n",
    "# get all columns with relation to floors:\n",
    "            MATCH (n:IfcBuildingStorey)<-[:RelatingStructure]-(ss:IfcRelContainedInSpatialStructure)-[:RelatedElements]->(c:IfcColumn) RETURN n,ss,c\n",
    "# whar are the materials used for beam?\n",
    "             match (mt:IfcMaterial)<-[:RelatingMaterial]-(ascmat:IfcRelAssociatesMaterial)-[:RelatedObjects]->(bm:IfcBeam ) return (mt) .\n",
    "# what objects were made by materials ?\n",
    "            MATCH (m:IfcMaterial)<-[:RelatingMaterial]-(asm:IfcRelAssociatesMaterial)-[:RelatedObjects]->(o) return (o)\n",
    "# what spaces spaces are in floors?\n",
    "            match(IfcBuildingStorey)<-[:RelatingObject]-(:IfcRelAggregates)-[:RelatedObjects]->(s:IfcSpace) return (s)\n",
    "# count beams by type:\n",
    "            MATCH (b:IfcBeam) RETURN b.ObjectType AS object_type, COUNT(b) AS count ORDER BY count DESC\n",
    "# count columns by type:\n",
    "            MATCH (b:IfcColumns) RETURN b.ObjectType AS object_type, COUNT(b) AS count ORDER BY count DESC\n",
    "# count walls by type:\n",
    "            MATCH (b:IfcWall) RETURN b.ObjectType AS object_type, COUNT(b) AS count ORDER BY count DESC\n",
    "# get the buildings floor/storey sequence, Storey Level, Storey Elevation and Storey Name:\n",
    "            MATCH (storey:IfcBuildingStorey) WHERE storey.Elevation IS NOT NULL WITH storey ORDER BY storey.Elevation ASC WITH collect(storey) AS sortedStoreys UNWIND range(0, size(sortedStoreys) - 1) AS idx WITH idx, sortedStoreys[idx] AS storey, sortedStoreys RETURN CASE WHEN storey.Elevation < 0 THEN -1 * (size([s IN sortedStoreys WHERE s.Elevation < 0]) - idx) WHEN storey.Elevation = 0 THEN 0 ELSE idx - size([s IN sortedStoreys WHERE s.Elevation < 0]) END AS StoreyLevel, idx+1 as StoreySequence,storey.Name AS StoreyName, storey.Elevation AS Elevation ORDER BY storey.Elevation ASC\n",
    "\n",
    "# what are the relation between IfcBuilding and  IfcBuildingStorey storeys:\n",
    "            MATCH (b:IfcBuilding)<-[:RelatingObject]-(:IfcRelAggregates)-[:RelatedObjects]->(bs:IfcBuildingStorey) return(bs)\n",
    "# get the building top floor/storey name:\n",
    "            MATCH (storey:IfcBuildingStorey) WHERE storey.Elevation IS NOT NULL WITH storey ORDER BY storey.Elevation DESC LIMIT 1 RETURN storey.Name AS TopStoreyName\n",
    "# get the  storey level of the middle storey:\n",
    "            MATCH (storey:IfcBuildingStorey) WHERE storey.Elevation IS NOT NULL WITH storey ORDER BY storey.Elevation ASC WITH collect(storey) AS sortedStoreys WITH sortedStoreys, size(sortedStoreys) AS totalCount WITH sortedStoreys, totalCount, floor(totalCount / 2.0) AS middleIndex RETURN sortedStoreys[toInteger(middleIndex)] AS middleStorey, sortedStoreys[toInteger(middleIndex)].Name AS StoreyName, sortedStoreys[toInteger(middleIndex)].Elevation AS Elevation\n",
    "\n",
    "# get the number of columns, sum of column volume, sum of beam volume,  average of beam volume,  average of column volume for each storey of the building, mention the storey name and elevation order by elevation:\n",
    "            MATCH (storey:IfcBuildingStorey)<-[:RelatingStructure]-(ss:IfcRelContainedInSpatialStructure)-[:RelatedElements]->(c:IfcColumn) OPTIONAL MATCH (c)<-[:RelatedObjects]-(eq:IfcRelDefinesByProperties)-[:RelatingPropertyDefinition]->(ev:IfcElementQuantity)-[:Quantities]->(qv:IfcQuantityVolume) WITH storey, count(c) AS column_count, sum(qv.VolumeValue) AS column_volume_sum, storey.Name AS storey_name, storey.Elevation AS storey_elevation OPTIONAL MATCH (storey)<-[:RelatingStructure]-()-[:RelatedElements]->(b:IfcBeam) OPTIONAL MATCH (b)<-[:RelatedObjects]-()-[:RelatingPropertyDefinition]->(ev:IfcElementQuantity)-[:Quantities]->(qv:IfcQuantityVolume) WITH storey, column_count, column_volume_sum, storey_name, storey_elevation, count(b) AS beam_count, sum(qv.VolumeValue) AS beam_volume_sum RETURN storey_name, storey_elevation, column_count, column_volume_sum, beam_count, beam_volume_sum, CASE WHEN beam_count > 0 THEN beam_volume_sum / beam_count ELSE 0 END AS beam_volume_avg, CASE WHEN column_count > 0 THEN column_volume_sum / column_count ELSE 0 END AS column_volume_avg ORDER BY storey_elevation ASC\n",
    "Critical Note: \n",
    "Do not include any explanations or apologies in your responses.\n",
    "Do not respcrond to any questions that might ask anything else than for you to construct a Cypher statement!!!!!\n",
    "Do not include any text except the generated Cypher statement !!!!!!\n",
    "Do Not respond with any additional text except for the cypher itself, as it causes critical failures\n",
    "\n",
    "\n",
    "The question is:\n",
    "{question}\"\"\"\n",
    "CYPHER_GENERATION_PROMPT = PromptTemplate(\n",
    "    input_variables=[\"schema\", \"question\"], template=CYPHER_GENERATION_TEMPLATE\n",
    ")\n",
    "\n",
    "neo4jquery = GraphCypherQAChain.from_llm(\n",
    "    llm, graph=graph, top_k=200,verbose=True,\n",
    "    cypher_prompt=CYPHER_GENERATION_PROMPT\n",
    ")\n",
    "neo4j_query_tool = Tool(\n",
    "  name=\"neo4j_query_tool\",\n",
    "  func=neo4jquery.run,\n",
    "  description=\"provide information about building project. the information is stored according to IFC standard. The tool is familiar with the datamodel and can provide raw data as well as aggregared data (such as total volume by floor, number of elements, etc..), user provide english question the tool translates it to query and respond with the answer\",\n",
    "  cypher_prompt=CYPHER_GENERATION_PROMPT\n",
    ")\n",
    "#neo4j_query_tool.run(\"get the number of columns, sum of column volume, sum of beam volume,  average of beam volume,  average of column volume for each storey of the building, mention the storey name and elevation order by elevation \")"
   ]
  },
  {
   "cell_type": "code",
   "execution_count": 3,
   "id": "144e3991-1389-438a-ad06-c67d97fa3c28",
   "metadata": {
    "tags": []
   },
   "outputs": [
    {
     "name": "stdout",
     "output_type": "stream",
     "text": [
      "\n",
      "\n",
      "\u001b[1m> Entering new GraphCypherQAChain chain...\u001b[0m\n",
      "Generated Cypher:\n",
      "\u001b[32;1m\u001b[1;3mMATCH (storey:IfcBuildingStorey)<-[:RelatingStructure]-(ss:IfcRelContainedInSpatialStructure)-[:RelatedElements]->(c:IfcColumn)\n",
      "OPTIONAL MATCH (c)<-[:RelatedObjects]-(eq:IfcRelDefinesByProperties)-[:RelatingPropertyDefinition]->(ev:IfcElementQuantity)-[:Quantities]->(qv:IfcQuantityVolume)\n",
      "WITH storey, count(c) AS column_count, sum(qv.VolumeValue) AS column_volume_sum, storey.Name AS storey_name, storey.Elevation AS storey_elevation\n",
      "ORDER BY storey_elevation DESC\n",
      "LIMIT 1\n",
      "RETURN storey_name, column_count, column_volume_sum\u001b[0m\n",
      "Full Context:\n",
      "\u001b[32;1m\u001b[1;3m[{'storey_name': 'טכני עליון', 'column_count': 28, 'column_volume_sum': 6.3684027160320795}]\u001b[0m\n",
      "\n",
      "\u001b[1m> Finished chain.\u001b[0m\n"
     ]
    },
    {
     "data": {
      "text/plain": [
       "'בקומה הגבוהה ביותר, שהיא \"טכני עליון\", יש 28 קורות. הנפח הכולל של כל הקורות בקומה הזאת הוא 6.3684027160320795 מטר מקובים.'"
      ]
     },
     "execution_count": 3,
     "metadata": {},
     "output_type": "execute_result"
    }
   ],
   "source": [
    "neo4j_query_tool.run(\"כמה קורות ומה הנפח שלהן בקומה הגבוהה ביותר?\")"
   ]
  },
  {
   "cell_type": "code",
   "execution_count": null,
   "id": "a033ea47-5495-4bd5-a0bd-28bc9c7d98b0",
   "metadata": {
    "tags": []
   },
   "outputs": [],
   "source": [
    "# Agent 1: Researcher\n",
    "from crewai import Agent, Task, Crew\n",
    "analyst = Agent(\n",
    "    role=\"civil engineer\",\n",
    "    goal=\"provide information about building materials, quantities and sizes, be as accurate as possible\",\n",
    "    tools = [  neo4j_query_tool],\n",
    "    verbose=True,\n",
    "    backstory=(\n",
    "        \"As civil engineer, you get your input from the neo4j_query_tool, you ask the questions in human language, for example, if you want to know number of floors you ask : how many floors are there? and not a cypher that you think that is right \"\n",
    "        \"as the tool translates the query better than you. \"\n",
    "        \"The tool has arythmetic capabilities, and you should use it as much as possible. \"\n",
    "        \"The tool has information that is pre calculated, so you dont need to perform the calculations for things, like volumes. \"\n",
    "        \"usually the tool should respond to the questions, including aggregation and sums. only if you are not satisfied from the answer, you might need to calculate things by yourself, according to the data you get from the tool. you should not invent anything!!! \"\n",
    "        \"sometimes you need to conclude things about entities from their name or ObjectType. and then you should get the value and conclude by yourself. \"\n",
    "        \"If you would need to conclude something from column name by yourself you should do it, the default is not to do so. \"\n",
    "        \"for example, if you are requested to count beams by type and for each type get the properties, such as: material, shape or dimensions, you shold follow the following steps: \"\n",
    "        \"1) request from tool: count number of beams by ObjectType. \"\n",
    "        \"2) using the information you got from the tool, look at the value of ObjectType, and conclude fron the text what are the properties \"\n",
    "        \"3) only if you dont find the requested properties, try to get it be other relationships. \"\n",
    "        \"getting data for walls and columns, should follow  similiar process as of the beam example.\"\n",
    "    )\n",
    ")\n",
    "# Task for Researcher Agent:\n",
    "analyst_task = Task(\n",
    "    description=(\n",
    "#        \"get the columns and their types, for each type, calculate how many instances. the ObjectType property each wall type is a description of the column. identify the material,  Shape,  Dimensions\"\n",
    "        \"provide number and volume of beams by floor\"\n",
    "    ),\n",
    "    expected_output=(\n",
    "#        \"json with the information of types with their properties from the text of the type. count how many of each type. \"\n",
    "#        \"do not write enything else except for this json\"\n",
    "        \"json with the result by floor\"\n",
    "    ),\n",
    "    agent=analyst,\n",
    "    async_execution=True\n",
    ")\n",
    "application_crew = Crew(\n",
    "    agents=[analyst],\n",
    "\n",
    "    tasks=[analyst_task],\n",
    "\n",
    "    verbose=True\n",
    ")\n",
    "result = application_crew.kickoff()\n"
   ]
  },
  {
   "cell_type": "code",
   "execution_count": null,
   "id": "ec15025e-3f70-442d-ac80-169492f32d59",
   "metadata": {},
   "outputs": [],
   "source": []
  },
  {
   "cell_type": "code",
   "execution_count": null,
   "id": "16cea21f-b5df-4ced-8f6a-92ccbc9a632d",
   "metadata": {
    "tags": []
   },
   "outputs": [],
   "source": [
    "import json\n",
    "result."
   ]
  },
  {
   "cell_type": "code",
   "execution_count": null,
   "id": "0f516a8e-30db-4485-b438-b10429fa2a00",
   "metadata": {},
   "outputs": [],
   "source": []
  }
 ],
 "metadata": {
  "kernelspec": {
   "display_name": "Python 3 (ipykernel)",
   "language": "python",
   "name": "python3"
  },
  "language_info": {
   "codemirror_mode": {
    "name": "ipython",
    "version": 3
   },
   "file_extension": ".py",
   "mimetype": "text/x-python",
   "name": "python",
   "nbconvert_exporter": "python",
   "pygments_lexer": "ipython3",
   "version": "3.11.4"
  }
 },
 "nbformat": 4,
 "nbformat_minor": 5
}
