{
 "cells": [
  {
   "cell_type": "code",
   "execution_count": null,
   "id": "e834969b-9baa-4727-9a07-0a45956c13b9",
   "metadata": {
    "tags": []
   },
   "outputs": [],
   "source": [
    "#!pip install crewai crewai_tools langchain==0.2.6 langchain-core==0.2.15 langchain-experimental==0.0.62 langchain-community==0.2.6 langchain_mistralai"
   ]
  },
  {
   "cell_type": "code",
   "execution_count": null,
   "id": "a91f36c8-049d-4794-a435-faa081b742ba",
   "metadata": {
    "tags": []
   },
   "outputs": [],
   "source": [
    "from dotenv import load_dotenv\n",
    "import os\n",
    "local=True\n",
    "load_dotenv(\".env_generic\")\n",
    "load_dotenv(\".env_neo4j_local\")\n",
    "model_file=\".env_mistal_ai\"\n",
    "if (local):\n",
    "    model_file=\".env_ollama\"\n",
    "load_dotenv(model_file)\n",
    "print(os.getenv('OPENAI_MODEL_NAME'))"
   ]
  },
  {
   "cell_type": "code",
   "execution_count": null,
   "id": "2cdecb3e-8333-437e-938f-8ad74f28efe9",
   "metadata": {
    "tags": []
   },
   "outputs": [],
   "source": [
    "from langchain_openai import ChatOpenAI\n",
    "from langchain.agents import Tool\n",
    "from langchain_community.graphs import Neo4jGraph\n",
    "from langchain.chains.graph_qa.cypher import GraphCypherQAChain\n",
    "import os\n",
    "graph = Neo4jGraph(url=os.environ['NEO4J_URI'], username=os.environ['NEO4J_USERNAME'], password=os.environ['NEO4J_PASSWORD'])\n",
    "graph.refresh_schema()\n",
    "llm = ChatOpenAI(model=os.getenv('OPENAI_MODEL_NAME'))\n",
    "neo4jquery = GraphCypherQAChain.from_llm(\n",
    "    llm, graph=graph, verbose=True\n",
    ")\n",
    "neo4j_query_tool = Tool(\n",
    "  name=\"neo4j_query_tool\",\n",
    "  func=neo4jquery.run,\n",
    "  description=\"neo4j database that contains data about the project, user provide english question the tool translates it to query and respond with the answer\",\n",
    ")\n",
    "neo4j_query_tool.run(\"how many floors are there?\")"
   ]
  },
  {
   "cell_type": "code",
   "execution_count": null,
   "id": "a033ea47-5495-4bd5-a0bd-28bc9c7d98b0",
   "metadata": {
    "tags": []
   },
   "outputs": [],
   "source": [
    "# Agent 1: Researcher\n",
    "from crewai import Agent, Task, Crew\n",
    "analyst = Agent(\n",
    "    role=\"civil engineer\",\n",
    "    goal=\"get information about materials from data tool you ask the tool the questions in human language\",\n",
    "    tools = [  neo4j_query_tool],\n",
    "    verbose=True,\n",
    "    backstory=(\n",
    "        \"As civil engineer, you get your input from the neo4j_query_tool, you ask the questions in human language, for example, if you want to know number of floors you ask : how many floors are there? \"\n",
    "        \"you might need to calculate things by yourself, according to the data you get from the tool. you should not invent anything\"\n",
    "    )\n",
    ")\n",
    "# Task for Researcher Agent:\n",
    "analyst_task = Task(\n",
    "    description=(\n",
    "        \"get the list of materials. the data is about construction project. \"\n",
    "        \"need to get the number of walls, their materials and calculate their volumes, calculate volume data for what you find\"\n",
    "    ),\n",
    "    expected_output=(\n",
    "        \"list of walls, material and volume\"\n",
    "    ),\n",
    "    agent=analyst,\n",
    "    async_execution=True\n",
    ")\n",
    "application_crew = Crew(\n",
    "    agents=[analyst],\n",
    "\n",
    "    tasks=[analyst_task],\n",
    "\n",
    "    verbose=True\n",
    ")\n",
    "result = application_crew.kickoff()\n"
   ]
  },
  {
   "cell_type": "code",
   "execution_count": null,
   "id": "b2c25680-b4cd-492b-ad63-b50b42703606",
   "metadata": {},
   "outputs": [],
   "source": []
  }
 ],
 "metadata": {
  "kernelspec": {
   "display_name": "Python 3 (ipykernel)",
   "language": "python",
   "name": "python3"
  },
  "language_info": {
   "codemirror_mode": {
    "name": "ipython",
    "version": 3
   },
   "file_extension": ".py",
   "mimetype": "text/x-python",
   "name": "python",
   "nbconvert_exporter": "python",
   "pygments_lexer": "ipython3",
   "version": "3.11.4"
  }
 },
 "nbformat": 4,
 "nbformat_minor": 5
}
