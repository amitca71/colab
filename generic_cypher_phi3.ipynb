{
  "cells": [
    {
      "cell_type": "markdown",
      "metadata": {
        "id": "view-in-github",
        "colab_type": "text"
      },
      "source": [
        "<a href=\"https://colab.research.google.com/github/amitca71/colab/blob/main/generic_cypher_phi3.ipynb\" target=\"_parent\"><img src=\"https://colab.research.google.com/assets/colab-badge.svg\" alt=\"Open In Colab\"/></a>"
      ]
    },
    {
      "cell_type": "code",
      "execution_count": 1,
      "metadata": {
        "colab": {
          "base_uri": "https://localhost:8080/"
        },
        "id": "JUDi5el-l8d8",
        "outputId": "b261a559-e89e-4097-e814-8c607635d8c3"
      },
      "outputs": [
        {
          "output_type": "stream",
          "name": "stdout",
          "text": [
            "Collecting openai\n",
            "  Downloading openai-1.35.14-py3-none-any.whl (328 kB)\n",
            "\u001b[2K     \u001b[90m━━━━━━━━━━━━━━━━━━━━━━━━━━━━━━━━━━━━━━━━\u001b[0m \u001b[32m328.5/328.5 kB\u001b[0m \u001b[31m5.2 MB/s\u001b[0m eta \u001b[36m0:00:00\u001b[0m\n",
            "\u001b[?25hCollecting neo4j\n",
            "  Downloading neo4j-5.22.0-py3-none-any.whl (293 kB)\n",
            "\u001b[2K     \u001b[90m━━━━━━━━━━━━━━━━━━━━━━━━━━━━━━━━━━━━━━━━\u001b[0m \u001b[32m293.5/293.5 kB\u001b[0m \u001b[31m7.8 MB/s\u001b[0m eta \u001b[36m0:00:00\u001b[0m\n",
            "\u001b[?25hRequirement already satisfied: anyio<5,>=3.5.0 in /usr/local/lib/python3.10/dist-packages (from openai) (3.7.1)\n",
            "Requirement already satisfied: distro<2,>=1.7.0 in /usr/lib/python3/dist-packages (from openai) (1.7.0)\n",
            "Collecting httpx<1,>=0.23.0 (from openai)\n",
            "  Downloading httpx-0.27.0-py3-none-any.whl (75 kB)\n",
            "\u001b[2K     \u001b[90m━━━━━━━━━━━━━━━━━━━━━━━━━━━━━━━━━━━━━━━━\u001b[0m \u001b[32m75.6/75.6 kB\u001b[0m \u001b[31m8.6 MB/s\u001b[0m eta \u001b[36m0:00:00\u001b[0m\n",
            "\u001b[?25hRequirement already satisfied: pydantic<3,>=1.9.0 in /usr/local/lib/python3.10/dist-packages (from openai) (2.8.2)\n",
            "Requirement already satisfied: sniffio in /usr/local/lib/python3.10/dist-packages (from openai) (1.3.1)\n",
            "Requirement already satisfied: tqdm>4 in /usr/local/lib/python3.10/dist-packages (from openai) (4.66.4)\n",
            "Requirement already satisfied: typing-extensions<5,>=4.7 in /usr/local/lib/python3.10/dist-packages (from openai) (4.12.2)\n",
            "Requirement already satisfied: pytz in /usr/local/lib/python3.10/dist-packages (from neo4j) (2023.4)\n",
            "Requirement already satisfied: idna>=2.8 in /usr/local/lib/python3.10/dist-packages (from anyio<5,>=3.5.0->openai) (3.7)\n",
            "Requirement already satisfied: exceptiongroup in /usr/local/lib/python3.10/dist-packages (from anyio<5,>=3.5.0->openai) (1.2.1)\n",
            "Requirement already satisfied: certifi in /usr/local/lib/python3.10/dist-packages (from httpx<1,>=0.23.0->openai) (2024.7.4)\n",
            "Collecting httpcore==1.* (from httpx<1,>=0.23.0->openai)\n",
            "  Downloading httpcore-1.0.5-py3-none-any.whl (77 kB)\n",
            "\u001b[2K     \u001b[90m━━━━━━━━━━━━━━━━━━━━━━━━━━━━━━━━━━━━━━━━\u001b[0m \u001b[32m77.9/77.9 kB\u001b[0m \u001b[31m7.5 MB/s\u001b[0m eta \u001b[36m0:00:00\u001b[0m\n",
            "\u001b[?25hCollecting h11<0.15,>=0.13 (from httpcore==1.*->httpx<1,>=0.23.0->openai)\n",
            "  Downloading h11-0.14.0-py3-none-any.whl (58 kB)\n",
            "\u001b[2K     \u001b[90m━━━━━━━━━━━━━━━━━━━━━━━━━━━━━━━━━━━━━━━━\u001b[0m \u001b[32m58.3/58.3 kB\u001b[0m \u001b[31m6.6 MB/s\u001b[0m eta \u001b[36m0:00:00\u001b[0m\n",
            "\u001b[?25hRequirement already satisfied: annotated-types>=0.4.0 in /usr/local/lib/python3.10/dist-packages (from pydantic<3,>=1.9.0->openai) (0.7.0)\n",
            "Requirement already satisfied: pydantic-core==2.20.1 in /usr/local/lib/python3.10/dist-packages (from pydantic<3,>=1.9.0->openai) (2.20.1)\n",
            "Installing collected packages: neo4j, h11, httpcore, httpx, openai\n",
            "Successfully installed h11-0.14.0 httpcore-1.0.5 httpx-0.27.0 neo4j-5.22.0 openai-1.35.14\n"
          ]
        }
      ],
      "source": [
        "!pip install openai neo4j --upgrade"
      ]
    },
    {
      "cell_type": "code",
      "source": [
        "%%capture\n",
        "!pip install \"unsloth[colab-new] @ git+https://github.com/unslothai/unsloth.git\"\n",
        "!pip install --no-deps \"xformers<0.0.27\" \"trl<0.9.0\" peft accelerate bitsandbytes\n",
        "!pip install torch --upgrade"
      ],
      "metadata": {
        "id": "eGqB0NKFoEE8"
      },
      "execution_count": 2,
      "outputs": []
    },
    {
      "cell_type": "code",
      "source": [
        "inference_model_name=\"amitca71/lora_model_text2cypher_unsloth_phi-3-mini-4k-instruct\"\n",
        "max_seq_length=2048\n",
        "dtype=None\n",
        "load_in_4bit=False"
      ],
      "metadata": {
        "id": "YLyFqmx7oJPJ"
      },
      "execution_count": 3,
      "outputs": []
    },
    {
      "cell_type": "code",
      "source": [
        "from google.colab import drive\n",
        "import os,subprocess\n",
        "drive.mount('/content/gdrive', force_remount=True)\n",
        "root_dir = \"/content/gdrive/My Drive/\"\n",
        "env_file = f'{root_dir}/Colab Notebooks/env'\n",
        "def get_env_vars(conf_file_path):\n",
        "  variables={}\n",
        "  command = f'cat \"{env_file}\"'\n",
        "  output, error =subprocess.Popen(command, stdout=subprocess.PIPE, shell=True, executable='/bin/bash').communicate()\n",
        "\n",
        "  if output:\n",
        "      for line in output.decode().strip().replace('\"', '').splitlines():\n",
        "          key, _, value = line.partition(\"=\")\n",
        "          key=key.replace(\"export\", \"\").strip()\n",
        "          if(key!=\"\"):\n",
        "            variables[key]=value\n",
        "            os.environ[key] = value\n",
        "#            print(key, os.getenv(key))\n",
        "  return(variables)\n",
        "env_vars=get_env_vars(env_file)\n",
        "hf_token=env_vars['HUGGINGFACE_TOKEN']\n",
        "hf_token=env_vars['HUGGINGFACE_TOKEN']\n",
        "neo4j_username=env_vars['NEO4J_USERNAME']\n",
        "neo4j_password=env_vars['NEO4J_PASSWORD']\n",
        "neo4j_uri=env_vars['NEO4J_URI']\n",
        "openai_key=env_vars['OPEN_API_KEY']"
      ],
      "metadata": {
        "colab": {
          "base_uri": "https://localhost:8080/"
        },
        "id": "KIPXpI1jUveX",
        "outputId": "c6c13f98-6ef2-4701-edc8-40aa68c9cf82"
      },
      "execution_count": 4,
      "outputs": [
        {
          "output_type": "stream",
          "name": "stdout",
          "text": [
            "Mounted at /content/gdrive\n"
          ]
        }
      ]
    },
    {
      "cell_type": "code",
      "execution_count": 5,
      "metadata": {
        "id": "67N5Q5-CmuG8"
      },
      "outputs": [],
      "source": [
        "node_properties_query = \"\"\"\n",
        "CALL apoc.meta.data()\n",
        "YIELD label, other, elementType, type, property\n",
        "WHERE NOT type = \"RELATIONSHIP\" AND elementType = \"node\"\n",
        "WITH label AS nodeLabels, collect(property) AS properties\n",
        "RETURN {labels: nodeLabels, properties: properties} AS output\n",
        "\n",
        "\"\"\"\n",
        "\n",
        "rel_properties_query = \"\"\"\n",
        "CALL apoc.meta.data()\n",
        "YIELD label, other, elementType, type, property\n",
        "WHERE type = \"RELATIONSHIP\" AND elementType = \"relationship\"\n",
        "WITH label AS nodeLabels, collect(property) AS properties\n",
        "RETURN {type: nodeLabels, properties: properties} AS output\n",
        "\"\"\"\n",
        "\n",
        "rel_query = \"\"\"\n",
        "CALL apoc.meta.data()\n",
        "YIELD label, other, elementType, type, property\n",
        "WHERE type = \"RELATIONSHIP\" AND elementType = \"node\"\n",
        "RETURN {source: label, relationship: property, target: other} AS output\n",
        "\"\"\""
      ]
    },
    {
      "cell_type": "code",
      "execution_count": 62,
      "metadata": {
        "id": "IHY0Kt2-mFFq"
      },
      "outputs": [],
      "source": [
        "from neo4j import GraphDatabase\n",
        "from neo4j.exceptions import CypherSyntaxError\n",
        "import openai\n",
        "from transformers import TextStreamer\n",
        "\n",
        "def schema_text(node_props, rel_props, rels):\n",
        "    return f\"\"\"\n",
        "  This is the schema representation of the Neo4j database.\n",
        "  Node properties are the following:\n",
        "  {node_props}\n",
        "  Relationship properties are the following:\n",
        "  {rel_props}\n",
        "  Relationship point from source to target nodes\n",
        "  {rels}\n",
        "  Make sure to respect relationship types and directions\n",
        "  \"\"\"\n",
        "\n",
        "\n",
        "class Neo4jGPTQuery:\n",
        "    def __init__(self, url, user, password,model, tokenizer ):\n",
        "        self.driver = GraphDatabase.driver(url, auth=(user, password))\n",
        "#        openai.api_key = openai_api_key\n",
        "        # construct schema\n",
        "        self.schema = self.generate_schema()\n",
        "        self.tokenizer=tokenizer\n",
        "        self.model = model\n",
        "\n",
        "    def generate_schema(self):\n",
        "        node_props = self.query_database(node_properties_query)\n",
        "        rel_props = self.query_database(rel_properties_query)\n",
        "        rels = self.query_database(rel_query)\n",
        "        return schema_text(node_props, rel_props, rels)\n",
        "\n",
        "    def refresh_schema(self):\n",
        "        self.schema = self.generate_schema()\n",
        "\n",
        "    def get_system_message(self):\n",
        "        return f\"\"\"\n",
        "        Task: Generate Cypher queries to query a Neo4j graph database based on the provided schema definition.\n",
        "        Instructions:\n",
        "        Use only the provided relationship types and properties.\n",
        "        Do not use any other relationship types or properties that are not provided.\n",
        "        If you cannot generate a Cypher statement based on the provided schema, explain the reason to the user.\n",
        "        Schema:\n",
        "        {self.schema}\n",
        "\n",
        "        Note: Do not include any explanations or apologies in your responses.\n",
        "        \"\"\"\n",
        "\n",
        "    def query_database(self, neo4j_query, params={}):\n",
        "        with self.driver.session() as session:\n",
        "            result = session.run(neo4j_query, params)\n",
        "            output = [r.values() for r in result]\n",
        "            output.insert(0, result.keys())\n",
        "            return output\n",
        "\n",
        "    def construct_cypher(self, question, history=None):\n",
        "        messages = [\n",
        "            {\"role\": \"system\", \"content\": self.get_system_message()},\n",
        "            {\"role\": \"user\", \"content\": question},\n",
        "        ]\n",
        "        # Used for Cypher healing flows\n",
        "        if history:\n",
        "            messages.extend(history)\n",
        "        inputs = self.tokenizer.apply_chat_template(\n",
        "            messages,\n",
        "            tokenize = True,\n",
        "            add_generation_prompt = True, # Must add for generation\n",
        "            return_tensors = \"pt\",\n",
        "        ).to(\"cuda\")\n",
        "\n",
        "        text_streamer = TextStreamer(tokenizer)\n",
        "        outputs = self.model.generate(input_ids = inputs, streamer = text_streamer, max_new_tokens = 128, use_cache = True)\n",
        "        return(self.tokenizer.batch_decode(outputs))\n",
        "# Generate Cypher statement\n",
        "#\n",
        "#        completions = openai.chat.completions.create(\n",
        "#            model=\"gpt-4\",\n",
        "#            temperature=0.0,\n",
        "#            max_tokens=1000,\n",
        "#            messages=messages\n",
        "#        )\n",
        "#        return completions.choices[0].message.content\n",
        "\n",
        "    def run(self, question, history=None, retry=True):\n",
        "        # Construct Cypher statement\n",
        "        cypher = self.construct_cypher(question, history)\n",
        "        print(cypher)\n",
        "        try:\n",
        "            return self.query_database(cypher)\n",
        "        # Self-healing flow\n",
        "        except CypherSyntaxError as e:\n",
        "            # If out of retries\n",
        "            if not retry:\n",
        "              return \"Invalid Cypher syntax\"\n",
        "        # Self-healing Cypher flow by\n",
        "        # providing specific error to GPT-4\n",
        "            print(\"Retrying\")\n",
        "            return self.run(\n",
        "                question,\n",
        "                [\n",
        "                    {\"role\": \"assistant\", \"content\": cypher},\n",
        "                    {\n",
        "                        \"role\": \"user\",\n",
        "                        \"content\": f\"\"\"This query returns an error: {str(e)}\n",
        "                        Give me a improved query that works without any explanations or apologies\"\"\",\n",
        "                    },\n",
        "                ],\n",
        "                retry=False\n",
        "            )\n"
      ]
    },
    {
      "cell_type": "code",
      "source": [],
      "metadata": {
        "id": "_88e3bAmXzOS"
      },
      "execution_count": null,
      "outputs": []
    },
    {
      "cell_type": "code",
      "source": [
        "gds_db.construct_cypher(\"how many bricks in the project?\")"
      ],
      "metadata": {
        "colab": {
          "base_uri": "https://localhost:8080/"
        },
        "id": "YZzuZ0EaS0CP",
        "outputId": "0262d1c7-a6ec-4e11-eb59-5e78e0c4cd42"
      },
      "execution_count": 46,
      "outputs": [
        {
          "output_type": "execute_result",
          "data": {
            "text/plain": [
              "[{'role': 'system',\n",
              "  'content': \"\\n        Task: Generate Cypher queries to query a Neo4j graph database based on the provided schema definition.\\n        Instructions:\\n        Use only the provided relationship types and properties.\\n        Do not use any other relationship types or properties that are not provided.\\n        If you cannot generate a Cypher statement based on the provided schema, explain the reason to the user.\\n        Schema:\\n        \\n  This is the schema representation of the Neo4j database.\\n  Node properties are the following:\\n  [['output'], [{'labels': 'IfcPropertySingleValue', 'properties': ['nid', 'Name', 'NominalValue']}], [{'labels': 'IfcExtendedMaterialProperties', 'properties': ['nid', 'Name']}], [{'labels': 'IfcRelConnectsPathElements', 'properties': ['nid', 'GlobalId', 'Name', 'RelatingConnectionType', 'Description', 'RelatedConnectionType']}], [{'labels': 'IfcRelAssociatesClassification', 'properties': ['nid', 'GlobalId', 'Name']}], [{'labels': 'IfcPresentationLayerAssignment', 'properties': ['nid', 'Name']}], [{'labels': 'IfcRelDefinesByProperties', 'properties': ['nid', 'GlobalId']}]]\\n  Relationship properties are the following:\\n  [['output']]\\n  Relationship point from source to target nodes\\n  [['output']]\\n  Make sure to respect relationship types and directions\\n  \\n\\n        Note: Do not include any explanations or apologies in your responses.\\n        \"},\n",
              " {'role': 'user', 'content': 'how many bricks in the project?'}]"
            ]
          },
          "metadata": {},
          "execution_count": 46
        }
      ]
    },
    {
      "cell_type": "code",
      "source": [
        "from unsloth.chat_templates import get_chat_template\n",
        "from datasets import load_dataset\n",
        "from unsloth import FastLanguageModel\n",
        "model, tokenizer = FastLanguageModel.from_pretrained(\n",
        "    model_name = inference_model_name, # YOUR MODEL YOU USED FOR TRAINING\n",
        "    max_seq_length = max_seq_length,\n",
        "    dtype = dtype,\n",
        "    load_in_4bit = load_in_4bit,\n",
        ")\n",
        "FastLanguageModel.for_inference(model) # Enable native 2x faster inference\n"
      ],
      "metadata": {
        "colab": {
          "base_uri": "https://localhost:8080/",
          "height": 590,
          "referenced_widgets": [
            "ce4c8fd99251465fa92c3fa50bc39883",
            "9c6f836a811f468f84004e037dc1bcd9",
            "0240d6d660384ddaa1529b4ae59e529d",
            "23581ce383434bd39b7a9f2c49d8ea4f",
            "3bf22de561c845b7ae06de9d722d670e",
            "3c30bcd38196496c9599afeda3fb1a00",
            "334c878ce3f447169f0ccaab5b6b35a0",
            "dd872c19994a4c85961b205a24320c12",
            "d62a105429674b81960f9d2302d55b23",
            "757d999bbf4245b1b4e7b3f281a9d88c",
            "f6b2927413c24fe28dc7cacd123519a4",
            "b0da3e97edec4b7291f6c861852c358e",
            "f91758a57f9a4d8d82362813e83b28ce",
            "dde087a835ef4576a7529ffff174c67f",
            "4820fbbdf2ae42bf81617ccaabecf7c6",
            "adbe8d762ad74406879ed71715d60078",
            "85b39c8c43b4437e804e24a41b36286e",
            "f402ee367a174986b93b6a308923c942",
            "6a2abaa148384cd985d73a5505f06bea",
            "42c47115d1c84938a0c3eec43b39cfc3",
            "7c78ae83a01f4ec6b77a64bc33ede892",
            "112b0c3435a548a4b182c0e65af6729c",
            "afdf3f5fa32d4d528213f27bd4eb6012",
            "0274cd1cbf2042aaa59d2d2d5aa39e51",
            "1670344b9b0849d2a21b42ea28905711",
            "722ff6ceef6a441f99bb51560127f54f",
            "3675f7f63d074d628c649a1b4f6decd7",
            "c4d888b90a504050b5da6dd9c4bb905c",
            "61a2e16cab214e54a47b290bab0d0c8c",
            "3458f80d747f43358200a591d708599a",
            "a1424acf1805416eb0c8480bf0e8ddd9",
            "14cd79ab59b740678c1ebb37c9c0ef18",
            "20ad0e678ebf4acdb8aa9637e46afedf",
            "30134d8fe3cf469a90aa3e7def33b8e9",
            "29125df014f04be6854ce5ac0a101257",
            "da4c23b9895d482d8bdce9007c265d00",
            "d330cf6c077f404c8fa81ebc834fa0c1",
            "dea897f3c5964a16aca0be705386c014",
            "20274d73b71840a7941f2c4c4a0d6ef4",
            "91305faf2b704faabcfddf98de44df1e",
            "227a6cfa93ad419fb980fbf8a36a18b0",
            "bbc84fd2e47446bea0408983febb04da",
            "a12760440a8e4069966cd7b59d38642f",
            "a4b1e5a425f1489c8ae3af05a8b7aed2",
            "8c33be295b6f4bef86952bf9a591fc57",
            "b5bff6440387439ea67fbb662f284a7b",
            "15ce24c1ce594ded88a90cd1fa5e3ff9",
            "30c9c2e3939346c0a2cf236738410098",
            "f6a29eb8ea9b489bb5185ffb8cbf8e92",
            "3d98dcc7059648ddb1b3ebcff55edc20",
            "4ddb3a61880f453a91f9867affe4c0d3",
            "a4c9c980abb54bc5a16cad3773f360f6",
            "af37bbd6bf694911add6c7d47ca34a40",
            "6affc2c9f3064df399c14a0203a34055",
            "2ee9e33be68a42ca94188e4c3babcbcf",
            "3ce25f333e2a4ff59323f122ab2ed966",
            "826a0442eb9341bb9e2cf2248116483b",
            "7cb461f647d14e18837241fc4a2c25d8",
            "ccb3edde458c4fe7aa86d52af427b0a7",
            "ce2f460e467743eda10b3f14490080c5",
            "bae8875d6a8d45e68e8ead3fd34c6361",
            "a3400a96a6fb4910aab8fa6fd075bdb0",
            "b78b7cbeb6f248e7a4ed41dd6f67772d",
            "e76d9e2ecaf94053acf233767e494f90",
            "8b2c0f34d535482b93f3f52b582a019d",
            "2c6163e0fb16448188ac2b2cc050d478",
            "558334d252744ab4b870eeb8ffdcedac",
            "c0db7dde96fe401ca54577ba3c23f902",
            "d68e3043ac32424cb8e0ca49090098eb",
            "18dd68acfb4e4cfa9625a74a17d4067b",
            "4eeaedce92a44687b2d7835d7de2ac05",
            "b57ebc68ceb846c08569cec00b699228",
            "e9b0bc6e117344bd865065c87b725eae",
            "1f566dde2e934390bde8795ac3cbd1b1",
            "eba76ff021b2424aa1c9125bcd129204",
            "8c1ee387663842858238a124cdd6ec31",
            "318ca124a3d94f75a266ca67e48554ef",
            "a613b2c5819a484cae5d7e4d1d5dc875",
            "4ab517ba04e5448aac53bf17f06b8e68",
            "d9a504d361524f86a997b493f7c9efe0",
            "f815a5dd8b534b36ab2dbfa176d52337",
            "0596943aaeaa4904a801e225e3dbf538",
            "238200b28bd1484e9bd318f7d4a18ac3",
            "e4d8e9588c634e8680ca4b76e592a705",
            "b7f640879fc34a08aacacc6890912db4",
            "6f8e53b51ca64a3f94471bccc0be59a0",
            "afe8fcb7e378423da568af2928e5b076",
            "efff68d495b74ad8a34cd95ac91946e5",
            "ae065ddc88c94db3b80ece18bdbab96d",
            "65d9751910aa49689c8c0819c433df79",
            "ad2a4745e95f47bd80957b501aedf320",
            "36b73cc03b434c909618aa0cf8f79567",
            "c5af03c3cfba4b939b92bc5e846cc322",
            "5e9d4614418e4049abc82fe62ef97e97",
            "cb7b130c9f5841c2bb85e6bf3a955ac0",
            "b5ca51db15dd4306bee693c4cbf59c3b",
            "d150026c38bd498ea268f69ca6046dee",
            "81521bc8409045ed8afed7a1e669ef0a",
            "1db9697fac454e719a8a2d2a5680680f",
            "7ad18b446d4144acacc6f9de815df842",
            "f5ee0d011e6a48fe8b50189bc450e4d6",
            "ed3dd320a27b4e618178c5017003b5dc",
            "a94e6f1fe1cb421888f2ad4f9ed0a325",
            "d6fd1350150a4c9e86d834bc9036ae09",
            "00c9b6d3e35349688b7ec138fc47b9aa",
            "b30884d6ce2640c2ac51bf04a3d8c924",
            "4b7963c2f1604fc8a8e8c8cc52e8f968",
            "b81cc5ac4fc543ebaf1358984a81ed2a",
            "4e2462efafb744e59b05d00f67d85c27",
            "23eb3c4661ae45239396022f784bc2e1",
            "7046ccc8911b456580e063ed83797c6e",
            "022b7455c4e14e3a88dc256f5a7b664d",
            "514ca17bc5e94cda85981ecb273ebcd9",
            "801ff06fd17642838a2473c84a6daa65",
            "9d3204fae6f24dada5730a71f502a6e3",
            "8d18ff6157794225a8839b3e7ef5f01a",
            "536c483ab5504dd1b846e098967edc7d",
            "3ffea3f347364af3848ef88b3fd5d955",
            "7748291a5d6e408e94af876f390cf540",
            "6a3d92019254420aa41c51f5cdf80560",
            "d53a08f04b534c47b8345680a20c45f5",
            "6c64afcac574495c8c9297cdb2a44533",
            "9008194dfdb446bf8ae164640fa69bf9",
            "611f8fc5e3d44b21b6564f74d326f9f2",
            "0445b76275c94bd5873ab7632c218a3b",
            "e0da574700a54c18a55fa860df0cf5d2",
            "f1aef337c7274049bbebe272c738cfa7",
            "e5299ad3b78c4df3b500017b83903728",
            "7dfd2e5cd16b4be598a362c491a01302",
            "5667719ee1f94a24b7b66bc7f7947bba",
            "837221413ccd404fa030236f42edb895",
            "fe60aaf02a52493c81c1a5ff86c29fb9",
            "5d239b77442a4564bb713678aac0c4b0",
            "b257d9d9a0cc4dd1a850cc371f78d1ab",
            "e2db461c1ed74c6590dd2c46ee643845",
            "8dee1bb41d8642e6abe80a54fc596378",
            "147189dd20734b03b6e36bb45d76c7cf",
            "8bf818e4a0e149b09d651d5c08db9985",
            "4692c61983f040a38f8bd5a50ac5df06",
            "22e641c1a94940b69b3d03ed563e9dc6",
            "101d6997cbd443af917ae411577ab229",
            "c1d13d00b5404f3789d2d05b462977ac",
            "ef27d405c0104622a7dd121f2b4efb3f",
            "6a92c63023ec4d939445da4f9118297e",
            "9240b695b95f433aa6e2561ae499612a",
            "92f797e8a12e4df38bc5efe181de9811",
            "fe215b5678694718886efe6dfadcfcf9",
            "b7a6a59c4dbc4b4a816026767588d42a",
            "22d0cf7d05ab46399c890213eb0da019",
            "8103f2bb407647d299908ab33e924f37",
            "5d62b69e962143cfa3315cfabccbebea",
            "3037af615dbe4f47b3f473c8fc9e3cdc",
            "37c681211f29483599aea77e1e98c1cf",
            "4148162b739e4f9895537df5ebd5f3f5"
          ]
        },
        "id": "h-abzkcCopiX",
        "outputId": "fa391e6e-6f72-4383-ca2b-9bed57ab2f36"
      },
      "execution_count": 7,
      "outputs": [
        {
          "output_type": "stream",
          "name": "stdout",
          "text": [
            "🦥 Unsloth: Will patch your computer to enable 2x faster free finetuning.\n"
          ]
        },
        {
          "output_type": "display_data",
          "data": {
            "text/plain": [
              "adapter_config.json:   0%|          | 0.00/735 [00:00<?, ?B/s]"
            ],
            "application/vnd.jupyter.widget-view+json": {
              "version_major": 2,
              "version_minor": 0,
              "model_id": "ce4c8fd99251465fa92c3fa50bc39883"
            }
          },
          "metadata": {}
        },
        {
          "output_type": "display_data",
          "data": {
            "text/plain": [
              "config.json:   0%|          | 0.00/627 [00:00<?, ?B/s]"
            ],
            "application/vnd.jupyter.widget-view+json": {
              "version_major": 2,
              "version_minor": 0,
              "model_id": "b0da3e97edec4b7291f6c861852c358e"
            }
          },
          "metadata": {}
        },
        {
          "output_type": "stream",
          "name": "stdout",
          "text": [
            "==((====))==  Unsloth: Fast Mistral patching release 2024.7\n",
            "   \\\\   /|    GPU: Tesla T4. Max memory: 14.748 GB. Platform = Linux.\n",
            "O^O/ \\_/ \\    Pytorch: 2.3.1+cu121. CUDA = 7.5. CUDA Toolkit = 12.1.\n",
            "\\        /    Bfloat16 = FALSE. FA [Xformers = 0.0.26.post1. FA2 = False]\n",
            " \"-____-\"     Free Apache license: http://github.com/unslothai/unsloth\n"
          ]
        },
        {
          "output_type": "display_data",
          "data": {
            "text/plain": [
              "model.safetensors.index.json:   0%|          | 0.00/23.9k [00:00<?, ?B/s]"
            ],
            "application/vnd.jupyter.widget-view+json": {
              "version_major": 2,
              "version_minor": 0,
              "model_id": "afdf3f5fa32d4d528213f27bd4eb6012"
            }
          },
          "metadata": {}
        },
        {
          "output_type": "display_data",
          "data": {
            "text/plain": [
              "Downloading shards:   0%|          | 0/2 [00:00<?, ?it/s]"
            ],
            "application/vnd.jupyter.widget-view+json": {
              "version_major": 2,
              "version_minor": 0,
              "model_id": "30134d8fe3cf469a90aa3e7def33b8e9"
            }
          },
          "metadata": {}
        },
        {
          "output_type": "display_data",
          "data": {
            "text/plain": [
              "model-00001-of-00002.safetensors:   0%|          | 0.00/4.99G [00:00<?, ?B/s]"
            ],
            "application/vnd.jupyter.widget-view+json": {
              "version_major": 2,
              "version_minor": 0,
              "model_id": "8c33be295b6f4bef86952bf9a591fc57"
            }
          },
          "metadata": {}
        },
        {
          "output_type": "display_data",
          "data": {
            "text/plain": [
              "model-00002-of-00002.safetensors:   0%|          | 0.00/2.65G [00:00<?, ?B/s]"
            ],
            "application/vnd.jupyter.widget-view+json": {
              "version_major": 2,
              "version_minor": 0,
              "model_id": "3ce25f333e2a4ff59323f122ab2ed966"
            }
          },
          "metadata": {}
        },
        {
          "output_type": "display_data",
          "data": {
            "text/plain": [
              "Loading checkpoint shards:   0%|          | 0/2 [00:00<?, ?it/s]"
            ],
            "application/vnd.jupyter.widget-view+json": {
              "version_major": 2,
              "version_minor": 0,
              "model_id": "558334d252744ab4b870eeb8ffdcedac"
            }
          },
          "metadata": {}
        },
        {
          "output_type": "display_data",
          "data": {
            "text/plain": [
              "generation_config.json:   0%|          | 0.00/145 [00:00<?, ?B/s]"
            ],
            "application/vnd.jupyter.widget-view+json": {
              "version_major": 2,
              "version_minor": 0,
              "model_id": "a613b2c5819a484cae5d7e4d1d5dc875"
            }
          },
          "metadata": {}
        },
        {
          "output_type": "display_data",
          "data": {
            "text/plain": [
              "tokenizer_config.json:   0%|          | 0.00/3.34k [00:00<?, ?B/s]"
            ],
            "application/vnd.jupyter.widget-view+json": {
              "version_major": 2,
              "version_minor": 0,
              "model_id": "ae065ddc88c94db3b80ece18bdbab96d"
            }
          },
          "metadata": {}
        },
        {
          "output_type": "display_data",
          "data": {
            "text/plain": [
              "tokenizer.model:   0%|          | 0.00/500k [00:00<?, ?B/s]"
            ],
            "application/vnd.jupyter.widget-view+json": {
              "version_major": 2,
              "version_minor": 0,
              "model_id": "7ad18b446d4144acacc6f9de815df842"
            }
          },
          "metadata": {}
        },
        {
          "output_type": "display_data",
          "data": {
            "text/plain": [
              "added_tokens.json:   0%|          | 0.00/293 [00:00<?, ?B/s]"
            ],
            "application/vnd.jupyter.widget-view+json": {
              "version_major": 2,
              "version_minor": 0,
              "model_id": "7046ccc8911b456580e063ed83797c6e"
            }
          },
          "metadata": {}
        },
        {
          "output_type": "display_data",
          "data": {
            "text/plain": [
              "special_tokens_map.json:   0%|          | 0.00/571 [00:00<?, ?B/s]"
            ],
            "application/vnd.jupyter.widget-view+json": {
              "version_major": 2,
              "version_minor": 0,
              "model_id": "6c64afcac574495c8c9297cdb2a44533"
            }
          },
          "metadata": {}
        },
        {
          "output_type": "display_data",
          "data": {
            "text/plain": [
              "tokenizer.json:   0%|          | 0.00/1.84M [00:00<?, ?B/s]"
            ],
            "application/vnd.jupyter.widget-view+json": {
              "version_major": 2,
              "version_minor": 0,
              "model_id": "5d239b77442a4564bb713678aac0c4b0"
            }
          },
          "metadata": {}
        },
        {
          "output_type": "display_data",
          "data": {
            "text/plain": [
              "adapter_model.safetensors:   0%|          | 0.00/120M [00:00<?, ?B/s]"
            ],
            "application/vnd.jupyter.widget-view+json": {
              "version_major": 2,
              "version_minor": 0,
              "model_id": "6a92c63023ec4d939445da4f9118297e"
            }
          },
          "metadata": {}
        },
        {
          "output_type": "stream",
          "name": "stderr",
          "text": [
            "Unsloth 2024.7 patched 32 layers with 32 QKV layers, 32 O layers and 32 MLP layers.\n"
          ]
        }
      ]
    },
    {
      "cell_type": "code",
      "source": [
        "gds_db = Neo4jGPTQuery(\n",
        "    url=neo4j_uri,\n",
        "    user=neo4j_username,\n",
        "    password=neo4j_password,\n",
        "    model=model,\n",
        "    tokenizer=tokenizer\n",
        ")"
      ],
      "metadata": {
        "id": "7CA8Is0OX5uw"
      },
      "execution_count": 63,
      "outputs": []
    },
    {
      "cell_type": "code",
      "source": [
        "gds_db.run(\"how many buildings in the project?\")"
      ],
      "metadata": {
        "colab": {
          "base_uri": "https://localhost:8080/",
          "height": 688
        },
        "id": "RMgy70K7YOmN",
        "outputId": "0eedd813-7c80-4fe9-9a33-9be5960f114a"
      },
      "execution_count": 66,
      "outputs": [
        {
          "output_type": "stream",
          "name": "stdout",
          "text": [
            "<s><|system|> Task: Generate Cypher queries to query a Neo4j graph database based on the provided schema definition.\n",
            "        Instructions:\n",
            "        Use only the provided relationship types and properties.\n",
            "        Do not use any other relationship types or properties that are not provided.\n",
            "        If you cannot generate a Cypher statement based on the provided schema, explain the reason to the user.\n",
            "        Schema:\n",
            "        \n",
            "  This is the schema representation of the Neo4j database.\n",
            "  Node properties are the following:\n",
            "  [['output'], [{'labels': 'IfcPropertySingleValue', 'properties': ['nid', 'Name', 'NominalValue']}], [{'labels': 'IfcExtendedMaterialProperties', 'properties': ['nid', 'Name']}], [{'labels': 'IfcRelConnectsPathElements', 'properties': ['nid', 'GlobalId', 'Name', 'RelatingConnectionType', 'Description', 'RelatedConnectionType']}], [{'labels': 'IfcRelAssociatesClassification', 'properties': ['nid', 'GlobalId', 'Name']}], [{'labels': 'IfcPresentationLayerAssignment', 'properties': ['nid', 'Name']}], [{'labels': 'IfcRelDefinesByProperties', 'properties': ['nid', 'GlobalId']}]]\n",
            "  Relationship properties are the following:\n",
            "  [['output']]\n",
            "  Relationship point from source to target nodes\n",
            "  [['output']]\n",
            "  Make sure to respect relationship types and directions\n",
            "  \n",
            "\n",
            "        Note: Do not include any explanations or apologies in your responses.\n",
            "        <|end|><|user|> how many buildings in the project?<|end|><|assistant|> MATCH (b:IfcBuilding)\n",
            "RETURN COUNT(b)<|end|><|endoftext|>\n",
            "[\"<s><|system|> Task: Generate Cypher queries to query a Neo4j graph database based on the provided schema definition.\\n        Instructions:\\n        Use only the provided relationship types and properties.\\n        Do not use any other relationship types or properties that are not provided.\\n        If you cannot generate a Cypher statement based on the provided schema, explain the reason to the user.\\n        Schema:\\n        \\n  This is the schema representation of the Neo4j database.\\n  Node properties are the following:\\n  [['output'], [{'labels': 'IfcPropertySingleValue', 'properties': ['nid', 'Name', 'NominalValue']}], [{'labels': 'IfcExtendedMaterialProperties', 'properties': ['nid', 'Name']}], [{'labels': 'IfcRelConnectsPathElements', 'properties': ['nid', 'GlobalId', 'Name', 'RelatingConnectionType', 'Description', 'RelatedConnectionType']}], [{'labels': 'IfcRelAssociatesClassification', 'properties': ['nid', 'GlobalId', 'Name']}], [{'labels': 'IfcPresentationLayerAssignment', 'properties': ['nid', 'Name']}], [{'labels': 'IfcRelDefinesByProperties', 'properties': ['nid', 'GlobalId']}]]\\n  Relationship properties are the following:\\n  [['output']]\\n  Relationship point from source to target nodes\\n  [['output']]\\n  Make sure to respect relationship types and directions\\n  \\n\\n        Note: Do not include any explanations or apologies in your responses.\\n        <|end|><|user|> how many buildings in the project?<|end|><|assistant|> MATCH (b:IfcBuilding)\\nRETURN COUNT(b)<|end|><|endoftext|>\"]\n"
          ]
        },
        {
          "output_type": "error",
          "ename": "TypeError",
          "evalue": "query must be a string or a Query instance",
          "traceback": [
            "\u001b[0;31m---------------------------------------------------------------------------\u001b[0m",
            "\u001b[0;31mTypeError\u001b[0m                                 Traceback (most recent call last)",
            "\u001b[0;32m<ipython-input-66-93574756df2d>\u001b[0m in \u001b[0;36m<cell line: 1>\u001b[0;34m()\u001b[0m\n\u001b[0;32m----> 1\u001b[0;31m \u001b[0mgds_db\u001b[0m\u001b[0;34m.\u001b[0m\u001b[0mrun\u001b[0m\u001b[0;34m(\u001b[0m\u001b[0;34m\"how many buildings in the project?\"\u001b[0m\u001b[0;34m)\u001b[0m\u001b[0;34m\u001b[0m\u001b[0;34m\u001b[0m\u001b[0m\n\u001b[0m",
            "\u001b[0;32m<ipython-input-62-24a7b9332238>\u001b[0m in \u001b[0;36mrun\u001b[0;34m(self, question, history, retry)\u001b[0m\n\u001b[1;32m     88\u001b[0m         \u001b[0mprint\u001b[0m\u001b[0;34m(\u001b[0m\u001b[0mcypher\u001b[0m\u001b[0;34m)\u001b[0m\u001b[0;34m\u001b[0m\u001b[0;34m\u001b[0m\u001b[0m\n\u001b[1;32m     89\u001b[0m         \u001b[0;32mtry\u001b[0m\u001b[0;34m:\u001b[0m\u001b[0;34m\u001b[0m\u001b[0;34m\u001b[0m\u001b[0m\n\u001b[0;32m---> 90\u001b[0;31m             \u001b[0;32mreturn\u001b[0m \u001b[0mself\u001b[0m\u001b[0;34m.\u001b[0m\u001b[0mquery_database\u001b[0m\u001b[0;34m(\u001b[0m\u001b[0mcypher\u001b[0m\u001b[0;34m)\u001b[0m\u001b[0;34m\u001b[0m\u001b[0;34m\u001b[0m\u001b[0m\n\u001b[0m\u001b[1;32m     91\u001b[0m         \u001b[0;31m# Self-healing flow\u001b[0m\u001b[0;34m\u001b[0m\u001b[0;34m\u001b[0m\u001b[0m\n\u001b[1;32m     92\u001b[0m         \u001b[0;32mexcept\u001b[0m \u001b[0mCypherSyntaxError\u001b[0m \u001b[0;32mas\u001b[0m \u001b[0me\u001b[0m\u001b[0;34m:\u001b[0m\u001b[0;34m\u001b[0m\u001b[0;34m\u001b[0m\u001b[0m\n",
            "\u001b[0;32m<ipython-input-62-24a7b9332238>\u001b[0m in \u001b[0;36mquery_database\u001b[0;34m(self, neo4j_query, params)\u001b[0m\n\u001b[1;32m     50\u001b[0m     \u001b[0;32mdef\u001b[0m \u001b[0mquery_database\u001b[0m\u001b[0;34m(\u001b[0m\u001b[0mself\u001b[0m\u001b[0;34m,\u001b[0m \u001b[0mneo4j_query\u001b[0m\u001b[0;34m,\u001b[0m \u001b[0mparams\u001b[0m\u001b[0;34m=\u001b[0m\u001b[0;34m{\u001b[0m\u001b[0;34m}\u001b[0m\u001b[0;34m)\u001b[0m\u001b[0;34m:\u001b[0m\u001b[0;34m\u001b[0m\u001b[0;34m\u001b[0m\u001b[0m\n\u001b[1;32m     51\u001b[0m         \u001b[0;32mwith\u001b[0m \u001b[0mself\u001b[0m\u001b[0;34m.\u001b[0m\u001b[0mdriver\u001b[0m\u001b[0;34m.\u001b[0m\u001b[0msession\u001b[0m\u001b[0;34m(\u001b[0m\u001b[0;34m)\u001b[0m \u001b[0;32mas\u001b[0m \u001b[0msession\u001b[0m\u001b[0;34m:\u001b[0m\u001b[0;34m\u001b[0m\u001b[0;34m\u001b[0m\u001b[0m\n\u001b[0;32m---> 52\u001b[0;31m             \u001b[0mresult\u001b[0m \u001b[0;34m=\u001b[0m \u001b[0msession\u001b[0m\u001b[0;34m.\u001b[0m\u001b[0mrun\u001b[0m\u001b[0;34m(\u001b[0m\u001b[0mneo4j_query\u001b[0m\u001b[0;34m,\u001b[0m \u001b[0mparams\u001b[0m\u001b[0;34m)\u001b[0m\u001b[0;34m\u001b[0m\u001b[0;34m\u001b[0m\u001b[0m\n\u001b[0m\u001b[1;32m     53\u001b[0m             \u001b[0moutput\u001b[0m \u001b[0;34m=\u001b[0m \u001b[0;34m[\u001b[0m\u001b[0mr\u001b[0m\u001b[0;34m.\u001b[0m\u001b[0mvalues\u001b[0m\u001b[0;34m(\u001b[0m\u001b[0;34m)\u001b[0m \u001b[0;32mfor\u001b[0m \u001b[0mr\u001b[0m \u001b[0;32min\u001b[0m \u001b[0mresult\u001b[0m\u001b[0;34m]\u001b[0m\u001b[0;34m\u001b[0m\u001b[0;34m\u001b[0m\u001b[0m\n\u001b[1;32m     54\u001b[0m             \u001b[0moutput\u001b[0m\u001b[0;34m.\u001b[0m\u001b[0minsert\u001b[0m\u001b[0;34m(\u001b[0m\u001b[0;36m0\u001b[0m\u001b[0;34m,\u001b[0m \u001b[0mresult\u001b[0m\u001b[0;34m.\u001b[0m\u001b[0mkeys\u001b[0m\u001b[0;34m(\u001b[0m\u001b[0;34m)\u001b[0m\u001b[0;34m)\u001b[0m\u001b[0;34m\u001b[0m\u001b[0;34m\u001b[0m\u001b[0m\n",
            "\u001b[0;32m/usr/local/lib/python3.10/dist-packages/neo4j/_sync/work/session.py\u001b[0m in \u001b[0;36mrun\u001b[0;34m(self, query, parameters, **kwargs)\u001b[0m\n\u001b[1;32m    290\u001b[0m             \u001b[0;32mraise\u001b[0m \u001b[0mValueError\u001b[0m\u001b[0;34m(\u001b[0m\u001b[0;34m\"Cannot run an empty query\"\u001b[0m\u001b[0;34m)\u001b[0m\u001b[0;34m\u001b[0m\u001b[0;34m\u001b[0m\u001b[0m\n\u001b[1;32m    291\u001b[0m         \u001b[0;32mif\u001b[0m \u001b[0;32mnot\u001b[0m \u001b[0misinstance\u001b[0m\u001b[0;34m(\u001b[0m\u001b[0mquery\u001b[0m\u001b[0;34m,\u001b[0m \u001b[0;34m(\u001b[0m\u001b[0mstr\u001b[0m\u001b[0;34m,\u001b[0m \u001b[0mQuery\u001b[0m\u001b[0;34m)\u001b[0m\u001b[0;34m)\u001b[0m\u001b[0;34m:\u001b[0m\u001b[0;34m\u001b[0m\u001b[0;34m\u001b[0m\u001b[0m\n\u001b[0;32m--> 292\u001b[0;31m             \u001b[0;32mraise\u001b[0m \u001b[0mTypeError\u001b[0m\u001b[0;34m(\u001b[0m\u001b[0;34m\"query must be a string or a Query instance\"\u001b[0m\u001b[0;34m)\u001b[0m\u001b[0;34m\u001b[0m\u001b[0;34m\u001b[0m\u001b[0m\n\u001b[0m\u001b[1;32m    293\u001b[0m \u001b[0;34m\u001b[0m\u001b[0m\n\u001b[1;32m    294\u001b[0m         \u001b[0;32mif\u001b[0m \u001b[0mself\u001b[0m\u001b[0;34m.\u001b[0m\u001b[0m_transaction\u001b[0m\u001b[0;34m:\u001b[0m\u001b[0;34m\u001b[0m\u001b[0;34m\u001b[0m\u001b[0m\n",
            "\u001b[0;31mTypeError\u001b[0m: query must be a string or a Query instance"
          ]
        }
      ]
    },
    {
      "cell_type": "code",
      "source": [
        "from unsloth.chat_templates import get_chat_template\n",
        "from datasets import load_dataset\n",
        "base_model=\"phi-3\"\n",
        "tokenizer1 = get_chat_template(\n",
        "    tokenizer,\n",
        "    chat_template = base_model, # Supports zephyr, chatml, mistral, llama, alpaca, vicuna, vicuna_old, unsloth\n",
        ")"
      ],
      "metadata": {
        "id": "Vo2v7q9TM64_"
      },
      "execution_count": 16,
      "outputs": []
    },
    {
      "cell_type": "code",
      "source": [
        "hf_dataset=\"tomasonjo/text2cypher-gpt4o-clean\"\n",
        "def formatting_prompts_func(examples):\n",
        "    texts = []\n",
        "    for question, cypher, schema in zip(examples['question'], examples['cypher'], examples['schema']):\n",
        "        convo = [\n",
        "            {\"role\": \"system\", \"content\": \"Given an input question, convert it to a Cypher query. No pre-amble.\"},\n",
        "            {\"role\": \"user\", \"content\": f\"\"\"Based on the Neo4j graph schema below, write a Cypher query that would answer the user's question:\n",
        "{schema}\n",
        "\n",
        "Question: {question}\n",
        "Cypher query:\"\"\"},\n",
        "            {\"role\": \"assistant\", \"content\": f\"{cypher}\"}\n",
        "        ]\n",
        "        text = tokenizer1.apply_chat_template(convo, tokenize = True, add_generation_prompt = False)\n",
        "        texts.append(text)\n",
        "    return { \"text\" : texts }\n"
      ],
      "metadata": {
        "id": "aKNwuBjLNLbC"
      },
      "execution_count": 19,
      "outputs": []
    },
    {
      "cell_type": "code",
      "source": [
        "hf_dataset=\"tomasonjo/text2cypher-gpt4o-clean\"\n",
        "\n",
        "dataset = load_dataset(hf_dataset, split = \"test\")\n",
        "dataset1 = dataset.map(formatting_prompts_func, batched = True,)"
      ],
      "metadata": {
        "colab": {
          "base_uri": "https://localhost:8080/",
          "height": 49,
          "referenced_widgets": [
            "82e3ae1d5c2744169348c492fb8346f3",
            "f961dad0f661455bbb7820d0b6783c64",
            "d76fedae85b64c69a879b0740aacec5e",
            "089915e45c674d1b84dd4555aa3ea674",
            "8eaa1e6982d347168f9d81fc3f136291",
            "bbc70483d7874a9995044de19ca5d05f",
            "8e1bcea07338428f88f34ee819f57852",
            "cc3029e9a92f46fdbf0bc190c805d5c3",
            "ac791075d2d640ae88e23b9bd1ea69da",
            "a5261e0f7415422797a9a021c4b92e5d",
            "7e254d304dea48faadd9f0f776475396"
          ]
        },
        "id": "rgfqwPftN152",
        "outputId": "16777ab4-11f5-4a93-c68a-5f38e10bb2bb"
      },
      "execution_count": 20,
      "outputs": [
        {
          "output_type": "display_data",
          "data": {
            "text/plain": [
              "Map:   0%|          | 0/7735 [00:00<?, ? examples/s]"
            ],
            "application/vnd.jupyter.widget-view+json": {
              "version_major": 2,
              "version_minor": 0,
              "model_id": "82e3ae1d5c2744169348c492fb8346f3"
            }
          },
          "metadata": {}
        }
      ]
    },
    {
      "cell_type": "code",
      "source": [
        "messages = [\n",
        "      {\"role\": \"system\", \"content\": \"Given an input question, convert it to a Cypher query. No pre-amble.\"},\n",
        "      {\"role\": \"user\", \"content\": f\"\"\"Based on the Neo4j graph schema below, write a Cypher query that would answer the user's question:\n",
        "{schema}\n",
        "\n",
        "Question: {\"how many doors in the project?\"}\n",
        "Cypher query:\"\"\"}\n",
        "]\n",
        "inputs = tokenizer.apply_chat_template(\n",
        "    messages,\n",
        "    tokenize = True,\n",
        "    add_generation_prompt = True, # Must add for generation\n",
        "    return_tensors = \"pt\",\n",
        ").to(\"cuda\")\n",
        "\n",
        "from transformers import TextStreamer\n",
        "text_streamer = TextStreamer(tokenizer)\n",
        "outputs = model.generate(input_ids = inputs, streamer = text_streamer, max_new_tokens = 128, use_cache = True)\n",
        "tokenizer.batch_decode(outputs)"
      ],
      "metadata": {
        "colab": {
          "base_uri": "https://localhost:8080/"
        },
        "id": "aNpMFML5JGAw",
        "outputId": "58e919e4-65ce-41bd-dc29-5eb8821acbae"
      },
      "execution_count": 51,
      "outputs": [
        {
          "output_type": "stream",
          "name": "stdout",
          "text": [
            "<s><|system|> Given an input question, convert it to a Cypher query. No pre-amble.<|end|><|user|> Based on the Neo4j graph schema below, write a Cypher query that would answer the user's question:\n",
            "\n",
            "  This is the schema representation of the Neo4j database.\n",
            "  Node properties are the following:\n",
            "  [['output'], [{'labels': 'IfcPropertySingleValue', 'properties': ['nid', 'Name', 'NominalValue']}], [{'labels': 'IfcExtendedMaterialProperties', 'properties': ['nid', 'Name']}], [{'labels': 'IfcRelConnectsPathElements', 'properties': ['nid', 'GlobalId', 'Name', 'RelatingConnectionType', 'Description', 'RelatedConnectionType']}], [{'labels': 'IfcRelAssociatesClassification', 'properties': ['nid', 'GlobalId', 'Name']}], [{'labels': 'IfcPresentationLayerAssignment', 'properties': ['nid', 'Name']}], [{'labels': 'IfcRelDefinesByProperties', 'properties': ['nid', 'GlobalId']}]]\n",
            "  Relationship properties are the following:\n",
            "  [['output']]\n",
            "  Relationship point from source to target nodes\n",
            "  [['output']]\n",
            "  Make sure to respect relationship types and directions\n",
            "  \n",
            "\n",
            "Question: how many doors in the project?\n",
            "Cypher query:<|end|><|assistant|> MATCH (p:IfcPropertySingleValue {Name: 'Door U-Value'})<-[:HAS_PROPERTY]-(d:IfcProduct)\n",
            "RETURN COUNT(d) AS door_count<|end|><|endoftext|>\n"
          ]
        },
        {
          "output_type": "execute_result",
          "data": {
            "text/plain": [
              "[\"<s><|system|> Given an input question, convert it to a Cypher query. No pre-amble.<|end|><|user|> Based on the Neo4j graph schema below, write a Cypher query that would answer the user's question:\\n\\n  This is the schema representation of the Neo4j database.\\n  Node properties are the following:\\n  [['output'], [{'labels': 'IfcPropertySingleValue', 'properties': ['nid', 'Name', 'NominalValue']}], [{'labels': 'IfcExtendedMaterialProperties', 'properties': ['nid', 'Name']}], [{'labels': 'IfcRelConnectsPathElements', 'properties': ['nid', 'GlobalId', 'Name', 'RelatingConnectionType', 'Description', 'RelatedConnectionType']}], [{'labels': 'IfcRelAssociatesClassification', 'properties': ['nid', 'GlobalId', 'Name']}], [{'labels': 'IfcPresentationLayerAssignment', 'properties': ['nid', 'Name']}], [{'labels': 'IfcRelDefinesByProperties', 'properties': ['nid', 'GlobalId']}]]\\n  Relationship properties are the following:\\n  [['output']]\\n  Relationship point from source to target nodes\\n  [['output']]\\n  Make sure to respect relationship types and directions\\n  \\n\\nQuestion: how many doors in the project?\\nCypher query:<|end|><|assistant|> MATCH (p:IfcPropertySingleValue {Name: 'Door U-Value'})<-[:HAS_PROPERTY]-(d:IfcProduct)\\nRETURN COUNT(d) AS door_count<|end|><|endoftext|>\"]"
            ]
          },
          "metadata": {},
          "execution_count": 51
        }
      ]
    },
    {
      "cell_type": "code",
      "source": [
        "tokenizer.batch_decode(outputs)"
      ],
      "metadata": {
        "colab": {
          "base_uri": "https://localhost:8080/",
          "height": 125
        },
        "id": "5OUjTresJaHs",
        "outputId": "f32ab4ac-f68f-41c2-f86c-f1ec0a294b14"
      },
      "execution_count": 61,
      "outputs": [
        {
          "output_type": "execute_result",
          "data": {
            "text/plain": [
              "\"<s><|system|> Given an input question, convert it to a Cypher query. No pre-amble.<|end|><|user|> Based on the Neo4j graph schema below, write a Cypher query that would answer the user's question:\\n\\n  This is the schema representation of the Neo4j database.\\n  Node properties are the following:\\n  [['output'], [{'labels': 'IfcPropertySingleValue', 'properties': ['nid', 'Name', 'NominalValue']}], [{'labels': 'IfcExtendedMaterialProperties', 'properties': ['nid', 'Name']}], [{'labels': 'IfcRelConnectsPathElements', 'properties': ['nid', 'GlobalId', 'Name', 'RelatingConnectionType', 'Description', 'RelatedConnectionType']}], [{'labels': 'IfcRelAssociatesClassification', 'properties': ['nid', 'GlobalId', 'Name']}], [{'labels': 'IfcPresentationLayerAssignment', 'properties': ['nid', 'Name']}], [{'labels': 'IfcRelDefinesByProperties', 'properties': ['nid', 'GlobalId']}]]\\n  Relationship properties are the following:\\n  [['output']]\\n  Relationship point from source to target nodes\\n  [['output']]\\n  Make sure to respect relationship types and directions\\n  \\n\\nQuestion: how many doors in the project?\\nCypher query:<|end|><|assistant|> MATCH (p:IfcPropertySingleValue {Name: 'Door U-Value'})<-[:HAS_PROPERTY]-(d:IfcProduct)\\nRETURN COUNT(d) AS door_count<|end|><|endoftext|>\""
            ],
            "application/vnd.google.colaboratory.intrinsic+json": {
              "type": "string"
            }
          },
          "metadata": {},
          "execution_count": 61
        }
      ]
    },
    {
      "cell_type": "code",
      "source": [
        "tokenizer1 = get_chat_template(\n",
        "    tokenizer,\n",
        "    chat_template = \"chatml\", # Supports zephyr, chatml, mistral, llama, alpaca, vicuna, vicuna_old, unsloth\n",
        "    mapping = {\"role\" : \"from\", \"content\" : \"value\", \"user\" : \"human\", \"assistant\" : \"gpt\"}, # ShareGPT style\n",
        "    map_eos_token = True, # Maps <|im_end|> to </s> instead\n",
        "\n",
        ")"
      ],
      "metadata": {
        "id": "i6MA5JA5Ip4x"
      },
      "execution_count": null,
      "outputs": []
    },
    {
      "cell_type": "code",
      "source": [
        "def chat_with_model(input_question, schema=schema):\n",
        "    messages = [\n",
        "        {\"role\": \"system\", \"content\": \"Given an input question, convert it to a Cypher query. No pre-amble.\"},\n",
        "        {\"role\": \"user\", \"content\": f\"\"\"Based on the Neo4j graph schema below, write a Cypher query that would answer the user's question:\n",
        "{schema}\n",
        "\n",
        "Question: {input_question}\n",
        "Cypher query:\"\"\"}\n",
        "    ]\n",
        "\n",
        "    # Apply chat template and tokenize\n",
        "    inputs = tokenizer.apply_chat_template(\n",
        "        messages,\n",
        "        tokenize=True,\n",
        "        add_generation_prompt=True,  # Must add for generation\n",
        "        return_tensors=\"pt\",\n",
        "    ).to(\"cuda\")\n",
        "\n",
        "    # Generate response\n",
        "    outputs = model.generate(\n",
        "        input_ids=inputs.input_ids,\n",
        "        max_new_tokens=64,\n",
        "        use_cache=True\n",
        "    )\n",
        "\n",
        "    # Decode and return the response\n",
        "    decoded_responses = tokenizer.batch_decode(outputs, skip_special_tokens=True)\n",
        "    return decoded_responses[0] if decoded_responses else \"No response generated.\""
      ],
      "metadata": {
        "id": "_vJV7A6Vope_"
      },
      "execution_count": 16,
      "outputs": []
    },
    {
      "cell_type": "code",
      "source": [
        "input_question=\"how many storeys in the project?\"\n",
        "schema =gds_db.schema\n",
        "chat_with_model(  input_question, schema)\n",
        "\n"
      ],
      "metadata": {
        "colab": {
          "base_uri": "https://localhost:8080/",
          "height": 198
        },
        "id": "rl7FJORAopb0",
        "outputId": "d344e2c1-a4fc-4e7e-db0e-7ceb925840ca"
      },
      "execution_count": 13,
      "outputs": [
        {
          "output_type": "error",
          "ename": "NameError",
          "evalue": "name 'chat_with_model' is not defined",
          "traceback": [
            "\u001b[0;31m---------------------------------------------------------------------------\u001b[0m",
            "\u001b[0;31mNameError\u001b[0m                                 Traceback (most recent call last)",
            "\u001b[0;32m<ipython-input-13-ba0c44a2affc>\u001b[0m in \u001b[0;36m<cell line: 3>\u001b[0;34m()\u001b[0m\n\u001b[1;32m      1\u001b[0m \u001b[0minput_question\u001b[0m\u001b[0;34m=\u001b[0m\u001b[0;34m\"how many storeys in the project?\"\u001b[0m\u001b[0;34m\u001b[0m\u001b[0;34m\u001b[0m\u001b[0m\n\u001b[1;32m      2\u001b[0m \u001b[0mschema\u001b[0m \u001b[0;34m=\u001b[0m\u001b[0mgds_db\u001b[0m\u001b[0;34m.\u001b[0m\u001b[0mschema\u001b[0m\u001b[0;34m\u001b[0m\u001b[0;34m\u001b[0m\u001b[0m\n\u001b[0;32m----> 3\u001b[0;31m \u001b[0mchat_with_model\u001b[0m\u001b[0;34m(\u001b[0m  \u001b[0minput_question\u001b[0m\u001b[0;34m,\u001b[0m \u001b[0mschema\u001b[0m\u001b[0;34m)\u001b[0m\u001b[0;34m\u001b[0m\u001b[0;34m\u001b[0m\u001b[0m\n\u001b[0m\u001b[1;32m      4\u001b[0m \u001b[0;34m\u001b[0m\u001b[0m\n",
            "\u001b[0;31mNameError\u001b[0m: name 'chat_with_model' is not defined"
          ]
        }
      ]
    },
    {
      "cell_type": "code",
      "source": [],
      "metadata": {
        "id": "I_34iErXopUk"
      },
      "execution_count": null,
      "outputs": []
    },
    {
      "cell_type": "code",
      "source": [
        "gds_db.schema"
      ],
      "metadata": {
        "colab": {
          "base_uri": "https://localhost:8080/",
          "height": 107
        },
        "id": "goGFV2jmopKX",
        "outputId": "7e412584-1356-4cac-8005-e745da88d757"
      },
      "execution_count": 45,
      "outputs": [
        {
          "output_type": "execute_result",
          "data": {
            "text/plain": [
              "\"\\n  This is the schema representation of the Neo4j database.\\n  Node properties are the following:\\n  [['output'], [{'labels': 'IfcPropertySingleValue', 'properties': ['nid', 'Name', 'NominalValue']}], [{'labels': 'IfcExtendedMaterialProperties', 'properties': ['nid', 'Name']}], [{'labels': 'IfcRelConnectsPathElements', 'properties': ['nid', 'GlobalId', 'Name', 'RelatingConnectionType', 'Description', 'RelatedConnectionType']}], [{'labels': 'IfcRelAssociatesClassification', 'properties': ['nid', 'GlobalId', 'Name']}], [{'labels': 'IfcPresentationLayerAssignment', 'properties': ['nid', 'Name']}], [{'labels': 'IfcRelDefinesByProperties', 'properties': ['nid', 'GlobalId']}]]\\n  Relationship properties are the following:\\n  [['output']]\\n  Relationship point from source to target nodes\\n  [['output']]\\n  Make sure to respect relationship types and directions\\n  \""
            ],
            "application/vnd.google.colaboratory.intrinsic+json": {
              "type": "string"
            }
          },
          "metadata": {},
          "execution_count": 45
        }
      ]
    },
    {
      "cell_type": "code",
      "execution_count": 44,
      "metadata": {
        "id": "NZTTW3TkpKFY"
      },
      "outputs": [],
      "source": [
        "gds_db = Neo4jGPTQuery(\n",
        "    url=neo4j_uri,\n",
        "    user=neo4j_username,\n",
        "    password=neo4j_password\n",
        ")\n"
      ]
    },
    {
      "cell_type": "markdown",
      "metadata": {
        "id": "aD4z9PW7a8i-"
      },
      "source": [
        "Now we can begin our experiment. First, we will begin with a simple question."
      ]
    },
    {
      "cell_type": "code",
      "source": [
        "inputs = tokenizer.apply_chat_template(\n",
        "    messages,\n",
        "    tokenize = True,\n",
        "    add_generation_prompt = True, # Must add for generation\n",
        "    return_tensors = \"pt\",\n",
        ").to(\"cuda\")"
      ],
      "metadata": {
        "id": "xeETIvx6l0wJ"
      },
      "execution_count": null,
      "outputs": []
    },
    {
      "cell_type": "code",
      "execution_count": null,
      "metadata": {
        "colab": {
          "base_uri": "https://localhost:8080/",
          "height": 109
        },
        "id": "TyBNV92QqeUn",
        "outputId": "b05ee3f5-7662-4733-a90b-f1ab9d1408cc"
      },
      "outputs": [
        {
          "output_type": "stream",
          "name": "stdout",
          "text": [
            "I'm sorry, but the provided schema does not contain any information about bricks. Therefore, it's not possible to generate a Cypher query to count the number of bricks in the project.\n",
            "Retrying\n",
            "I'm sorry, but the provided schema does not contain any information about bricks. Therefore, it's not possible to generate a Cypher query to count the number of bricks in the project.\n"
          ]
        },
        {
          "output_type": "execute_result",
          "data": {
            "text/plain": [
              "'Invalid Cypher syntax'"
            ],
            "application/vnd.google.colaboratory.intrinsic+json": {
              "type": "string"
            }
          },
          "metadata": {},
          "execution_count": 53
        }
      ],
      "source": [
        "gds_db.run(\"\"\"\n",
        "how many bricks in the project?\n",
        "\"\"\")"
      ]
    },
    {
      "cell_type": "markdown",
      "metadata": {
        "id": "Qm67jPVaa-u4"
      },
      "source": [
        "Great start. The Cypher statement was correctly generated, and we found that London has six airports. Next, let's try something more complex."
      ]
    },
    {
      "cell_type": "code",
      "execution_count": null,
      "metadata": {
        "colab": {
          "base_uri": "https://localhost:8080/"
        },
        "id": "QLbBT4zVrkgS",
        "outputId": "c9a4e5b8-7761-43fe-df29-7829a14d9783"
      },
      "outputs": [
        {
          "name": "stdout",
          "output_type": "stream",
          "text": [
            "MATCH (a:Airport)-[r:HAS_ROUTE]->(:Airport)\n",
            "WITH a, count(r) as num_flights\n",
            "RETURN min(num_flights) as min_flights, max(num_flights) as max_flights, avg(num_flights) as avg_flights, stDev(num_flights) as stddev_flights\n"
          ]
        },
        {
          "data": {
            "text/plain": [
              "[['min_flights', 'max_flights', 'avg_flights', 'stddev_flights'],\n",
              " [1, 307, 20.905362776025285, 38.28730861505158]]"
            ]
          },
          "execution_count": 7,
          "metadata": {},
          "output_type": "execute_result"
        }
      ],
      "source": [
        "gds_db.run(\"\"\"\n",
        "calculate the minimum, maximum, average, and standard deviation of the number of flights out of each airport.\n",
        "\"\"\")"
      ]
    },
    {
      "cell_type": "markdown",
      "metadata": {
        "id": "Ci3zSR8ZbBN9"
      },
      "source": [
        "Quite nice. The GPT-4 model correctly assumed that flights relate to the HAS_ROUTE relationship. Additionally, it accurately aggregates flights per airport, then calculates the specified metrics.\n",
        "\n",
        "Let's now throw it a curveball. We will ask the model to calculate the variance since Cypher doesn't have any built-in function to calculate the variance."
      ]
    },
    {
      "cell_type": "code",
      "execution_count": null,
      "metadata": {
        "colab": {
          "base_uri": "https://localhost:8080/",
          "height": 111
        },
        "id": "OpnkI_laEMda",
        "outputId": "8ecb6490-5e61-4d94-f803-2d10df74776b"
      },
      "outputs": [
        {
          "name": "stdout",
          "output_type": "stream",
          "text": [
            "The provided schema does not have information about the number of flights for each airport. Therefore, it is not possible to calculate the variance of the number of flights out of each airport using the given schema.\n",
            "Retrying\n",
            "As mentioned earlier, the provided schema does not have information about the number of flights for each airport. Therefore, it is not possible to create a query to calculate the variance of the number of flights out of each airport using the given schema.\n"
          ]
        },
        {
          "data": {
            "application/vnd.google.colaboratory.intrinsic+json": {
              "type": "string"
            },
            "text/plain": [
              "'Invalid Cypher syntax'"
            ]
          },
          "execution_count": 8,
          "metadata": {},
          "output_type": "execute_result"
        }
      ],
      "source": [
        "gds_db.run(\"\"\"\n",
        "calculate the variance of the number of flights out of each airport.\n",
        "\"\"\")"
      ]
    },
    {
      "cell_type": "markdown",
      "metadata": {
        "id": "PHk4gjdebFEg"
      },
      "source": [
        "First of all, GPT-4 provided explanations when explicitly told not to. Secondly, neither Cypher statements make any sense. In this example, even the self-healing flow didn't succeed since we are not dealing with a Cypher syntax error but a GPT-4 system malfunction.\n",
        "\n",
        "I have noticed that GPT-4 struggles when it needs to perform multiple aggregations using different grouping keys in a single Cypher statement. Here it wanted to split the statement into two parts (which don't work either), but in other cases it wants to borrow syntax from SQL.\n",
        "\n",
        "However, GPT-4 is quite obedient and provides the specified results from the database as instructed by the user."
      ]
    },
    {
      "cell_type": "code",
      "execution_count": null,
      "metadata": {
        "colab": {
          "base_uri": "https://localhost:8080/"
        },
        "id": "h_IxUkoIykhd",
        "outputId": "f6e60bb7-7a0c-4d5a-f7a7-448adda75d26"
      },
      "outputs": [
        {
          "name": "stdout",
          "output_type": "stream",
          "text": [
            "MATCH (atl:Airport {iata: \"ATL\"}), (iah:Airport {iata: \"IAH\"}), path = shortestPath((atl)-[:HAS_ROUTE*]-(iah))\n",
            "WITH nodes(path) AS airports\n",
            "UNWIND airports AS airport\n",
            "RETURN {iata: airport.iata, runways: airport.runways} AS airportInfo\n"
          ]
        },
        {
          "data": {
            "text/plain": [
              "[['airportInfo'],\n",
              " [{'iata': 'ATL', 'runways': 5}],\n",
              " [{'iata': 'IAH', 'runways': 5}]]"
            ]
          },
          "execution_count": 9,
          "metadata": {},
          "output_type": "execute_result"
        }
      ],
      "source": [
        "gds_db.run(\"\"\"\n",
        "Find the shortest route between ATL and IAH airports\n",
        "and return only the iata and runways property of the nodes as a map object\n",
        "\"\"\")"
      ]
    },
    {
      "cell_type": "markdown",
      "metadata": {
        "id": "e2VDhhXxbJyR"
      },
      "source": [
        "Here is where the power of GPT-4 shines. The more specific we are in what we want to find and how we want the results to be structured, the better it works.\n",
        "We can also test if it knows how to use the GDS library."
      ]
    },
    {
      "cell_type": "code",
      "execution_count": null,
      "metadata": {
        "colab": {
          "base_uri": "https://localhost:8080/"
        },
        "id": "7S6rkSYzufWM",
        "outputId": "b5d75083-5198-4ca6-b873-e7718f735f73"
      },
      "outputs": [
        {
          "name": "stdout",
          "output_type": "stream",
          "text": [
            "CALL gds.betweenness.stream({\n",
            "  nodeProjection: 'Airport',\n",
            "  relationshipProjection: {\n",
            "    HAS_ROUTE: {\n",
            "      type: 'HAS_ROUTE',\n",
            "      orientation: 'UNDIRECTED'\n",
            "    }\n",
            "  }\n",
            "})\n",
            "YIELD nodeId, score\n",
            "RETURN gds.util.asNode(nodeId).id AS airportId, score\n",
            "ORDER BY score DESC\n"
          ]
        }
      ],
      "source": [
        "print(gds_db.construct_cypher(\"\"\"\n",
        "Calculate the betweenness centrality of airports using the Graph Data Science library\n",
        "\"\"\"))"
      ]
    },
    {
      "cell_type": "markdown",
      "metadata": {
        "id": "55cxuibdbNhl"
      },
      "source": [
        "Well, the constructed Cypher statement looks fine. However, there is only one problem. The generated Cypher statement uses the anonymous graph projection, which was deprecated and removed in GDS v2. Here we see some issues arising from GPT-4's knowledge cutoff date. Unfortunately, it looks like GDS v2 was released after the knowledge cutoff date, and therefore the new syntax is not baked into GPT-4. Therefore, at the moment, the GPT-4 model doesn't provide valid GDS procedures.\n",
        "\n",
        "If you pay attention, you will also notice that GPT-4 never uses the Cypher subquery syntax, which is again another syntax change that was added after the knowledge cutoff date.\n",
        "\n",
        "Interestingly, if you calculate any of the values from graph algorithms and store them as node property, the GPT-4 has no problem retrieving that."
      ]
    },
    {
      "cell_type": "code",
      "execution_count": null,
      "metadata": {
        "colab": {
          "base_uri": "https://localhost:8080/"
        },
        "id": "6DPu-MyYwFa7",
        "outputId": "b3829b72-16a5-40d9-ac95-61d9d11ce17b"
      },
      "outputs": [
        {
          "name": "stdout",
          "output_type": "stream",
          "text": [
            "MATCH (a:Airport)\n",
            "RETURN a.descr, a.pagerank\n",
            "ORDER BY a.pagerank DESC\n",
            "LIMIT 5\n"
          ]
        },
        {
          "data": {
            "text/plain": [
              "[['a.descr', 'a.pagerank'],\n",
              " ['Dallas/Fort Worth International Airport', 11.97978260670334],\n",
              " [\"Chicago O'Hare International Airport\", 11.162988178920267],\n",
              " ['Denver International Airport', 10.997299338126387],\n",
              " ['Hartsfield - Jackson Atlanta International Airport', 10.389948350302957],\n",
              " ['Istanbul International Airport', 8.42580121770578]]"
            ]
          },
          "execution_count": 11,
          "metadata": {},
          "output_type": "execute_result"
        }
      ],
      "source": [
        "gds_db.run(\"\"\"\n",
        "Use PageRank to find the five most important airports and return their descr and pagerank value\n",
        "\"\"\")"
      ]
    },
    {
      "cell_type": "markdown",
      "metadata": {
        "id": "D2U9HoJobWBi"
      },
      "source": [
        "The healthcare graph schema revolves around adverse drug event cases. Therefore, each case is related to relevant drugs. In addition, other information is available such as the age group, outcome, and reaction. Here, I took the examples from the sandbox guide as I am not familiar with the adverse drug events domain."
      ]
    },
    {
      "cell_type": "code",
      "execution_count": null,
      "metadata": {
        "id": "UsKiPnx1wy8Z"
      },
      "outputs": [],
      "source": [
        "hc_db = Neo4jGPTQuery(\n",
        "    url=\"bolt://3.216.123.73:7687\",\n",
        "    user=\"neo4j\",\n",
        "    password=\"reenlistment-superstructures-shafts\",\n",
        "    openai_api_key=openai_key,\n",
        ")"
      ]
    },
    {
      "cell_type": "code",
      "execution_count": null,
      "metadata": {
        "colab": {
          "base_uri": "https://localhost:8080/"
        },
        "id": "ch0QpKzb491V",
        "outputId": "14eecb9d-cc15-44a6-bca5-34cefdb02a1a"
      },
      "outputs": [
        {
          "name": "stdout",
          "output_type": "stream",
          "text": [
            "MATCH (c:Case)-[:HAS_REACTION]->(r:Reaction)\n",
            "RETURN r.description as SideEffect, COUNT(*) as Frequency\n",
            "ORDER BY Frequency DESC\n",
            "LIMIT 5\n"
          ]
        },
        {
          "data": {
            "text/plain": [
              "[['SideEffect', 'Frequency'],\n",
              " ['Fatigue', 303],\n",
              " ['Product dose omission issue', 285],\n",
              " ['Headache', 272],\n",
              " ['Nausea', 256],\n",
              " ['Pain', 253]]"
            ]
          },
          "execution_count": 13,
          "metadata": {},
          "output_type": "execute_result"
        }
      ],
      "source": [
        "hc_db.run(\"\"\"\n",
        "What are the top 5 side effects reported?\n",
        "\"\"\")"
      ]
    },
    {
      "cell_type": "markdown",
      "metadata": {
        "id": "Tapjpf0HbaO6"
      },
      "source": [
        "It would be interesting to learn how did GPT-4 know that side effects can be found as the Reaction nodes. Even I couldn't find that without any details about the graph. Are there graph out there with similar schema, or is the knowledge cutoff date of GPT-4 not that accurate? Or does it only have great intuition to find relevant data based on node labels and their properties.\n",
        "\n",
        "Let's try something more complex."
      ]
    },
    {
      "cell_type": "code",
      "execution_count": null,
      "metadata": {
        "colab": {
          "base_uri": "https://localhost:8080/"
        },
        "id": "bMEOMI0n5aT5",
        "outputId": "7d91e1a7-69ca-4d9c-c9e1-71401113f74c"
      },
      "outputs": [
        {
          "name": "stdout",
          "output_type": "stream",
          "text": [
            "MATCH (m:Manufacturer)-[:REGISTERED]->(c:Case)-[:HAS_REACTION]->(r:Reaction)\n",
            "RETURN m.manufacturerName, COUNT(r) as sideEffectsCount\n",
            "ORDER BY sideEffectsCount DESC\n",
            "LIMIT 3\n"
          ]
        },
        {
          "data": {
            "text/plain": [
              "[['m.manufacturerName', 'sideEffectsCount'],\n",
              " ['TAKEDA', 5058],\n",
              " ['PFIZER', 3219],\n",
              " ['NOVARTIS', 1823]]"
            ]
          },
          "execution_count": 14,
          "metadata": {},
          "output_type": "execute_result"
        }
      ],
      "source": [
        "hc_db.run(\"\"\"\n",
        "What are the top 3 manufacturing companies with the most reported side effects?\n",
        "\"\"\")"
      ]
    },
    {
      "cell_type": "markdown",
      "metadata": {
        "id": "7-uxtXJWbeGH"
      },
      "source": [
        "Here, we can see that GPT-4 is very specific in our request. Since we are asking for the count of reported side effects, it expands to Reaction nodes and counts them. On the other hand, we could request only the number of cases."
      ]
    },
    {
      "cell_type": "code",
      "execution_count": null,
      "metadata": {
        "colab": {
          "base_uri": "https://localhost:8080/"
        },
        "id": "gUBIsss9PXLd",
        "outputId": "3fdf29a7-e4fb-4985-bc57-ece657f4762b"
      },
      "outputs": [
        {
          "name": "stdout",
          "output_type": "stream",
          "text": [
            "MATCH (m:Manufacturer)-[:REGISTERED]->(c:Case)\n",
            "RETURN m.manufacturerName, COUNT(c) as case_count\n",
            "ORDER BY case_count DESC\n",
            "LIMIT 3\n"
          ]
        },
        {
          "data": {
            "text/plain": [
              "[['m.manufacturerName', 'case_count'],\n",
              " ['TAKEDA', 617],\n",
              " ['CELGENE', 572],\n",
              " ['PFIZER', 513]]"
            ]
          },
          "execution_count": 15,
          "metadata": {},
          "output_type": "execute_result"
        }
      ],
      "source": [
        "hc_db.run(\"\"\"\n",
        "What are the top 3 manufacturing companies with the most reported cases?\n",
        "\"\"\")"
      ]
    },
    {
      "cell_type": "markdown",
      "metadata": {
        "id": "qjwYZA2GbgOk"
      },
      "source": [
        "Now, lets do something where GPT-4 has to do both filtering and aggregating."
      ]
    },
    {
      "cell_type": "code",
      "execution_count": null,
      "metadata": {
        "colab": {
          "base_uri": "https://localhost:8080/"
        },
        "id": "0SVUT8l95sVo",
        "outputId": "1f6d09a5-b3d4-47bc-d48d-042b398a81ca"
      },
      "outputs": [
        {
          "name": "stdout",
          "output_type": "stream",
          "text": [
            "MATCH (d:Drug)-[:IS_PRIMARY_SUSPECT|:IS_SECONDARY_SUSPECT|:IS_CONCOMITANT|:IS_INTERACTING]->(c:Case)-[:RESULTED_IN]->(o:Outcome)\n",
            "WHERE o.outcome = \"Death\"\n",
            "RETURN d.name, COUNT(*) as count\n",
            "ORDER BY count DESC\n",
            "LIMIT 5\n"
          ]
        },
        {
          "data": {
            "text/plain": [
              "[['d.name', 'count']]"
            ]
          },
          "execution_count": 16,
          "metadata": {},
          "output_type": "execute_result"
        }
      ],
      "source": [
        "hc_db.run(\"\"\"\n",
        "What are the top 5 drugs whose side effects resulted in Death of patients as an outcome?\n",
        "\"\"\")"
      ]
    },
    {
      "cell_type": "markdown",
      "metadata": {
        "id": "EdFQGZADTTCW"
      },
      "source": [
        "Something that happens sometimes is that GPT-4 messes up the relationship direction. For example, the relationships from the Drug to the Case node should have a reverse direction. Additionally, the Sandbox guide uses only the IS_PRIMARY_SUSPECT relationship type, but we can't blame the GPT-4 model due to the question's ambiguity.\n",
        "\n",
        "Note that GPT-4 is not deterministic. Therefore, it may return correct relationship directions and sometimes not. For me, it worked correctly one day and not the other. However, I got consistent results within the same day, so who knows what is happening behind the scenes.\n",
        "\n",
        "What I found interesting is that the GPT-4 model knew that the outcome property contains information about the death of patients. But more than that, it knew that the death value should be capitalized, which makes me think the model saw this dataset in one form or another.\n",
        "\n",
        "## Custom astronomical dataset\n",
        "I have decided to construct a custom astronomical dataset that the model definitely hasn't seen during its training since it didn't exist until I started writing this post. It is very tiny, but good enough to test out GPT-4 generalization ability. I have created a [blank project on Neo4j Sandbox](https://sandbox.neo4j.com/?usecase=blank-sandbox) and then seeded the database with the following script."
      ]
    },
    {
      "cell_type": "code",
      "execution_count": null,
      "metadata": {
        "id": "3Ceh2OEh6JMR"
      },
      "outputs": [],
      "source": [
        "astro_db = Neo4jGPTQuery(\n",
        "    url=\"bolt://35.171.160.87:7687\",\n",
        "    user=\"neo4j\",\n",
        "    password=\"discontinuance-fifths-sports\",\n",
        "    openai_api_key=openai_key,\n",
        ")"
      ]
    },
    {
      "cell_type": "code",
      "execution_count": null,
      "metadata": {
        "id": "w8GjNAPnTd8k"
      },
      "outputs": [],
      "source": [
        "url = \"https://gist.githubusercontent.com/tomasonjo/52b2da916ef5cd1c2adf0ad62cc71a26/raw/a3a8716f7b28f3a82ce59e6e7df28389e3cb33cb/astro.cql\"\n",
        "astro_db.query_database(\"CALL apoc.cypher.runFile($url)\", {'url':url})\n",
        "astro_db.refresh_schema()"
      ]
    },
    {
      "cell_type": "markdown",
      "metadata": {
        "id": "pRsVNCkxbt2Z"
      },
      "source": [
        "The constructed graph has the following schema.\n",
        "\n",
        "![Screenshot from 2023-04-26 22-43-17.png](data:image/png;base64,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)\n",
        "\n",
        "The database contains planets within our solar system that orbit the sun. Additionally, satellites like ISS, the moon, and Hubble Telescope are included."
      ]
    },
    {
      "cell_type": "code",
      "execution_count": null,
      "metadata": {
        "colab": {
          "base_uri": "https://localhost:8080/"
        },
        "id": "i-nFUrbfT7Zp",
        "outputId": "8aeace90-e748-46c4-e5a1-0fba731e8b96"
      },
      "outputs": [
        {
          "name": "stdout",
          "output_type": "stream",
          "text": [
            "MATCH (ao:AstronomicalObject {name: \"Earth\"})<-[:ORBITS]-(o)\n",
            "RETURN o.name, labels(o)\n"
          ]
        },
        {
          "data": {
            "text/plain": [
              "[['o.name', 'labels(o)'],\n",
              " ['Hubble Space Telescope', ['Satellite']],\n",
              " ['ISS', ['Satellite']],\n",
              " ['Moon', ['Satellite']]]"
            ]
          },
          "execution_count": 19,
          "metadata": {},
          "output_type": "execute_result"
        }
      ],
      "source": [
        "astro_db.run(\"\"\"\n",
        "What orbits the Earth?\n",
        "\"\"\")"
      ]
    },
    {
      "cell_type": "markdown",
      "metadata": {
        "id": "YQXN8CRNb1j1"
      },
      "source": [
        "Remember, the GPT-4 only know that there are satellites and astronomical objects in the database. Astronomical objects orbit other astronomical objects, while satellites can only orbit objects. It looks like it used its knowledge to assume that only a satellite would orbit the Earth, which is impressive. We can observe that GPT-4 probably makes a lot of assumption based on its baked knowledge to help us with our queries.\n",
        "\n",
        "Let's dig deeper."
      ]
    },
    {
      "cell_type": "code",
      "execution_count": null,
      "metadata": {
        "colab": {
          "base_uri": "https://localhost:8080/"
        },
        "id": "hU7agLmMUUOa",
        "outputId": "f842f49c-c764-49ac-cc11-39e0720ac178"
      },
      "outputs": [
        {
          "name": "stdout",
          "output_type": "stream",
          "text": [
            "MATCH (s:Satellite {name: \"ISS\"})-[:ORBITS]->(a:AstronomicalObject {name: \"Sun\"})\n",
            "RETURN s.name as Satellite, a.name as AstronomicalObject\n"
          ]
        },
        {
          "data": {
            "text/plain": [
              "[['Satellite', 'AstronomicalObject']]"
            ]
          },
          "execution_count": 20,
          "metadata": {},
          "output_type": "execute_result"
        }
      ],
      "source": [
        "astro_db.run(\"\"\"\n",
        "Does ISS orbits the Sun?\n",
        "\"\"\")"
      ]
    },
    {
      "cell_type": "markdown",
      "metadata": {
        "id": "XYizIkKHb4JP"
      },
      "source": [
        "So, the ISS doesn't directly orbit the sun. We can rephrase our question."
      ]
    },
    {
      "cell_type": "code",
      "execution_count": null,
      "metadata": {
        "colab": {
          "base_uri": "https://localhost:8080/"
        },
        "id": "l6RY0-1jXyyK",
        "outputId": "b244c722-09b4-41d8-960b-f28bd785c3bf"
      },
      "outputs": [
        {
          "name": "stdout",
          "output_type": "stream",
          "text": [
            "MATCH path = (iss:Satellite {name: \"ISS\"})-[:ORBITS*]->(sun:AstronomicalObject {name: \"Sun\"})\n",
            "RETURN [node in nodes(path) | node.name] AS path_names\n"
          ]
        },
        {
          "data": {
            "text/plain": [
              "[['path_names'], [['ISS', 'Earth', 'Sun']]]"
            ]
          },
          "execution_count": 21,
          "metadata": {},
          "output_type": "execute_result"
        }
      ],
      "source": [
        "astro_db.run(\"\"\"\n",
        "Does ISS orbits the Sun? Find any path between them\n",
        "and return names of nodes in the path\n",
        "\"\"\")"
      ]
    },
    {
      "cell_type": "markdown",
      "metadata": {
        "id": "iIwY3cBtb7X3"
      },
      "source": [
        "Now, it uses a variable-length path pattern to find if ISS orbits the sun by proxy. Of course, we gave it a hint to use that, but it is still remarkable. For the final example, let's observe how good GPT-4 is at guessing never-seen-before property values."
      ]
    },
    {
      "cell_type": "code",
      "execution_count": null,
      "metadata": {
        "colab": {
          "base_uri": "https://localhost:8080/",
          "height": 239
        },
        "id": "_gdrePY_b_wz",
        "outputId": "66b2469c-0848-49b9-de21-942e214bf0e3"
      },
      "outputs": [
        {
          "name": "stdout",
          "output_type": "stream",
          "text": [
            "To find the altitude difference between ISS and Hubble telescope, you can use the following Cypher query:\n",
            "\n",
            "```cypher\n",
            "MATCH (s1:Satellite {name: \"ISS\"}), (s2:Satellite {name: \"Hubble Telescope\"})\n",
            "RETURN abs(s1.altitude - s2.altitude) as altitude_difference\n",
            "```\n",
            "Retrying\n",
            "```cypher\n",
            "MATCH (s1:Satellite {name: \"ISS\"}), (s2:Satellite {name: \"Hubble Telescope\"})\n",
            "RETURN abs(s1.altitude - s2.altitude) as altitude_difference\n",
            "```\n"
          ]
        },
        {
          "data": {
            "application/vnd.google.colaboratory.intrinsic+json": {
              "type": "string"
            },
            "text/plain": [
              "'Invalid Cypher syntax'"
            ]
          },
          "execution_count": 22,
          "metadata": {},
          "output_type": "execute_result"
        }
      ],
      "source": [
        "astro_db.run(\"\"\"\n",
        "What's the altitude difference between ISS and Hubble telescope\n",
        "\"\"\")"
      ]
    },
    {
      "cell_type": "markdown",
      "metadata": {
        "id": "Gq1a80BHb-Oc"
      },
      "source": [
        "To tell you the truth, I am kind of relieved GPT-4 didn't guess correctly that Hubble is stored in the database as \"Hubble Space Telescope\". Other than that, the generated Cypher statement is perfectly valid.\n",
        "Summary\n",
        "GPT-4 has a great potential to generate Cypher statements based on only the provided graph schema. My opinion is that it has seen a lot of datasets and graph models during its training, so it is kind of good at guessing which properties to use and sometimes even their values. However, you can always provide the model with instructions about which properties to use and specify the exact values if the model isn't performing well on your specific graph model. The limitations I have observed during this experiment are the following:\n",
        "* Multiple aggregations with different grouping keys are a problem\n",
        "* Version two of the Graph Data Science library is beyond the knowledge cutoff date\n",
        "* Sometimes it messes up the relationship direction (not frequently, though)\n",
        "* The non-deterministic nature of GPT-4 makes it feel like you are dealing with a horoscope-based model, where identical queries work in the morning but not in the afternoon\n",
        "* Sometimes the model bypasses system instructions and provides explanations for queries\n",
        "\n",
        "Using the schema-only approach to GPT-4 can be used for experimental setups to help developers or researchers that don't have malicious intents to interact with the graph database. On the other hand, if you want to build something more production-ready, I would recommend using the approach of providing examples of Cypher statements."
      ]
    },
    {
      "cell_type": "code",
      "execution_count": null,
      "metadata": {
        "id": "U_WPbddjWVEc"
      },
      "outputs": [],
      "source": []
    }
  ],
  "metadata": {
    "colab": {
      "provenance": [],
      "gpuType": "T4",
      "include_colab_link": true
    },
    "kernelspec": {
      "display_name": "Python 3",
      "name": "python3"
    },
    "language_info": {
      "codemirror_mode": {
        "name": "ipython",
        "version": 3
      },
      "file_extension": ".py",
      "mimetype": "text/x-python",
      "name": "python",
      "nbconvert_exporter": "python",
      "pygments_lexer": "ipython3",
      "version": "3.11.5"
    },
    "accelerator": "GPU",
    "widgets": {
      "application/vnd.jupyter.widget-state+json": {
        "ce4c8fd99251465fa92c3fa50bc39883": {
          "model_module": "@jupyter-widgets/controls",
          "model_name": "HBoxModel",
          "model_module_version": "1.5.0",
          "state": {
            "_dom_classes": [],
            "_model_module": "@jupyter-widgets/controls",
            "_model_module_version": "1.5.0",
            "_model_name": "HBoxModel",
            "_view_count": null,
            "_view_module": "@jupyter-widgets/controls",
            "_view_module_version": "1.5.0",
            "_view_name": "HBoxView",
            "box_style": "",
            "children": [
              "IPY_MODEL_9c6f836a811f468f84004e037dc1bcd9",
              "IPY_MODEL_0240d6d660384ddaa1529b4ae59e529d",
              "IPY_MODEL_23581ce383434bd39b7a9f2c49d8ea4f"
            ],
            "layout": "IPY_MODEL_3bf22de561c845b7ae06de9d722d670e"
          }
        },
        "9c6f836a811f468f84004e037dc1bcd9": {
          "model_module": "@jupyter-widgets/controls",
          "model_name": "HTMLModel",
          "model_module_version": "1.5.0",
          "state": {
            "_dom_classes": [],
            "_model_module": "@jupyter-widgets/controls",
            "_model_module_version": "1.5.0",
            "_model_name": "HTMLModel",
            "_view_count": null,
            "_view_module": "@jupyter-widgets/controls",
            "_view_module_version": "1.5.0",
            "_view_name": "HTMLView",
            "description": "",
            "description_tooltip": null,
            "layout": "IPY_MODEL_3c30bcd38196496c9599afeda3fb1a00",
            "placeholder": "​",
            "style": "IPY_MODEL_334c878ce3f447169f0ccaab5b6b35a0",
            "value": "adapter_config.json: 100%"
          }
        },
        "0240d6d660384ddaa1529b4ae59e529d": {
          "model_module": "@jupyter-widgets/controls",
          "model_name": "FloatProgressModel",
          "model_module_version": "1.5.0",
          "state": {
            "_dom_classes": [],
            "_model_module": "@jupyter-widgets/controls",
            "_model_module_version": "1.5.0",
            "_model_name": "FloatProgressModel",
            "_view_count": null,
            "_view_module": "@jupyter-widgets/controls",
            "_view_module_version": "1.5.0",
            "_view_name": "ProgressView",
            "bar_style": "success",
            "description": "",
            "description_tooltip": null,
            "layout": "IPY_MODEL_dd872c19994a4c85961b205a24320c12",
            "max": 735,
            "min": 0,
            "orientation": "horizontal",
            "style": "IPY_MODEL_d62a105429674b81960f9d2302d55b23",
            "value": 735
          }
        },
        "23581ce383434bd39b7a9f2c49d8ea4f": {
          "model_module": "@jupyter-widgets/controls",
          "model_name": "HTMLModel",
          "model_module_version": "1.5.0",
          "state": {
            "_dom_classes": [],
            "_model_module": "@jupyter-widgets/controls",
            "_model_module_version": "1.5.0",
            "_model_name": "HTMLModel",
            "_view_count": null,
            "_view_module": "@jupyter-widgets/controls",
            "_view_module_version": "1.5.0",
            "_view_name": "HTMLView",
            "description": "",
            "description_tooltip": null,
            "layout": "IPY_MODEL_757d999bbf4245b1b4e7b3f281a9d88c",
            "placeholder": "​",
            "style": "IPY_MODEL_f6b2927413c24fe28dc7cacd123519a4",
            "value": " 735/735 [00:00&lt;00:00, 47.1kB/s]"
          }
        },
        "3bf22de561c845b7ae06de9d722d670e": {
          "model_module": "@jupyter-widgets/base",
          "model_name": "LayoutModel",
          "model_module_version": "1.2.0",
          "state": {
            "_model_module": "@jupyter-widgets/base",
            "_model_module_version": "1.2.0",
            "_model_name": "LayoutModel",
            "_view_count": null,
            "_view_module": "@jupyter-widgets/base",
            "_view_module_version": "1.2.0",
            "_view_name": "LayoutView",
            "align_content": null,
            "align_items": null,
            "align_self": null,
            "border": null,
            "bottom": null,
            "display": null,
            "flex": null,
            "flex_flow": null,
            "grid_area": null,
            "grid_auto_columns": null,
            "grid_auto_flow": null,
            "grid_auto_rows": null,
            "grid_column": null,
            "grid_gap": null,
            "grid_row": null,
            "grid_template_areas": null,
            "grid_template_columns": null,
            "grid_template_rows": null,
            "height": null,
            "justify_content": null,
            "justify_items": null,
            "left": null,
            "margin": null,
            "max_height": null,
            "max_width": null,
            "min_height": null,
            "min_width": null,
            "object_fit": null,
            "object_position": null,
            "order": null,
            "overflow": null,
            "overflow_x": null,
            "overflow_y": null,
            "padding": null,
            "right": null,
            "top": null,
            "visibility": null,
            "width": null
          }
        },
        "3c30bcd38196496c9599afeda3fb1a00": {
          "model_module": "@jupyter-widgets/base",
          "model_name": "LayoutModel",
          "model_module_version": "1.2.0",
          "state": {
            "_model_module": "@jupyter-widgets/base",
            "_model_module_version": "1.2.0",
            "_model_name": "LayoutModel",
            "_view_count": null,
            "_view_module": "@jupyter-widgets/base",
            "_view_module_version": "1.2.0",
            "_view_name": "LayoutView",
            "align_content": null,
            "align_items": null,
            "align_self": null,
            "border": null,
            "bottom": null,
            "display": null,
            "flex": null,
            "flex_flow": null,
            "grid_area": null,
            "grid_auto_columns": null,
            "grid_auto_flow": null,
            "grid_auto_rows": null,
            "grid_column": null,
            "grid_gap": null,
            "grid_row": null,
            "grid_template_areas": null,
            "grid_template_columns": null,
            "grid_template_rows": null,
            "height": null,
            "justify_content": null,
            "justify_items": null,
            "left": null,
            "margin": null,
            "max_height": null,
            "max_width": null,
            "min_height": null,
            "min_width": null,
            "object_fit": null,
            "object_position": null,
            "order": null,
            "overflow": null,
            "overflow_x": null,
            "overflow_y": null,
            "padding": null,
            "right": null,
            "top": null,
            "visibility": null,
            "width": null
          }
        },
        "334c878ce3f447169f0ccaab5b6b35a0": {
          "model_module": "@jupyter-widgets/controls",
          "model_name": "DescriptionStyleModel",
          "model_module_version": "1.5.0",
          "state": {
            "_model_module": "@jupyter-widgets/controls",
            "_model_module_version": "1.5.0",
            "_model_name": "DescriptionStyleModel",
            "_view_count": null,
            "_view_module": "@jupyter-widgets/base",
            "_view_module_version": "1.2.0",
            "_view_name": "StyleView",
            "description_width": ""
          }
        },
        "dd872c19994a4c85961b205a24320c12": {
          "model_module": "@jupyter-widgets/base",
          "model_name": "LayoutModel",
          "model_module_version": "1.2.0",
          "state": {
            "_model_module": "@jupyter-widgets/base",
            "_model_module_version": "1.2.0",
            "_model_name": "LayoutModel",
            "_view_count": null,
            "_view_module": "@jupyter-widgets/base",
            "_view_module_version": "1.2.0",
            "_view_name": "LayoutView",
            "align_content": null,
            "align_items": null,
            "align_self": null,
            "border": null,
            "bottom": null,
            "display": null,
            "flex": null,
            "flex_flow": null,
            "grid_area": null,
            "grid_auto_columns": null,
            "grid_auto_flow": null,
            "grid_auto_rows": null,
            "grid_column": null,
            "grid_gap": null,
            "grid_row": null,
            "grid_template_areas": null,
            "grid_template_columns": null,
            "grid_template_rows": null,
            "height": null,
            "justify_content": null,
            "justify_items": null,
            "left": null,
            "margin": null,
            "max_height": null,
            "max_width": null,
            "min_height": null,
            "min_width": null,
            "object_fit": null,
            "object_position": null,
            "order": null,
            "overflow": null,
            "overflow_x": null,
            "overflow_y": null,
            "padding": null,
            "right": null,
            "top": null,
            "visibility": null,
            "width": null
          }
        },
        "d62a105429674b81960f9d2302d55b23": {
          "model_module": "@jupyter-widgets/controls",
          "model_name": "ProgressStyleModel",
          "model_module_version": "1.5.0",
          "state": {
            "_model_module": "@jupyter-widgets/controls",
            "_model_module_version": "1.5.0",
            "_model_name": "ProgressStyleModel",
            "_view_count": null,
            "_view_module": "@jupyter-widgets/base",
            "_view_module_version": "1.2.0",
            "_view_name": "StyleView",
            "bar_color": null,
            "description_width": ""
          }
        },
        "757d999bbf4245b1b4e7b3f281a9d88c": {
          "model_module": "@jupyter-widgets/base",
          "model_name": "LayoutModel",
          "model_module_version": "1.2.0",
          "state": {
            "_model_module": "@jupyter-widgets/base",
            "_model_module_version": "1.2.0",
            "_model_name": "LayoutModel",
            "_view_count": null,
            "_view_module": "@jupyter-widgets/base",
            "_view_module_version": "1.2.0",
            "_view_name": "LayoutView",
            "align_content": null,
            "align_items": null,
            "align_self": null,
            "border": null,
            "bottom": null,
            "display": null,
            "flex": null,
            "flex_flow": null,
            "grid_area": null,
            "grid_auto_columns": null,
            "grid_auto_flow": null,
            "grid_auto_rows": null,
            "grid_column": null,
            "grid_gap": null,
            "grid_row": null,
            "grid_template_areas": null,
            "grid_template_columns": null,
            "grid_template_rows": null,
            "height": null,
            "justify_content": null,
            "justify_items": null,
            "left": null,
            "margin": null,
            "max_height": null,
            "max_width": null,
            "min_height": null,
            "min_width": null,
            "object_fit": null,
            "object_position": null,
            "order": null,
            "overflow": null,
            "overflow_x": null,
            "overflow_y": null,
            "padding": null,
            "right": null,
            "top": null,
            "visibility": null,
            "width": null
          }
        },
        "f6b2927413c24fe28dc7cacd123519a4": {
          "model_module": "@jupyter-widgets/controls",
          "model_name": "DescriptionStyleModel",
          "model_module_version": "1.5.0",
          "state": {
            "_model_module": "@jupyter-widgets/controls",
            "_model_module_version": "1.5.0",
            "_model_name": "DescriptionStyleModel",
            "_view_count": null,
            "_view_module": "@jupyter-widgets/base",
            "_view_module_version": "1.2.0",
            "_view_name": "StyleView",
            "description_width": ""
          }
        },
        "b0da3e97edec4b7291f6c861852c358e": {
          "model_module": "@jupyter-widgets/controls",
          "model_name": "HBoxModel",
          "model_module_version": "1.5.0",
          "state": {
            "_dom_classes": [],
            "_model_module": "@jupyter-widgets/controls",
            "_model_module_version": "1.5.0",
            "_model_name": "HBoxModel",
            "_view_count": null,
            "_view_module": "@jupyter-widgets/controls",
            "_view_module_version": "1.5.0",
            "_view_name": "HBoxView",
            "box_style": "",
            "children": [
              "IPY_MODEL_f91758a57f9a4d8d82362813e83b28ce",
              "IPY_MODEL_dde087a835ef4576a7529ffff174c67f",
              "IPY_MODEL_4820fbbdf2ae42bf81617ccaabecf7c6"
            ],
            "layout": "IPY_MODEL_adbe8d762ad74406879ed71715d60078"
          }
        },
        "f91758a57f9a4d8d82362813e83b28ce": {
          "model_module": "@jupyter-widgets/controls",
          "model_name": "HTMLModel",
          "model_module_version": "1.5.0",
          "state": {
            "_dom_classes": [],
            "_model_module": "@jupyter-widgets/controls",
            "_model_module_version": "1.5.0",
            "_model_name": "HTMLModel",
            "_view_count": null,
            "_view_module": "@jupyter-widgets/controls",
            "_view_module_version": "1.5.0",
            "_view_name": "HTMLView",
            "description": "",
            "description_tooltip": null,
            "layout": "IPY_MODEL_85b39c8c43b4437e804e24a41b36286e",
            "placeholder": "​",
            "style": "IPY_MODEL_f402ee367a174986b93b6a308923c942",
            "value": "config.json: 100%"
          }
        },
        "dde087a835ef4576a7529ffff174c67f": {
          "model_module": "@jupyter-widgets/controls",
          "model_name": "FloatProgressModel",
          "model_module_version": "1.5.0",
          "state": {
            "_dom_classes": [],
            "_model_module": "@jupyter-widgets/controls",
            "_model_module_version": "1.5.0",
            "_model_name": "FloatProgressModel",
            "_view_count": null,
            "_view_module": "@jupyter-widgets/controls",
            "_view_module_version": "1.5.0",
            "_view_name": "ProgressView",
            "bar_style": "success",
            "description": "",
            "description_tooltip": null,
            "layout": "IPY_MODEL_6a2abaa148384cd985d73a5505f06bea",
            "max": 627,
            "min": 0,
            "orientation": "horizontal",
            "style": "IPY_MODEL_42c47115d1c84938a0c3eec43b39cfc3",
            "value": 627
          }
        },
        "4820fbbdf2ae42bf81617ccaabecf7c6": {
          "model_module": "@jupyter-widgets/controls",
          "model_name": "HTMLModel",
          "model_module_version": "1.5.0",
          "state": {
            "_dom_classes": [],
            "_model_module": "@jupyter-widgets/controls",
            "_model_module_version": "1.5.0",
            "_model_name": "HTMLModel",
            "_view_count": null,
            "_view_module": "@jupyter-widgets/controls",
            "_view_module_version": "1.5.0",
            "_view_name": "HTMLView",
            "description": "",
            "description_tooltip": null,
            "layout": "IPY_MODEL_7c78ae83a01f4ec6b77a64bc33ede892",
            "placeholder": "​",
            "style": "IPY_MODEL_112b0c3435a548a4b182c0e65af6729c",
            "value": " 627/627 [00:00&lt;00:00, 54.9kB/s]"
          }
        },
        "adbe8d762ad74406879ed71715d60078": {
          "model_module": "@jupyter-widgets/base",
          "model_name": "LayoutModel",
          "model_module_version": "1.2.0",
          "state": {
            "_model_module": "@jupyter-widgets/base",
            "_model_module_version": "1.2.0",
            "_model_name": "LayoutModel",
            "_view_count": null,
            "_view_module": "@jupyter-widgets/base",
            "_view_module_version": "1.2.0",
            "_view_name": "LayoutView",
            "align_content": null,
            "align_items": null,
            "align_self": null,
            "border": null,
            "bottom": null,
            "display": null,
            "flex": null,
            "flex_flow": null,
            "grid_area": null,
            "grid_auto_columns": null,
            "grid_auto_flow": null,
            "grid_auto_rows": null,
            "grid_column": null,
            "grid_gap": null,
            "grid_row": null,
            "grid_template_areas": null,
            "grid_template_columns": null,
            "grid_template_rows": null,
            "height": null,
            "justify_content": null,
            "justify_items": null,
            "left": null,
            "margin": null,
            "max_height": null,
            "max_width": null,
            "min_height": null,
            "min_width": null,
            "object_fit": null,
            "object_position": null,
            "order": null,
            "overflow": null,
            "overflow_x": null,
            "overflow_y": null,
            "padding": null,
            "right": null,
            "top": null,
            "visibility": null,
            "width": null
          }
        },
        "85b39c8c43b4437e804e24a41b36286e": {
          "model_module": "@jupyter-widgets/base",
          "model_name": "LayoutModel",
          "model_module_version": "1.2.0",
          "state": {
            "_model_module": "@jupyter-widgets/base",
            "_model_module_version": "1.2.0",
            "_model_name": "LayoutModel",
            "_view_count": null,
            "_view_module": "@jupyter-widgets/base",
            "_view_module_version": "1.2.0",
            "_view_name": "LayoutView",
            "align_content": null,
            "align_items": null,
            "align_self": null,
            "border": null,
            "bottom": null,
            "display": null,
            "flex": null,
            "flex_flow": null,
            "grid_area": null,
            "grid_auto_columns": null,
            "grid_auto_flow": null,
            "grid_auto_rows": null,
            "grid_column": null,
            "grid_gap": null,
            "grid_row": null,
            "grid_template_areas": null,
            "grid_template_columns": null,
            "grid_template_rows": null,
            "height": null,
            "justify_content": null,
            "justify_items": null,
            "left": null,
            "margin": null,
            "max_height": null,
            "max_width": null,
            "min_height": null,
            "min_width": null,
            "object_fit": null,
            "object_position": null,
            "order": null,
            "overflow": null,
            "overflow_x": null,
            "overflow_y": null,
            "padding": null,
            "right": null,
            "top": null,
            "visibility": null,
            "width": null
          }
        },
        "f402ee367a174986b93b6a308923c942": {
          "model_module": "@jupyter-widgets/controls",
          "model_name": "DescriptionStyleModel",
          "model_module_version": "1.5.0",
          "state": {
            "_model_module": "@jupyter-widgets/controls",
            "_model_module_version": "1.5.0",
            "_model_name": "DescriptionStyleModel",
            "_view_count": null,
            "_view_module": "@jupyter-widgets/base",
            "_view_module_version": "1.2.0",
            "_view_name": "StyleView",
            "description_width": ""
          }
        },
        "6a2abaa148384cd985d73a5505f06bea": {
          "model_module": "@jupyter-widgets/base",
          "model_name": "LayoutModel",
          "model_module_version": "1.2.0",
          "state": {
            "_model_module": "@jupyter-widgets/base",
            "_model_module_version": "1.2.0",
            "_model_name": "LayoutModel",
            "_view_count": null,
            "_view_module": "@jupyter-widgets/base",
            "_view_module_version": "1.2.0",
            "_view_name": "LayoutView",
            "align_content": null,
            "align_items": null,
            "align_self": null,
            "border": null,
            "bottom": null,
            "display": null,
            "flex": null,
            "flex_flow": null,
            "grid_area": null,
            "grid_auto_columns": null,
            "grid_auto_flow": null,
            "grid_auto_rows": null,
            "grid_column": null,
            "grid_gap": null,
            "grid_row": null,
            "grid_template_areas": null,
            "grid_template_columns": null,
            "grid_template_rows": null,
            "height": null,
            "justify_content": null,
            "justify_items": null,
            "left": null,
            "margin": null,
            "max_height": null,
            "max_width": null,
            "min_height": null,
            "min_width": null,
            "object_fit": null,
            "object_position": null,
            "order": null,
            "overflow": null,
            "overflow_x": null,
            "overflow_y": null,
            "padding": null,
            "right": null,
            "top": null,
            "visibility": null,
            "width": null
          }
        },
        "42c47115d1c84938a0c3eec43b39cfc3": {
          "model_module": "@jupyter-widgets/controls",
          "model_name": "ProgressStyleModel",
          "model_module_version": "1.5.0",
          "state": {
            "_model_module": "@jupyter-widgets/controls",
            "_model_module_version": "1.5.0",
            "_model_name": "ProgressStyleModel",
            "_view_count": null,
            "_view_module": "@jupyter-widgets/base",
            "_view_module_version": "1.2.0",
            "_view_name": "StyleView",
            "bar_color": null,
            "description_width": ""
          }
        },
        "7c78ae83a01f4ec6b77a64bc33ede892": {
          "model_module": "@jupyter-widgets/base",
          "model_name": "LayoutModel",
          "model_module_version": "1.2.0",
          "state": {
            "_model_module": "@jupyter-widgets/base",
            "_model_module_version": "1.2.0",
            "_model_name": "LayoutModel",
            "_view_count": null,
            "_view_module": "@jupyter-widgets/base",
            "_view_module_version": "1.2.0",
            "_view_name": "LayoutView",
            "align_content": null,
            "align_items": null,
            "align_self": null,
            "border": null,
            "bottom": null,
            "display": null,
            "flex": null,
            "flex_flow": null,
            "grid_area": null,
            "grid_auto_columns": null,
            "grid_auto_flow": null,
            "grid_auto_rows": null,
            "grid_column": null,
            "grid_gap": null,
            "grid_row": null,
            "grid_template_areas": null,
            "grid_template_columns": null,
            "grid_template_rows": null,
            "height": null,
            "justify_content": null,
            "justify_items": null,
            "left": null,
            "margin": null,
            "max_height": null,
            "max_width": null,
            "min_height": null,
            "min_width": null,
            "object_fit": null,
            "object_position": null,
            "order": null,
            "overflow": null,
            "overflow_x": null,
            "overflow_y": null,
            "padding": null,
            "right": null,
            "top": null,
            "visibility": null,
            "width": null
          }
        },
        "112b0c3435a548a4b182c0e65af6729c": {
          "model_module": "@jupyter-widgets/controls",
          "model_name": "DescriptionStyleModel",
          "model_module_version": "1.5.0",
          "state": {
            "_model_module": "@jupyter-widgets/controls",
            "_model_module_version": "1.5.0",
            "_model_name": "DescriptionStyleModel",
            "_view_count": null,
            "_view_module": "@jupyter-widgets/base",
            "_view_module_version": "1.2.0",
            "_view_name": "StyleView",
            "description_width": ""
          }
        },
        "afdf3f5fa32d4d528213f27bd4eb6012": {
          "model_module": "@jupyter-widgets/controls",
          "model_name": "HBoxModel",
          "model_module_version": "1.5.0",
          "state": {
            "_dom_classes": [],
            "_model_module": "@jupyter-widgets/controls",
            "_model_module_version": "1.5.0",
            "_model_name": "HBoxModel",
            "_view_count": null,
            "_view_module": "@jupyter-widgets/controls",
            "_view_module_version": "1.5.0",
            "_view_name": "HBoxView",
            "box_style": "",
            "children": [
              "IPY_MODEL_0274cd1cbf2042aaa59d2d2d5aa39e51",
              "IPY_MODEL_1670344b9b0849d2a21b42ea28905711",
              "IPY_MODEL_722ff6ceef6a441f99bb51560127f54f"
            ],
            "layout": "IPY_MODEL_3675f7f63d074d628c649a1b4f6decd7"
          }
        },
        "0274cd1cbf2042aaa59d2d2d5aa39e51": {
          "model_module": "@jupyter-widgets/controls",
          "model_name": "HTMLModel",
          "model_module_version": "1.5.0",
          "state": {
            "_dom_classes": [],
            "_model_module": "@jupyter-widgets/controls",
            "_model_module_version": "1.5.0",
            "_model_name": "HTMLModel",
            "_view_count": null,
            "_view_module": "@jupyter-widgets/controls",
            "_view_module_version": "1.5.0",
            "_view_name": "HTMLView",
            "description": "",
            "description_tooltip": null,
            "layout": "IPY_MODEL_c4d888b90a504050b5da6dd9c4bb905c",
            "placeholder": "​",
            "style": "IPY_MODEL_61a2e16cab214e54a47b290bab0d0c8c",
            "value": "model.safetensors.index.json: 100%"
          }
        },
        "1670344b9b0849d2a21b42ea28905711": {
          "model_module": "@jupyter-widgets/controls",
          "model_name": "FloatProgressModel",
          "model_module_version": "1.5.0",
          "state": {
            "_dom_classes": [],
            "_model_module": "@jupyter-widgets/controls",
            "_model_module_version": "1.5.0",
            "_model_name": "FloatProgressModel",
            "_view_count": null,
            "_view_module": "@jupyter-widgets/controls",
            "_view_module_version": "1.5.0",
            "_view_name": "ProgressView",
            "bar_style": "success",
            "description": "",
            "description_tooltip": null,
            "layout": "IPY_MODEL_3458f80d747f43358200a591d708599a",
            "max": 23949,
            "min": 0,
            "orientation": "horizontal",
            "style": "IPY_MODEL_a1424acf1805416eb0c8480bf0e8ddd9",
            "value": 23949
          }
        },
        "722ff6ceef6a441f99bb51560127f54f": {
          "model_module": "@jupyter-widgets/controls",
          "model_name": "HTMLModel",
          "model_module_version": "1.5.0",
          "state": {
            "_dom_classes": [],
            "_model_module": "@jupyter-widgets/controls",
            "_model_module_version": "1.5.0",
            "_model_name": "HTMLModel",
            "_view_count": null,
            "_view_module": "@jupyter-widgets/controls",
            "_view_module_version": "1.5.0",
            "_view_name": "HTMLView",
            "description": "",
            "description_tooltip": null,
            "layout": "IPY_MODEL_14cd79ab59b740678c1ebb37c9c0ef18",
            "placeholder": "​",
            "style": "IPY_MODEL_20ad0e678ebf4acdb8aa9637e46afedf",
            "value": " 23.9k/23.9k [00:00&lt;00:00, 1.00MB/s]"
          }
        },
        "3675f7f63d074d628c649a1b4f6decd7": {
          "model_module": "@jupyter-widgets/base",
          "model_name": "LayoutModel",
          "model_module_version": "1.2.0",
          "state": {
            "_model_module": "@jupyter-widgets/base",
            "_model_module_version": "1.2.0",
            "_model_name": "LayoutModel",
            "_view_count": null,
            "_view_module": "@jupyter-widgets/base",
            "_view_module_version": "1.2.0",
            "_view_name": "LayoutView",
            "align_content": null,
            "align_items": null,
            "align_self": null,
            "border": null,
            "bottom": null,
            "display": null,
            "flex": null,
            "flex_flow": null,
            "grid_area": null,
            "grid_auto_columns": null,
            "grid_auto_flow": null,
            "grid_auto_rows": null,
            "grid_column": null,
            "grid_gap": null,
            "grid_row": null,
            "grid_template_areas": null,
            "grid_template_columns": null,
            "grid_template_rows": null,
            "height": null,
            "justify_content": null,
            "justify_items": null,
            "left": null,
            "margin": null,
            "max_height": null,
            "max_width": null,
            "min_height": null,
            "min_width": null,
            "object_fit": null,
            "object_position": null,
            "order": null,
            "overflow": null,
            "overflow_x": null,
            "overflow_y": null,
            "padding": null,
            "right": null,
            "top": null,
            "visibility": null,
            "width": null
          }
        },
        "c4d888b90a504050b5da6dd9c4bb905c": {
          "model_module": "@jupyter-widgets/base",
          "model_name": "LayoutModel",
          "model_module_version": "1.2.0",
          "state": {
            "_model_module": "@jupyter-widgets/base",
            "_model_module_version": "1.2.0",
            "_model_name": "LayoutModel",
            "_view_count": null,
            "_view_module": "@jupyter-widgets/base",
            "_view_module_version": "1.2.0",
            "_view_name": "LayoutView",
            "align_content": null,
            "align_items": null,
            "align_self": null,
            "border": null,
            "bottom": null,
            "display": null,
            "flex": null,
            "flex_flow": null,
            "grid_area": null,
            "grid_auto_columns": null,
            "grid_auto_flow": null,
            "grid_auto_rows": null,
            "grid_column": null,
            "grid_gap": null,
            "grid_row": null,
            "grid_template_areas": null,
            "grid_template_columns": null,
            "grid_template_rows": null,
            "height": null,
            "justify_content": null,
            "justify_items": null,
            "left": null,
            "margin": null,
            "max_height": null,
            "max_width": null,
            "min_height": null,
            "min_width": null,
            "object_fit": null,
            "object_position": null,
            "order": null,
            "overflow": null,
            "overflow_x": null,
            "overflow_y": null,
            "padding": null,
            "right": null,
            "top": null,
            "visibility": null,
            "width": null
          }
        },
        "61a2e16cab214e54a47b290bab0d0c8c": {
          "model_module": "@jupyter-widgets/controls",
          "model_name": "DescriptionStyleModel",
          "model_module_version": "1.5.0",
          "state": {
            "_model_module": "@jupyter-widgets/controls",
            "_model_module_version": "1.5.0",
            "_model_name": "DescriptionStyleModel",
            "_view_count": null,
            "_view_module": "@jupyter-widgets/base",
            "_view_module_version": "1.2.0",
            "_view_name": "StyleView",
            "description_width": ""
          }
        },
        "3458f80d747f43358200a591d708599a": {
          "model_module": "@jupyter-widgets/base",
          "model_name": "LayoutModel",
          "model_module_version": "1.2.0",
          "state": {
            "_model_module": "@jupyter-widgets/base",
            "_model_module_version": "1.2.0",
            "_model_name": "LayoutModel",
            "_view_count": null,
            "_view_module": "@jupyter-widgets/base",
            "_view_module_version": "1.2.0",
            "_view_name": "LayoutView",
            "align_content": null,
            "align_items": null,
            "align_self": null,
            "border": null,
            "bottom": null,
            "display": null,
            "flex": null,
            "flex_flow": null,
            "grid_area": null,
            "grid_auto_columns": null,
            "grid_auto_flow": null,
            "grid_auto_rows": null,
            "grid_column": null,
            "grid_gap": null,
            "grid_row": null,
            "grid_template_areas": null,
            "grid_template_columns": null,
            "grid_template_rows": null,
            "height": null,
            "justify_content": null,
            "justify_items": null,
            "left": null,
            "margin": null,
            "max_height": null,
            "max_width": null,
            "min_height": null,
            "min_width": null,
            "object_fit": null,
            "object_position": null,
            "order": null,
            "overflow": null,
            "overflow_x": null,
            "overflow_y": null,
            "padding": null,
            "right": null,
            "top": null,
            "visibility": null,
            "width": null
          }
        },
        "a1424acf1805416eb0c8480bf0e8ddd9": {
          "model_module": "@jupyter-widgets/controls",
          "model_name": "ProgressStyleModel",
          "model_module_version": "1.5.0",
          "state": {
            "_model_module": "@jupyter-widgets/controls",
            "_model_module_version": "1.5.0",
            "_model_name": "ProgressStyleModel",
            "_view_count": null,
            "_view_module": "@jupyter-widgets/base",
            "_view_module_version": "1.2.0",
            "_view_name": "StyleView",
            "bar_color": null,
            "description_width": ""
          }
        },
        "14cd79ab59b740678c1ebb37c9c0ef18": {
          "model_module": "@jupyter-widgets/base",
          "model_name": "LayoutModel",
          "model_module_version": "1.2.0",
          "state": {
            "_model_module": "@jupyter-widgets/base",
            "_model_module_version": "1.2.0",
            "_model_name": "LayoutModel",
            "_view_count": null,
            "_view_module": "@jupyter-widgets/base",
            "_view_module_version": "1.2.0",
            "_view_name": "LayoutView",
            "align_content": null,
            "align_items": null,
            "align_self": null,
            "border": null,
            "bottom": null,
            "display": null,
            "flex": null,
            "flex_flow": null,
            "grid_area": null,
            "grid_auto_columns": null,
            "grid_auto_flow": null,
            "grid_auto_rows": null,
            "grid_column": null,
            "grid_gap": null,
            "grid_row": null,
            "grid_template_areas": null,
            "grid_template_columns": null,
            "grid_template_rows": null,
            "height": null,
            "justify_content": null,
            "justify_items": null,
            "left": null,
            "margin": null,
            "max_height": null,
            "max_width": null,
            "min_height": null,
            "min_width": null,
            "object_fit": null,
            "object_position": null,
            "order": null,
            "overflow": null,
            "overflow_x": null,
            "overflow_y": null,
            "padding": null,
            "right": null,
            "top": null,
            "visibility": null,
            "width": null
          }
        },
        "20ad0e678ebf4acdb8aa9637e46afedf": {
          "model_module": "@jupyter-widgets/controls",
          "model_name": "DescriptionStyleModel",
          "model_module_version": "1.5.0",
          "state": {
            "_model_module": "@jupyter-widgets/controls",
            "_model_module_version": "1.5.0",
            "_model_name": "DescriptionStyleModel",
            "_view_count": null,
            "_view_module": "@jupyter-widgets/base",
            "_view_module_version": "1.2.0",
            "_view_name": "StyleView",
            "description_width": ""
          }
        },
        "30134d8fe3cf469a90aa3e7def33b8e9": {
          "model_module": "@jupyter-widgets/controls",
          "model_name": "HBoxModel",
          "model_module_version": "1.5.0",
          "state": {
            "_dom_classes": [],
            "_model_module": "@jupyter-widgets/controls",
            "_model_module_version": "1.5.0",
            "_model_name": "HBoxModel",
            "_view_count": null,
            "_view_module": "@jupyter-widgets/controls",
            "_view_module_version": "1.5.0",
            "_view_name": "HBoxView",
            "box_style": "",
            "children": [
              "IPY_MODEL_29125df014f04be6854ce5ac0a101257",
              "IPY_MODEL_da4c23b9895d482d8bdce9007c265d00",
              "IPY_MODEL_d330cf6c077f404c8fa81ebc834fa0c1"
            ],
            "layout": "IPY_MODEL_dea897f3c5964a16aca0be705386c014"
          }
        },
        "29125df014f04be6854ce5ac0a101257": {
          "model_module": "@jupyter-widgets/controls",
          "model_name": "HTMLModel",
          "model_module_version": "1.5.0",
          "state": {
            "_dom_classes": [],
            "_model_module": "@jupyter-widgets/controls",
            "_model_module_version": "1.5.0",
            "_model_name": "HTMLModel",
            "_view_count": null,
            "_view_module": "@jupyter-widgets/controls",
            "_view_module_version": "1.5.0",
            "_view_name": "HTMLView",
            "description": "",
            "description_tooltip": null,
            "layout": "IPY_MODEL_20274d73b71840a7941f2c4c4a0d6ef4",
            "placeholder": "​",
            "style": "IPY_MODEL_91305faf2b704faabcfddf98de44df1e",
            "value": "Downloading shards: 100%"
          }
        },
        "da4c23b9895d482d8bdce9007c265d00": {
          "model_module": "@jupyter-widgets/controls",
          "model_name": "FloatProgressModel",
          "model_module_version": "1.5.0",
          "state": {
            "_dom_classes": [],
            "_model_module": "@jupyter-widgets/controls",
            "_model_module_version": "1.5.0",
            "_model_name": "FloatProgressModel",
            "_view_count": null,
            "_view_module": "@jupyter-widgets/controls",
            "_view_module_version": "1.5.0",
            "_view_name": "ProgressView",
            "bar_style": "success",
            "description": "",
            "description_tooltip": null,
            "layout": "IPY_MODEL_227a6cfa93ad419fb980fbf8a36a18b0",
            "max": 2,
            "min": 0,
            "orientation": "horizontal",
            "style": "IPY_MODEL_bbc84fd2e47446bea0408983febb04da",
            "value": 2
          }
        },
        "d330cf6c077f404c8fa81ebc834fa0c1": {
          "model_module": "@jupyter-widgets/controls",
          "model_name": "HTMLModel",
          "model_module_version": "1.5.0",
          "state": {
            "_dom_classes": [],
            "_model_module": "@jupyter-widgets/controls",
            "_model_module_version": "1.5.0",
            "_model_name": "HTMLModel",
            "_view_count": null,
            "_view_module": "@jupyter-widgets/controls",
            "_view_module_version": "1.5.0",
            "_view_name": "HTMLView",
            "description": "",
            "description_tooltip": null,
            "layout": "IPY_MODEL_a12760440a8e4069966cd7b59d38642f",
            "placeholder": "​",
            "style": "IPY_MODEL_a4b1e5a425f1489c8ae3af05a8b7aed2",
            "value": " 2/2 [00:44&lt;00:00, 20.78s/it]"
          }
        },
        "dea897f3c5964a16aca0be705386c014": {
          "model_module": "@jupyter-widgets/base",
          "model_name": "LayoutModel",
          "model_module_version": "1.2.0",
          "state": {
            "_model_module": "@jupyter-widgets/base",
            "_model_module_version": "1.2.0",
            "_model_name": "LayoutModel",
            "_view_count": null,
            "_view_module": "@jupyter-widgets/base",
            "_view_module_version": "1.2.0",
            "_view_name": "LayoutView",
            "align_content": null,
            "align_items": null,
            "align_self": null,
            "border": null,
            "bottom": null,
            "display": null,
            "flex": null,
            "flex_flow": null,
            "grid_area": null,
            "grid_auto_columns": null,
            "grid_auto_flow": null,
            "grid_auto_rows": null,
            "grid_column": null,
            "grid_gap": null,
            "grid_row": null,
            "grid_template_areas": null,
            "grid_template_columns": null,
            "grid_template_rows": null,
            "height": null,
            "justify_content": null,
            "justify_items": null,
            "left": null,
            "margin": null,
            "max_height": null,
            "max_width": null,
            "min_height": null,
            "min_width": null,
            "object_fit": null,
            "object_position": null,
            "order": null,
            "overflow": null,
            "overflow_x": null,
            "overflow_y": null,
            "padding": null,
            "right": null,
            "top": null,
            "visibility": null,
            "width": null
          }
        },
        "20274d73b71840a7941f2c4c4a0d6ef4": {
          "model_module": "@jupyter-widgets/base",
          "model_name": "LayoutModel",
          "model_module_version": "1.2.0",
          "state": {
            "_model_module": "@jupyter-widgets/base",
            "_model_module_version": "1.2.0",
            "_model_name": "LayoutModel",
            "_view_count": null,
            "_view_module": "@jupyter-widgets/base",
            "_view_module_version": "1.2.0",
            "_view_name": "LayoutView",
            "align_content": null,
            "align_items": null,
            "align_self": null,
            "border": null,
            "bottom": null,
            "display": null,
            "flex": null,
            "flex_flow": null,
            "grid_area": null,
            "grid_auto_columns": null,
            "grid_auto_flow": null,
            "grid_auto_rows": null,
            "grid_column": null,
            "grid_gap": null,
            "grid_row": null,
            "grid_template_areas": null,
            "grid_template_columns": null,
            "grid_template_rows": null,
            "height": null,
            "justify_content": null,
            "justify_items": null,
            "left": null,
            "margin": null,
            "max_height": null,
            "max_width": null,
            "min_height": null,
            "min_width": null,
            "object_fit": null,
            "object_position": null,
            "order": null,
            "overflow": null,
            "overflow_x": null,
            "overflow_y": null,
            "padding": null,
            "right": null,
            "top": null,
            "visibility": null,
            "width": null
          }
        },
        "91305faf2b704faabcfddf98de44df1e": {
          "model_module": "@jupyter-widgets/controls",
          "model_name": "DescriptionStyleModel",
          "model_module_version": "1.5.0",
          "state": {
            "_model_module": "@jupyter-widgets/controls",
            "_model_module_version": "1.5.0",
            "_model_name": "DescriptionStyleModel",
            "_view_count": null,
            "_view_module": "@jupyter-widgets/base",
            "_view_module_version": "1.2.0",
            "_view_name": "StyleView",
            "description_width": ""
          }
        },
        "227a6cfa93ad419fb980fbf8a36a18b0": {
          "model_module": "@jupyter-widgets/base",
          "model_name": "LayoutModel",
          "model_module_version": "1.2.0",
          "state": {
            "_model_module": "@jupyter-widgets/base",
            "_model_module_version": "1.2.0",
            "_model_name": "LayoutModel",
            "_view_count": null,
            "_view_module": "@jupyter-widgets/base",
            "_view_module_version": "1.2.0",
            "_view_name": "LayoutView",
            "align_content": null,
            "align_items": null,
            "align_self": null,
            "border": null,
            "bottom": null,
            "display": null,
            "flex": null,
            "flex_flow": null,
            "grid_area": null,
            "grid_auto_columns": null,
            "grid_auto_flow": null,
            "grid_auto_rows": null,
            "grid_column": null,
            "grid_gap": null,
            "grid_row": null,
            "grid_template_areas": null,
            "grid_template_columns": null,
            "grid_template_rows": null,
            "height": null,
            "justify_content": null,
            "justify_items": null,
            "left": null,
            "margin": null,
            "max_height": null,
            "max_width": null,
            "min_height": null,
            "min_width": null,
            "object_fit": null,
            "object_position": null,
            "order": null,
            "overflow": null,
            "overflow_x": null,
            "overflow_y": null,
            "padding": null,
            "right": null,
            "top": null,
            "visibility": null,
            "width": null
          }
        },
        "bbc84fd2e47446bea0408983febb04da": {
          "model_module": "@jupyter-widgets/controls",
          "model_name": "ProgressStyleModel",
          "model_module_version": "1.5.0",
          "state": {
            "_model_module": "@jupyter-widgets/controls",
            "_model_module_version": "1.5.0",
            "_model_name": "ProgressStyleModel",
            "_view_count": null,
            "_view_module": "@jupyter-widgets/base",
            "_view_module_version": "1.2.0",
            "_view_name": "StyleView",
            "bar_color": null,
            "description_width": ""
          }
        },
        "a12760440a8e4069966cd7b59d38642f": {
          "model_module": "@jupyter-widgets/base",
          "model_name": "LayoutModel",
          "model_module_version": "1.2.0",
          "state": {
            "_model_module": "@jupyter-widgets/base",
            "_model_module_version": "1.2.0",
            "_model_name": "LayoutModel",
            "_view_count": null,
            "_view_module": "@jupyter-widgets/base",
            "_view_module_version": "1.2.0",
            "_view_name": "LayoutView",
            "align_content": null,
            "align_items": null,
            "align_self": null,
            "border": null,
            "bottom": null,
            "display": null,
            "flex": null,
            "flex_flow": null,
            "grid_area": null,
            "grid_auto_columns": null,
            "grid_auto_flow": null,
            "grid_auto_rows": null,
            "grid_column": null,
            "grid_gap": null,
            "grid_row": null,
            "grid_template_areas": null,
            "grid_template_columns": null,
            "grid_template_rows": null,
            "height": null,
            "justify_content": null,
            "justify_items": null,
            "left": null,
            "margin": null,
            "max_height": null,
            "max_width": null,
            "min_height": null,
            "min_width": null,
            "object_fit": null,
            "object_position": null,
            "order": null,
            "overflow": null,
            "overflow_x": null,
            "overflow_y": null,
            "padding": null,
            "right": null,
            "top": null,
            "visibility": null,
            "width": null
          }
        },
        "a4b1e5a425f1489c8ae3af05a8b7aed2": {
          "model_module": "@jupyter-widgets/controls",
          "model_name": "DescriptionStyleModel",
          "model_module_version": "1.5.0",
          "state": {
            "_model_module": "@jupyter-widgets/controls",
            "_model_module_version": "1.5.0",
            "_model_name": "DescriptionStyleModel",
            "_view_count": null,
            "_view_module": "@jupyter-widgets/base",
            "_view_module_version": "1.2.0",
            "_view_name": "StyleView",
            "description_width": ""
          }
        },
        "8c33be295b6f4bef86952bf9a591fc57": {
          "model_module": "@jupyter-widgets/controls",
          "model_name": "HBoxModel",
          "model_module_version": "1.5.0",
          "state": {
            "_dom_classes": [],
            "_model_module": "@jupyter-widgets/controls",
            "_model_module_version": "1.5.0",
            "_model_name": "HBoxModel",
            "_view_count": null,
            "_view_module": "@jupyter-widgets/controls",
            "_view_module_version": "1.5.0",
            "_view_name": "HBoxView",
            "box_style": "",
            "children": [
              "IPY_MODEL_b5bff6440387439ea67fbb662f284a7b",
              "IPY_MODEL_15ce24c1ce594ded88a90cd1fa5e3ff9",
              "IPY_MODEL_30c9c2e3939346c0a2cf236738410098"
            ],
            "layout": "IPY_MODEL_f6a29eb8ea9b489bb5185ffb8cbf8e92"
          }
        },
        "b5bff6440387439ea67fbb662f284a7b": {
          "model_module": "@jupyter-widgets/controls",
          "model_name": "HTMLModel",
          "model_module_version": "1.5.0",
          "state": {
            "_dom_classes": [],
            "_model_module": "@jupyter-widgets/controls",
            "_model_module_version": "1.5.0",
            "_model_name": "HTMLModel",
            "_view_count": null,
            "_view_module": "@jupyter-widgets/controls",
            "_view_module_version": "1.5.0",
            "_view_name": "HTMLView",
            "description": "",
            "description_tooltip": null,
            "layout": "IPY_MODEL_3d98dcc7059648ddb1b3ebcff55edc20",
            "placeholder": "​",
            "style": "IPY_MODEL_4ddb3a61880f453a91f9867affe4c0d3",
            "value": "model-00001-of-00002.safetensors: 100%"
          }
        },
        "15ce24c1ce594ded88a90cd1fa5e3ff9": {
          "model_module": "@jupyter-widgets/controls",
          "model_name": "FloatProgressModel",
          "model_module_version": "1.5.0",
          "state": {
            "_dom_classes": [],
            "_model_module": "@jupyter-widgets/controls",
            "_model_module_version": "1.5.0",
            "_model_name": "FloatProgressModel",
            "_view_count": null,
            "_view_module": "@jupyter-widgets/controls",
            "_view_module_version": "1.5.0",
            "_view_name": "ProgressView",
            "bar_style": "success",
            "description": "",
            "description_tooltip": null,
            "layout": "IPY_MODEL_a4c9c980abb54bc5a16cad3773f360f6",
            "max": 4991370968,
            "min": 0,
            "orientation": "horizontal",
            "style": "IPY_MODEL_af37bbd6bf694911add6c7d47ca34a40",
            "value": 4991370968
          }
        },
        "30c9c2e3939346c0a2cf236738410098": {
          "model_module": "@jupyter-widgets/controls",
          "model_name": "HTMLModel",
          "model_module_version": "1.5.0",
          "state": {
            "_dom_classes": [],
            "_model_module": "@jupyter-widgets/controls",
            "_model_module_version": "1.5.0",
            "_model_name": "HTMLModel",
            "_view_count": null,
            "_view_module": "@jupyter-widgets/controls",
            "_view_module_version": "1.5.0",
            "_view_name": "HTMLView",
            "description": "",
            "description_tooltip": null,
            "layout": "IPY_MODEL_6affc2c9f3064df399c14a0203a34055",
            "placeholder": "​",
            "style": "IPY_MODEL_2ee9e33be68a42ca94188e4c3babcbcf",
            "value": " 4.99G/4.99G [00:31&lt;00:00, 202MB/s]"
          }
        },
        "f6a29eb8ea9b489bb5185ffb8cbf8e92": {
          "model_module": "@jupyter-widgets/base",
          "model_name": "LayoutModel",
          "model_module_version": "1.2.0",
          "state": {
            "_model_module": "@jupyter-widgets/base",
            "_model_module_version": "1.2.0",
            "_model_name": "LayoutModel",
            "_view_count": null,
            "_view_module": "@jupyter-widgets/base",
            "_view_module_version": "1.2.0",
            "_view_name": "LayoutView",
            "align_content": null,
            "align_items": null,
            "align_self": null,
            "border": null,
            "bottom": null,
            "display": null,
            "flex": null,
            "flex_flow": null,
            "grid_area": null,
            "grid_auto_columns": null,
            "grid_auto_flow": null,
            "grid_auto_rows": null,
            "grid_column": null,
            "grid_gap": null,
            "grid_row": null,
            "grid_template_areas": null,
            "grid_template_columns": null,
            "grid_template_rows": null,
            "height": null,
            "justify_content": null,
            "justify_items": null,
            "left": null,
            "margin": null,
            "max_height": null,
            "max_width": null,
            "min_height": null,
            "min_width": null,
            "object_fit": null,
            "object_position": null,
            "order": null,
            "overflow": null,
            "overflow_x": null,
            "overflow_y": null,
            "padding": null,
            "right": null,
            "top": null,
            "visibility": null,
            "width": null
          }
        },
        "3d98dcc7059648ddb1b3ebcff55edc20": {
          "model_module": "@jupyter-widgets/base",
          "model_name": "LayoutModel",
          "model_module_version": "1.2.0",
          "state": {
            "_model_module": "@jupyter-widgets/base",
            "_model_module_version": "1.2.0",
            "_model_name": "LayoutModel",
            "_view_count": null,
            "_view_module": "@jupyter-widgets/base",
            "_view_module_version": "1.2.0",
            "_view_name": "LayoutView",
            "align_content": null,
            "align_items": null,
            "align_self": null,
            "border": null,
            "bottom": null,
            "display": null,
            "flex": null,
            "flex_flow": null,
            "grid_area": null,
            "grid_auto_columns": null,
            "grid_auto_flow": null,
            "grid_auto_rows": null,
            "grid_column": null,
            "grid_gap": null,
            "grid_row": null,
            "grid_template_areas": null,
            "grid_template_columns": null,
            "grid_template_rows": null,
            "height": null,
            "justify_content": null,
            "justify_items": null,
            "left": null,
            "margin": null,
            "max_height": null,
            "max_width": null,
            "min_height": null,
            "min_width": null,
            "object_fit": null,
            "object_position": null,
            "order": null,
            "overflow": null,
            "overflow_x": null,
            "overflow_y": null,
            "padding": null,
            "right": null,
            "top": null,
            "visibility": null,
            "width": null
          }
        },
        "4ddb3a61880f453a91f9867affe4c0d3": {
          "model_module": "@jupyter-widgets/controls",
          "model_name": "DescriptionStyleModel",
          "model_module_version": "1.5.0",
          "state": {
            "_model_module": "@jupyter-widgets/controls",
            "_model_module_version": "1.5.0",
            "_model_name": "DescriptionStyleModel",
            "_view_count": null,
            "_view_module": "@jupyter-widgets/base",
            "_view_module_version": "1.2.0",
            "_view_name": "StyleView",
            "description_width": ""
          }
        },
        "a4c9c980abb54bc5a16cad3773f360f6": {
          "model_module": "@jupyter-widgets/base",
          "model_name": "LayoutModel",
          "model_module_version": "1.2.0",
          "state": {
            "_model_module": "@jupyter-widgets/base",
            "_model_module_version": "1.2.0",
            "_model_name": "LayoutModel",
            "_view_count": null,
            "_view_module": "@jupyter-widgets/base",
            "_view_module_version": "1.2.0",
            "_view_name": "LayoutView",
            "align_content": null,
            "align_items": null,
            "align_self": null,
            "border": null,
            "bottom": null,
            "display": null,
            "flex": null,
            "flex_flow": null,
            "grid_area": null,
            "grid_auto_columns": null,
            "grid_auto_flow": null,
            "grid_auto_rows": null,
            "grid_column": null,
            "grid_gap": null,
            "grid_row": null,
            "grid_template_areas": null,
            "grid_template_columns": null,
            "grid_template_rows": null,
            "height": null,
            "justify_content": null,
            "justify_items": null,
            "left": null,
            "margin": null,
            "max_height": null,
            "max_width": null,
            "min_height": null,
            "min_width": null,
            "object_fit": null,
            "object_position": null,
            "order": null,
            "overflow": null,
            "overflow_x": null,
            "overflow_y": null,
            "padding": null,
            "right": null,
            "top": null,
            "visibility": null,
            "width": null
          }
        },
        "af37bbd6bf694911add6c7d47ca34a40": {
          "model_module": "@jupyter-widgets/controls",
          "model_name": "ProgressStyleModel",
          "model_module_version": "1.5.0",
          "state": {
            "_model_module": "@jupyter-widgets/controls",
            "_model_module_version": "1.5.0",
            "_model_name": "ProgressStyleModel",
            "_view_count": null,
            "_view_module": "@jupyter-widgets/base",
            "_view_module_version": "1.2.0",
            "_view_name": "StyleView",
            "bar_color": null,
            "description_width": ""
          }
        },
        "6affc2c9f3064df399c14a0203a34055": {
          "model_module": "@jupyter-widgets/base",
          "model_name": "LayoutModel",
          "model_module_version": "1.2.0",
          "state": {
            "_model_module": "@jupyter-widgets/base",
            "_model_module_version": "1.2.0",
            "_model_name": "LayoutModel",
            "_view_count": null,
            "_view_module": "@jupyter-widgets/base",
            "_view_module_version": "1.2.0",
            "_view_name": "LayoutView",
            "align_content": null,
            "align_items": null,
            "align_self": null,
            "border": null,
            "bottom": null,
            "display": null,
            "flex": null,
            "flex_flow": null,
            "grid_area": null,
            "grid_auto_columns": null,
            "grid_auto_flow": null,
            "grid_auto_rows": null,
            "grid_column": null,
            "grid_gap": null,
            "grid_row": null,
            "grid_template_areas": null,
            "grid_template_columns": null,
            "grid_template_rows": null,
            "height": null,
            "justify_content": null,
            "justify_items": null,
            "left": null,
            "margin": null,
            "max_height": null,
            "max_width": null,
            "min_height": null,
            "min_width": null,
            "object_fit": null,
            "object_position": null,
            "order": null,
            "overflow": null,
            "overflow_x": null,
            "overflow_y": null,
            "padding": null,
            "right": null,
            "top": null,
            "visibility": null,
            "width": null
          }
        },
        "2ee9e33be68a42ca94188e4c3babcbcf": {
          "model_module": "@jupyter-widgets/controls",
          "model_name": "DescriptionStyleModel",
          "model_module_version": "1.5.0",
          "state": {
            "_model_module": "@jupyter-widgets/controls",
            "_model_module_version": "1.5.0",
            "_model_name": "DescriptionStyleModel",
            "_view_count": null,
            "_view_module": "@jupyter-widgets/base",
            "_view_module_version": "1.2.0",
            "_view_name": "StyleView",
            "description_width": ""
          }
        },
        "3ce25f333e2a4ff59323f122ab2ed966": {
          "model_module": "@jupyter-widgets/controls",
          "model_name": "HBoxModel",
          "model_module_version": "1.5.0",
          "state": {
            "_dom_classes": [],
            "_model_module": "@jupyter-widgets/controls",
            "_model_module_version": "1.5.0",
            "_model_name": "HBoxModel",
            "_view_count": null,
            "_view_module": "@jupyter-widgets/controls",
            "_view_module_version": "1.5.0",
            "_view_name": "HBoxView",
            "box_style": "",
            "children": [
              "IPY_MODEL_826a0442eb9341bb9e2cf2248116483b",
              "IPY_MODEL_7cb461f647d14e18837241fc4a2c25d8",
              "IPY_MODEL_ccb3edde458c4fe7aa86d52af427b0a7"
            ],
            "layout": "IPY_MODEL_ce2f460e467743eda10b3f14490080c5"
          }
        },
        "826a0442eb9341bb9e2cf2248116483b": {
          "model_module": "@jupyter-widgets/controls",
          "model_name": "HTMLModel",
          "model_module_version": "1.5.0",
          "state": {
            "_dom_classes": [],
            "_model_module": "@jupyter-widgets/controls",
            "_model_module_version": "1.5.0",
            "_model_name": "HTMLModel",
            "_view_count": null,
            "_view_module": "@jupyter-widgets/controls",
            "_view_module_version": "1.5.0",
            "_view_name": "HTMLView",
            "description": "",
            "description_tooltip": null,
            "layout": "IPY_MODEL_bae8875d6a8d45e68e8ead3fd34c6361",
            "placeholder": "​",
            "style": "IPY_MODEL_a3400a96a6fb4910aab8fa6fd075bdb0",
            "value": "model-00002-of-00002.safetensors: 100%"
          }
        },
        "7cb461f647d14e18837241fc4a2c25d8": {
          "model_module": "@jupyter-widgets/controls",
          "model_name": "FloatProgressModel",
          "model_module_version": "1.5.0",
          "state": {
            "_dom_classes": [],
            "_model_module": "@jupyter-widgets/controls",
            "_model_module_version": "1.5.0",
            "_model_name": "FloatProgressModel",
            "_view_count": null,
            "_view_module": "@jupyter-widgets/controls",
            "_view_module_version": "1.5.0",
            "_view_name": "ProgressView",
            "bar_style": "success",
            "description": "",
            "description_tooltip": null,
            "layout": "IPY_MODEL_b78b7cbeb6f248e7a4ed41dd6f67772d",
            "max": 2650821816,
            "min": 0,
            "orientation": "horizontal",
            "style": "IPY_MODEL_e76d9e2ecaf94053acf233767e494f90",
            "value": 2650821816
          }
        },
        "ccb3edde458c4fe7aa86d52af427b0a7": {
          "model_module": "@jupyter-widgets/controls",
          "model_name": "HTMLModel",
          "model_module_version": "1.5.0",
          "state": {
            "_dom_classes": [],
            "_model_module": "@jupyter-widgets/controls",
            "_model_module_version": "1.5.0",
            "_model_name": "HTMLModel",
            "_view_count": null,
            "_view_module": "@jupyter-widgets/controls",
            "_view_module_version": "1.5.0",
            "_view_name": "HTMLView",
            "description": "",
            "description_tooltip": null,
            "layout": "IPY_MODEL_8b2c0f34d535482b93f3f52b582a019d",
            "placeholder": "​",
            "style": "IPY_MODEL_2c6163e0fb16448188ac2b2cc050d478",
            "value": " 2.65G/2.65G [00:12&lt;00:00, 260MB/s]"
          }
        },
        "ce2f460e467743eda10b3f14490080c5": {
          "model_module": "@jupyter-widgets/base",
          "model_name": "LayoutModel",
          "model_module_version": "1.2.0",
          "state": {
            "_model_module": "@jupyter-widgets/base",
            "_model_module_version": "1.2.0",
            "_model_name": "LayoutModel",
            "_view_count": null,
            "_view_module": "@jupyter-widgets/base",
            "_view_module_version": "1.2.0",
            "_view_name": "LayoutView",
            "align_content": null,
            "align_items": null,
            "align_self": null,
            "border": null,
            "bottom": null,
            "display": null,
            "flex": null,
            "flex_flow": null,
            "grid_area": null,
            "grid_auto_columns": null,
            "grid_auto_flow": null,
            "grid_auto_rows": null,
            "grid_column": null,
            "grid_gap": null,
            "grid_row": null,
            "grid_template_areas": null,
            "grid_template_columns": null,
            "grid_template_rows": null,
            "height": null,
            "justify_content": null,
            "justify_items": null,
            "left": null,
            "margin": null,
            "max_height": null,
            "max_width": null,
            "min_height": null,
            "min_width": null,
            "object_fit": null,
            "object_position": null,
            "order": null,
            "overflow": null,
            "overflow_x": null,
            "overflow_y": null,
            "padding": null,
            "right": null,
            "top": null,
            "visibility": null,
            "width": null
          }
        },
        "bae8875d6a8d45e68e8ead3fd34c6361": {
          "model_module": "@jupyter-widgets/base",
          "model_name": "LayoutModel",
          "model_module_version": "1.2.0",
          "state": {
            "_model_module": "@jupyter-widgets/base",
            "_model_module_version": "1.2.0",
            "_model_name": "LayoutModel",
            "_view_count": null,
            "_view_module": "@jupyter-widgets/base",
            "_view_module_version": "1.2.0",
            "_view_name": "LayoutView",
            "align_content": null,
            "align_items": null,
            "align_self": null,
            "border": null,
            "bottom": null,
            "display": null,
            "flex": null,
            "flex_flow": null,
            "grid_area": null,
            "grid_auto_columns": null,
            "grid_auto_flow": null,
            "grid_auto_rows": null,
            "grid_column": null,
            "grid_gap": null,
            "grid_row": null,
            "grid_template_areas": null,
            "grid_template_columns": null,
            "grid_template_rows": null,
            "height": null,
            "justify_content": null,
            "justify_items": null,
            "left": null,
            "margin": null,
            "max_height": null,
            "max_width": null,
            "min_height": null,
            "min_width": null,
            "object_fit": null,
            "object_position": null,
            "order": null,
            "overflow": null,
            "overflow_x": null,
            "overflow_y": null,
            "padding": null,
            "right": null,
            "top": null,
            "visibility": null,
            "width": null
          }
        },
        "a3400a96a6fb4910aab8fa6fd075bdb0": {
          "model_module": "@jupyter-widgets/controls",
          "model_name": "DescriptionStyleModel",
          "model_module_version": "1.5.0",
          "state": {
            "_model_module": "@jupyter-widgets/controls",
            "_model_module_version": "1.5.0",
            "_model_name": "DescriptionStyleModel",
            "_view_count": null,
            "_view_module": "@jupyter-widgets/base",
            "_view_module_version": "1.2.0",
            "_view_name": "StyleView",
            "description_width": ""
          }
        },
        "b78b7cbeb6f248e7a4ed41dd6f67772d": {
          "model_module": "@jupyter-widgets/base",
          "model_name": "LayoutModel",
          "model_module_version": "1.2.0",
          "state": {
            "_model_module": "@jupyter-widgets/base",
            "_model_module_version": "1.2.0",
            "_model_name": "LayoutModel",
            "_view_count": null,
            "_view_module": "@jupyter-widgets/base",
            "_view_module_version": "1.2.0",
            "_view_name": "LayoutView",
            "align_content": null,
            "align_items": null,
            "align_self": null,
            "border": null,
            "bottom": null,
            "display": null,
            "flex": null,
            "flex_flow": null,
            "grid_area": null,
            "grid_auto_columns": null,
            "grid_auto_flow": null,
            "grid_auto_rows": null,
            "grid_column": null,
            "grid_gap": null,
            "grid_row": null,
            "grid_template_areas": null,
            "grid_template_columns": null,
            "grid_template_rows": null,
            "height": null,
            "justify_content": null,
            "justify_items": null,
            "left": null,
            "margin": null,
            "max_height": null,
            "max_width": null,
            "min_height": null,
            "min_width": null,
            "object_fit": null,
            "object_position": null,
            "order": null,
            "overflow": null,
            "overflow_x": null,
            "overflow_y": null,
            "padding": null,
            "right": null,
            "top": null,
            "visibility": null,
            "width": null
          }
        },
        "e76d9e2ecaf94053acf233767e494f90": {
          "model_module": "@jupyter-widgets/controls",
          "model_name": "ProgressStyleModel",
          "model_module_version": "1.5.0",
          "state": {
            "_model_module": "@jupyter-widgets/controls",
            "_model_module_version": "1.5.0",
            "_model_name": "ProgressStyleModel",
            "_view_count": null,
            "_view_module": "@jupyter-widgets/base",
            "_view_module_version": "1.2.0",
            "_view_name": "StyleView",
            "bar_color": null,
            "description_width": ""
          }
        },
        "8b2c0f34d535482b93f3f52b582a019d": {
          "model_module": "@jupyter-widgets/base",
          "model_name": "LayoutModel",
          "model_module_version": "1.2.0",
          "state": {
            "_model_module": "@jupyter-widgets/base",
            "_model_module_version": "1.2.0",
            "_model_name": "LayoutModel",
            "_view_count": null,
            "_view_module": "@jupyter-widgets/base",
            "_view_module_version": "1.2.0",
            "_view_name": "LayoutView",
            "align_content": null,
            "align_items": null,
            "align_self": null,
            "border": null,
            "bottom": null,
            "display": null,
            "flex": null,
            "flex_flow": null,
            "grid_area": null,
            "grid_auto_columns": null,
            "grid_auto_flow": null,
            "grid_auto_rows": null,
            "grid_column": null,
            "grid_gap": null,
            "grid_row": null,
            "grid_template_areas": null,
            "grid_template_columns": null,
            "grid_template_rows": null,
            "height": null,
            "justify_content": null,
            "justify_items": null,
            "left": null,
            "margin": null,
            "max_height": null,
            "max_width": null,
            "min_height": null,
            "min_width": null,
            "object_fit": null,
            "object_position": null,
            "order": null,
            "overflow": null,
            "overflow_x": null,
            "overflow_y": null,
            "padding": null,
            "right": null,
            "top": null,
            "visibility": null,
            "width": null
          }
        },
        "2c6163e0fb16448188ac2b2cc050d478": {
          "model_module": "@jupyter-widgets/controls",
          "model_name": "DescriptionStyleModel",
          "model_module_version": "1.5.0",
          "state": {
            "_model_module": "@jupyter-widgets/controls",
            "_model_module_version": "1.5.0",
            "_model_name": "DescriptionStyleModel",
            "_view_count": null,
            "_view_module": "@jupyter-widgets/base",
            "_view_module_version": "1.2.0",
            "_view_name": "StyleView",
            "description_width": ""
          }
        },
        "558334d252744ab4b870eeb8ffdcedac": {
          "model_module": "@jupyter-widgets/controls",
          "model_name": "HBoxModel",
          "model_module_version": "1.5.0",
          "state": {
            "_dom_classes": [],
            "_model_module": "@jupyter-widgets/controls",
            "_model_module_version": "1.5.0",
            "_model_name": "HBoxModel",
            "_view_count": null,
            "_view_module": "@jupyter-widgets/controls",
            "_view_module_version": "1.5.0",
            "_view_name": "HBoxView",
            "box_style": "",
            "children": [
              "IPY_MODEL_c0db7dde96fe401ca54577ba3c23f902",
              "IPY_MODEL_d68e3043ac32424cb8e0ca49090098eb",
              "IPY_MODEL_18dd68acfb4e4cfa9625a74a17d4067b"
            ],
            "layout": "IPY_MODEL_4eeaedce92a44687b2d7835d7de2ac05"
          }
        },
        "c0db7dde96fe401ca54577ba3c23f902": {
          "model_module": "@jupyter-widgets/controls",
          "model_name": "HTMLModel",
          "model_module_version": "1.5.0",
          "state": {
            "_dom_classes": [],
            "_model_module": "@jupyter-widgets/controls",
            "_model_module_version": "1.5.0",
            "_model_name": "HTMLModel",
            "_view_count": null,
            "_view_module": "@jupyter-widgets/controls",
            "_view_module_version": "1.5.0",
            "_view_name": "HTMLView",
            "description": "",
            "description_tooltip": null,
            "layout": "IPY_MODEL_b57ebc68ceb846c08569cec00b699228",
            "placeholder": "​",
            "style": "IPY_MODEL_e9b0bc6e117344bd865065c87b725eae",
            "value": "Loading checkpoint shards: 100%"
          }
        },
        "d68e3043ac32424cb8e0ca49090098eb": {
          "model_module": "@jupyter-widgets/controls",
          "model_name": "FloatProgressModel",
          "model_module_version": "1.5.0",
          "state": {
            "_dom_classes": [],
            "_model_module": "@jupyter-widgets/controls",
            "_model_module_version": "1.5.0",
            "_model_name": "FloatProgressModel",
            "_view_count": null,
            "_view_module": "@jupyter-widgets/controls",
            "_view_module_version": "1.5.0",
            "_view_name": "ProgressView",
            "bar_style": "success",
            "description": "",
            "description_tooltip": null,
            "layout": "IPY_MODEL_1f566dde2e934390bde8795ac3cbd1b1",
            "max": 2,
            "min": 0,
            "orientation": "horizontal",
            "style": "IPY_MODEL_eba76ff021b2424aa1c9125bcd129204",
            "value": 2
          }
        },
        "18dd68acfb4e4cfa9625a74a17d4067b": {
          "model_module": "@jupyter-widgets/controls",
          "model_name": "HTMLModel",
          "model_module_version": "1.5.0",
          "state": {
            "_dom_classes": [],
            "_model_module": "@jupyter-widgets/controls",
            "_model_module_version": "1.5.0",
            "_model_name": "HTMLModel",
            "_view_count": null,
            "_view_module": "@jupyter-widgets/controls",
            "_view_module_version": "1.5.0",
            "_view_name": "HTMLView",
            "description": "",
            "description_tooltip": null,
            "layout": "IPY_MODEL_8c1ee387663842858238a124cdd6ec31",
            "placeholder": "​",
            "style": "IPY_MODEL_318ca124a3d94f75a266ca67e48554ef",
            "value": " 2/2 [00:36&lt;00:00, 16.94s/it]"
          }
        },
        "4eeaedce92a44687b2d7835d7de2ac05": {
          "model_module": "@jupyter-widgets/base",
          "model_name": "LayoutModel",
          "model_module_version": "1.2.0",
          "state": {
            "_model_module": "@jupyter-widgets/base",
            "_model_module_version": "1.2.0",
            "_model_name": "LayoutModel",
            "_view_count": null,
            "_view_module": "@jupyter-widgets/base",
            "_view_module_version": "1.2.0",
            "_view_name": "LayoutView",
            "align_content": null,
            "align_items": null,
            "align_self": null,
            "border": null,
            "bottom": null,
            "display": null,
            "flex": null,
            "flex_flow": null,
            "grid_area": null,
            "grid_auto_columns": null,
            "grid_auto_flow": null,
            "grid_auto_rows": null,
            "grid_column": null,
            "grid_gap": null,
            "grid_row": null,
            "grid_template_areas": null,
            "grid_template_columns": null,
            "grid_template_rows": null,
            "height": null,
            "justify_content": null,
            "justify_items": null,
            "left": null,
            "margin": null,
            "max_height": null,
            "max_width": null,
            "min_height": null,
            "min_width": null,
            "object_fit": null,
            "object_position": null,
            "order": null,
            "overflow": null,
            "overflow_x": null,
            "overflow_y": null,
            "padding": null,
            "right": null,
            "top": null,
            "visibility": null,
            "width": null
          }
        },
        "b57ebc68ceb846c08569cec00b699228": {
          "model_module": "@jupyter-widgets/base",
          "model_name": "LayoutModel",
          "model_module_version": "1.2.0",
          "state": {
            "_model_module": "@jupyter-widgets/base",
            "_model_module_version": "1.2.0",
            "_model_name": "LayoutModel",
            "_view_count": null,
            "_view_module": "@jupyter-widgets/base",
            "_view_module_version": "1.2.0",
            "_view_name": "LayoutView",
            "align_content": null,
            "align_items": null,
            "align_self": null,
            "border": null,
            "bottom": null,
            "display": null,
            "flex": null,
            "flex_flow": null,
            "grid_area": null,
            "grid_auto_columns": null,
            "grid_auto_flow": null,
            "grid_auto_rows": null,
            "grid_column": null,
            "grid_gap": null,
            "grid_row": null,
            "grid_template_areas": null,
            "grid_template_columns": null,
            "grid_template_rows": null,
            "height": null,
            "justify_content": null,
            "justify_items": null,
            "left": null,
            "margin": null,
            "max_height": null,
            "max_width": null,
            "min_height": null,
            "min_width": null,
            "object_fit": null,
            "object_position": null,
            "order": null,
            "overflow": null,
            "overflow_x": null,
            "overflow_y": null,
            "padding": null,
            "right": null,
            "top": null,
            "visibility": null,
            "width": null
          }
        },
        "e9b0bc6e117344bd865065c87b725eae": {
          "model_module": "@jupyter-widgets/controls",
          "model_name": "DescriptionStyleModel",
          "model_module_version": "1.5.0",
          "state": {
            "_model_module": "@jupyter-widgets/controls",
            "_model_module_version": "1.5.0",
            "_model_name": "DescriptionStyleModel",
            "_view_count": null,
            "_view_module": "@jupyter-widgets/base",
            "_view_module_version": "1.2.0",
            "_view_name": "StyleView",
            "description_width": ""
          }
        },
        "1f566dde2e934390bde8795ac3cbd1b1": {
          "model_module": "@jupyter-widgets/base",
          "model_name": "LayoutModel",
          "model_module_version": "1.2.0",
          "state": {
            "_model_module": "@jupyter-widgets/base",
            "_model_module_version": "1.2.0",
            "_model_name": "LayoutModel",
            "_view_count": null,
            "_view_module": "@jupyter-widgets/base",
            "_view_module_version": "1.2.0",
            "_view_name": "LayoutView",
            "align_content": null,
            "align_items": null,
            "align_self": null,
            "border": null,
            "bottom": null,
            "display": null,
            "flex": null,
            "flex_flow": null,
            "grid_area": null,
            "grid_auto_columns": null,
            "grid_auto_flow": null,
            "grid_auto_rows": null,
            "grid_column": null,
            "grid_gap": null,
            "grid_row": null,
            "grid_template_areas": null,
            "grid_template_columns": null,
            "grid_template_rows": null,
            "height": null,
            "justify_content": null,
            "justify_items": null,
            "left": null,
            "margin": null,
            "max_height": null,
            "max_width": null,
            "min_height": null,
            "min_width": null,
            "object_fit": null,
            "object_position": null,
            "order": null,
            "overflow": null,
            "overflow_x": null,
            "overflow_y": null,
            "padding": null,
            "right": null,
            "top": null,
            "visibility": null,
            "width": null
          }
        },
        "eba76ff021b2424aa1c9125bcd129204": {
          "model_module": "@jupyter-widgets/controls",
          "model_name": "ProgressStyleModel",
          "model_module_version": "1.5.0",
          "state": {
            "_model_module": "@jupyter-widgets/controls",
            "_model_module_version": "1.5.0",
            "_model_name": "ProgressStyleModel",
            "_view_count": null,
            "_view_module": "@jupyter-widgets/base",
            "_view_module_version": "1.2.0",
            "_view_name": "StyleView",
            "bar_color": null,
            "description_width": ""
          }
        },
        "8c1ee387663842858238a124cdd6ec31": {
          "model_module": "@jupyter-widgets/base",
          "model_name": "LayoutModel",
          "model_module_version": "1.2.0",
          "state": {
            "_model_module": "@jupyter-widgets/base",
            "_model_module_version": "1.2.0",
            "_model_name": "LayoutModel",
            "_view_count": null,
            "_view_module": "@jupyter-widgets/base",
            "_view_module_version": "1.2.0",
            "_view_name": "LayoutView",
            "align_content": null,
            "align_items": null,
            "align_self": null,
            "border": null,
            "bottom": null,
            "display": null,
            "flex": null,
            "flex_flow": null,
            "grid_area": null,
            "grid_auto_columns": null,
            "grid_auto_flow": null,
            "grid_auto_rows": null,
            "grid_column": null,
            "grid_gap": null,
            "grid_row": null,
            "grid_template_areas": null,
            "grid_template_columns": null,
            "grid_template_rows": null,
            "height": null,
            "justify_content": null,
            "justify_items": null,
            "left": null,
            "margin": null,
            "max_height": null,
            "max_width": null,
            "min_height": null,
            "min_width": null,
            "object_fit": null,
            "object_position": null,
            "order": null,
            "overflow": null,
            "overflow_x": null,
            "overflow_y": null,
            "padding": null,
            "right": null,
            "top": null,
            "visibility": null,
            "width": null
          }
        },
        "318ca124a3d94f75a266ca67e48554ef": {
          "model_module": "@jupyter-widgets/controls",
          "model_name": "DescriptionStyleModel",
          "model_module_version": "1.5.0",
          "state": {
            "_model_module": "@jupyter-widgets/controls",
            "_model_module_version": "1.5.0",
            "_model_name": "DescriptionStyleModel",
            "_view_count": null,
            "_view_module": "@jupyter-widgets/base",
            "_view_module_version": "1.2.0",
            "_view_name": "StyleView",
            "description_width": ""
          }
        },
        "a613b2c5819a484cae5d7e4d1d5dc875": {
          "model_module": "@jupyter-widgets/controls",
          "model_name": "HBoxModel",
          "model_module_version": "1.5.0",
          "state": {
            "_dom_classes": [],
            "_model_module": "@jupyter-widgets/controls",
            "_model_module_version": "1.5.0",
            "_model_name": "HBoxModel",
            "_view_count": null,
            "_view_module": "@jupyter-widgets/controls",
            "_view_module_version": "1.5.0",
            "_view_name": "HBoxView",
            "box_style": "",
            "children": [
              "IPY_MODEL_4ab517ba04e5448aac53bf17f06b8e68",
              "IPY_MODEL_d9a504d361524f86a997b493f7c9efe0",
              "IPY_MODEL_f815a5dd8b534b36ab2dbfa176d52337"
            ],
            "layout": "IPY_MODEL_0596943aaeaa4904a801e225e3dbf538"
          }
        },
        "4ab517ba04e5448aac53bf17f06b8e68": {
          "model_module": "@jupyter-widgets/controls",
          "model_name": "HTMLModel",
          "model_module_version": "1.5.0",
          "state": {
            "_dom_classes": [],
            "_model_module": "@jupyter-widgets/controls",
            "_model_module_version": "1.5.0",
            "_model_name": "HTMLModel",
            "_view_count": null,
            "_view_module": "@jupyter-widgets/controls",
            "_view_module_version": "1.5.0",
            "_view_name": "HTMLView",
            "description": "",
            "description_tooltip": null,
            "layout": "IPY_MODEL_238200b28bd1484e9bd318f7d4a18ac3",
            "placeholder": "​",
            "style": "IPY_MODEL_e4d8e9588c634e8680ca4b76e592a705",
            "value": "generation_config.json: 100%"
          }
        },
        "d9a504d361524f86a997b493f7c9efe0": {
          "model_module": "@jupyter-widgets/controls",
          "model_name": "FloatProgressModel",
          "model_module_version": "1.5.0",
          "state": {
            "_dom_classes": [],
            "_model_module": "@jupyter-widgets/controls",
            "_model_module_version": "1.5.0",
            "_model_name": "FloatProgressModel",
            "_view_count": null,
            "_view_module": "@jupyter-widgets/controls",
            "_view_module_version": "1.5.0",
            "_view_name": "ProgressView",
            "bar_style": "success",
            "description": "",
            "description_tooltip": null,
            "layout": "IPY_MODEL_b7f640879fc34a08aacacc6890912db4",
            "max": 145,
            "min": 0,
            "orientation": "horizontal",
            "style": "IPY_MODEL_6f8e53b51ca64a3f94471bccc0be59a0",
            "value": 145
          }
        },
        "f815a5dd8b534b36ab2dbfa176d52337": {
          "model_module": "@jupyter-widgets/controls",
          "model_name": "HTMLModel",
          "model_module_version": "1.5.0",
          "state": {
            "_dom_classes": [],
            "_model_module": "@jupyter-widgets/controls",
            "_model_module_version": "1.5.0",
            "_model_name": "HTMLModel",
            "_view_count": null,
            "_view_module": "@jupyter-widgets/controls",
            "_view_module_version": "1.5.0",
            "_view_name": "HTMLView",
            "description": "",
            "description_tooltip": null,
            "layout": "IPY_MODEL_afe8fcb7e378423da568af2928e5b076",
            "placeholder": "​",
            "style": "IPY_MODEL_efff68d495b74ad8a34cd95ac91946e5",
            "value": " 145/145 [00:00&lt;00:00, 5.81kB/s]"
          }
        },
        "0596943aaeaa4904a801e225e3dbf538": {
          "model_module": "@jupyter-widgets/base",
          "model_name": "LayoutModel",
          "model_module_version": "1.2.0",
          "state": {
            "_model_module": "@jupyter-widgets/base",
            "_model_module_version": "1.2.0",
            "_model_name": "LayoutModel",
            "_view_count": null,
            "_view_module": "@jupyter-widgets/base",
            "_view_module_version": "1.2.0",
            "_view_name": "LayoutView",
            "align_content": null,
            "align_items": null,
            "align_self": null,
            "border": null,
            "bottom": null,
            "display": null,
            "flex": null,
            "flex_flow": null,
            "grid_area": null,
            "grid_auto_columns": null,
            "grid_auto_flow": null,
            "grid_auto_rows": null,
            "grid_column": null,
            "grid_gap": null,
            "grid_row": null,
            "grid_template_areas": null,
            "grid_template_columns": null,
            "grid_template_rows": null,
            "height": null,
            "justify_content": null,
            "justify_items": null,
            "left": null,
            "margin": null,
            "max_height": null,
            "max_width": null,
            "min_height": null,
            "min_width": null,
            "object_fit": null,
            "object_position": null,
            "order": null,
            "overflow": null,
            "overflow_x": null,
            "overflow_y": null,
            "padding": null,
            "right": null,
            "top": null,
            "visibility": null,
            "width": null
          }
        },
        "238200b28bd1484e9bd318f7d4a18ac3": {
          "model_module": "@jupyter-widgets/base",
          "model_name": "LayoutModel",
          "model_module_version": "1.2.0",
          "state": {
            "_model_module": "@jupyter-widgets/base",
            "_model_module_version": "1.2.0",
            "_model_name": "LayoutModel",
            "_view_count": null,
            "_view_module": "@jupyter-widgets/base",
            "_view_module_version": "1.2.0",
            "_view_name": "LayoutView",
            "align_content": null,
            "align_items": null,
            "align_self": null,
            "border": null,
            "bottom": null,
            "display": null,
            "flex": null,
            "flex_flow": null,
            "grid_area": null,
            "grid_auto_columns": null,
            "grid_auto_flow": null,
            "grid_auto_rows": null,
            "grid_column": null,
            "grid_gap": null,
            "grid_row": null,
            "grid_template_areas": null,
            "grid_template_columns": null,
            "grid_template_rows": null,
            "height": null,
            "justify_content": null,
            "justify_items": null,
            "left": null,
            "margin": null,
            "max_height": null,
            "max_width": null,
            "min_height": null,
            "min_width": null,
            "object_fit": null,
            "object_position": null,
            "order": null,
            "overflow": null,
            "overflow_x": null,
            "overflow_y": null,
            "padding": null,
            "right": null,
            "top": null,
            "visibility": null,
            "width": null
          }
        },
        "e4d8e9588c634e8680ca4b76e592a705": {
          "model_module": "@jupyter-widgets/controls",
          "model_name": "DescriptionStyleModel",
          "model_module_version": "1.5.0",
          "state": {
            "_model_module": "@jupyter-widgets/controls",
            "_model_module_version": "1.5.0",
            "_model_name": "DescriptionStyleModel",
            "_view_count": null,
            "_view_module": "@jupyter-widgets/base",
            "_view_module_version": "1.2.0",
            "_view_name": "StyleView",
            "description_width": ""
          }
        },
        "b7f640879fc34a08aacacc6890912db4": {
          "model_module": "@jupyter-widgets/base",
          "model_name": "LayoutModel",
          "model_module_version": "1.2.0",
          "state": {
            "_model_module": "@jupyter-widgets/base",
            "_model_module_version": "1.2.0",
            "_model_name": "LayoutModel",
            "_view_count": null,
            "_view_module": "@jupyter-widgets/base",
            "_view_module_version": "1.2.0",
            "_view_name": "LayoutView",
            "align_content": null,
            "align_items": null,
            "align_self": null,
            "border": null,
            "bottom": null,
            "display": null,
            "flex": null,
            "flex_flow": null,
            "grid_area": null,
            "grid_auto_columns": null,
            "grid_auto_flow": null,
            "grid_auto_rows": null,
            "grid_column": null,
            "grid_gap": null,
            "grid_row": null,
            "grid_template_areas": null,
            "grid_template_columns": null,
            "grid_template_rows": null,
            "height": null,
            "justify_content": null,
            "justify_items": null,
            "left": null,
            "margin": null,
            "max_height": null,
            "max_width": null,
            "min_height": null,
            "min_width": null,
            "object_fit": null,
            "object_position": null,
            "order": null,
            "overflow": null,
            "overflow_x": null,
            "overflow_y": null,
            "padding": null,
            "right": null,
            "top": null,
            "visibility": null,
            "width": null
          }
        },
        "6f8e53b51ca64a3f94471bccc0be59a0": {
          "model_module": "@jupyter-widgets/controls",
          "model_name": "ProgressStyleModel",
          "model_module_version": "1.5.0",
          "state": {
            "_model_module": "@jupyter-widgets/controls",
            "_model_module_version": "1.5.0",
            "_model_name": "ProgressStyleModel",
            "_view_count": null,
            "_view_module": "@jupyter-widgets/base",
            "_view_module_version": "1.2.0",
            "_view_name": "StyleView",
            "bar_color": null,
            "description_width": ""
          }
        },
        "afe8fcb7e378423da568af2928e5b076": {
          "model_module": "@jupyter-widgets/base",
          "model_name": "LayoutModel",
          "model_module_version": "1.2.0",
          "state": {
            "_model_module": "@jupyter-widgets/base",
            "_model_module_version": "1.2.0",
            "_model_name": "LayoutModel",
            "_view_count": null,
            "_view_module": "@jupyter-widgets/base",
            "_view_module_version": "1.2.0",
            "_view_name": "LayoutView",
            "align_content": null,
            "align_items": null,
            "align_self": null,
            "border": null,
            "bottom": null,
            "display": null,
            "flex": null,
            "flex_flow": null,
            "grid_area": null,
            "grid_auto_columns": null,
            "grid_auto_flow": null,
            "grid_auto_rows": null,
            "grid_column": null,
            "grid_gap": null,
            "grid_row": null,
            "grid_template_areas": null,
            "grid_template_columns": null,
            "grid_template_rows": null,
            "height": null,
            "justify_content": null,
            "justify_items": null,
            "left": null,
            "margin": null,
            "max_height": null,
            "max_width": null,
            "min_height": null,
            "min_width": null,
            "object_fit": null,
            "object_position": null,
            "order": null,
            "overflow": null,
            "overflow_x": null,
            "overflow_y": null,
            "padding": null,
            "right": null,
            "top": null,
            "visibility": null,
            "width": null
          }
        },
        "efff68d495b74ad8a34cd95ac91946e5": {
          "model_module": "@jupyter-widgets/controls",
          "model_name": "DescriptionStyleModel",
          "model_module_version": "1.5.0",
          "state": {
            "_model_module": "@jupyter-widgets/controls",
            "_model_module_version": "1.5.0",
            "_model_name": "DescriptionStyleModel",
            "_view_count": null,
            "_view_module": "@jupyter-widgets/base",
            "_view_module_version": "1.2.0",
            "_view_name": "StyleView",
            "description_width": ""
          }
        },
        "ae065ddc88c94db3b80ece18bdbab96d": {
          "model_module": "@jupyter-widgets/controls",
          "model_name": "HBoxModel",
          "model_module_version": "1.5.0",
          "state": {
            "_dom_classes": [],
            "_model_module": "@jupyter-widgets/controls",
            "_model_module_version": "1.5.0",
            "_model_name": "HBoxModel",
            "_view_count": null,
            "_view_module": "@jupyter-widgets/controls",
            "_view_module_version": "1.5.0",
            "_view_name": "HBoxView",
            "box_style": "",
            "children": [
              "IPY_MODEL_65d9751910aa49689c8c0819c433df79",
              "IPY_MODEL_ad2a4745e95f47bd80957b501aedf320",
              "IPY_MODEL_36b73cc03b434c909618aa0cf8f79567"
            ],
            "layout": "IPY_MODEL_c5af03c3cfba4b939b92bc5e846cc322"
          }
        },
        "65d9751910aa49689c8c0819c433df79": {
          "model_module": "@jupyter-widgets/controls",
          "model_name": "HTMLModel",
          "model_module_version": "1.5.0",
          "state": {
            "_dom_classes": [],
            "_model_module": "@jupyter-widgets/controls",
            "_model_module_version": "1.5.0",
            "_model_name": "HTMLModel",
            "_view_count": null,
            "_view_module": "@jupyter-widgets/controls",
            "_view_module_version": "1.5.0",
            "_view_name": "HTMLView",
            "description": "",
            "description_tooltip": null,
            "layout": "IPY_MODEL_5e9d4614418e4049abc82fe62ef97e97",
            "placeholder": "​",
            "style": "IPY_MODEL_cb7b130c9f5841c2bb85e6bf3a955ac0",
            "value": "tokenizer_config.json: 100%"
          }
        },
        "ad2a4745e95f47bd80957b501aedf320": {
          "model_module": "@jupyter-widgets/controls",
          "model_name": "FloatProgressModel",
          "model_module_version": "1.5.0",
          "state": {
            "_dom_classes": [],
            "_model_module": "@jupyter-widgets/controls",
            "_model_module_version": "1.5.0",
            "_model_name": "FloatProgressModel",
            "_view_count": null,
            "_view_module": "@jupyter-widgets/controls",
            "_view_module_version": "1.5.0",
            "_view_name": "ProgressView",
            "bar_style": "success",
            "description": "",
            "description_tooltip": null,
            "layout": "IPY_MODEL_b5ca51db15dd4306bee693c4cbf59c3b",
            "max": 3342,
            "min": 0,
            "orientation": "horizontal",
            "style": "IPY_MODEL_d150026c38bd498ea268f69ca6046dee",
            "value": 3342
          }
        },
        "36b73cc03b434c909618aa0cf8f79567": {
          "model_module": "@jupyter-widgets/controls",
          "model_name": "HTMLModel",
          "model_module_version": "1.5.0",
          "state": {
            "_dom_classes": [],
            "_model_module": "@jupyter-widgets/controls",
            "_model_module_version": "1.5.0",
            "_model_name": "HTMLModel",
            "_view_count": null,
            "_view_module": "@jupyter-widgets/controls",
            "_view_module_version": "1.5.0",
            "_view_name": "HTMLView",
            "description": "",
            "description_tooltip": null,
            "layout": "IPY_MODEL_81521bc8409045ed8afed7a1e669ef0a",
            "placeholder": "​",
            "style": "IPY_MODEL_1db9697fac454e719a8a2d2a5680680f",
            "value": " 3.34k/3.34k [00:00&lt;00:00, 151kB/s]"
          }
        },
        "c5af03c3cfba4b939b92bc5e846cc322": {
          "model_module": "@jupyter-widgets/base",
          "model_name": "LayoutModel",
          "model_module_version": "1.2.0",
          "state": {
            "_model_module": "@jupyter-widgets/base",
            "_model_module_version": "1.2.0",
            "_model_name": "LayoutModel",
            "_view_count": null,
            "_view_module": "@jupyter-widgets/base",
            "_view_module_version": "1.2.0",
            "_view_name": "LayoutView",
            "align_content": null,
            "align_items": null,
            "align_self": null,
            "border": null,
            "bottom": null,
            "display": null,
            "flex": null,
            "flex_flow": null,
            "grid_area": null,
            "grid_auto_columns": null,
            "grid_auto_flow": null,
            "grid_auto_rows": null,
            "grid_column": null,
            "grid_gap": null,
            "grid_row": null,
            "grid_template_areas": null,
            "grid_template_columns": null,
            "grid_template_rows": null,
            "height": null,
            "justify_content": null,
            "justify_items": null,
            "left": null,
            "margin": null,
            "max_height": null,
            "max_width": null,
            "min_height": null,
            "min_width": null,
            "object_fit": null,
            "object_position": null,
            "order": null,
            "overflow": null,
            "overflow_x": null,
            "overflow_y": null,
            "padding": null,
            "right": null,
            "top": null,
            "visibility": null,
            "width": null
          }
        },
        "5e9d4614418e4049abc82fe62ef97e97": {
          "model_module": "@jupyter-widgets/base",
          "model_name": "LayoutModel",
          "model_module_version": "1.2.0",
          "state": {
            "_model_module": "@jupyter-widgets/base",
            "_model_module_version": "1.2.0",
            "_model_name": "LayoutModel",
            "_view_count": null,
            "_view_module": "@jupyter-widgets/base",
            "_view_module_version": "1.2.0",
            "_view_name": "LayoutView",
            "align_content": null,
            "align_items": null,
            "align_self": null,
            "border": null,
            "bottom": null,
            "display": null,
            "flex": null,
            "flex_flow": null,
            "grid_area": null,
            "grid_auto_columns": null,
            "grid_auto_flow": null,
            "grid_auto_rows": null,
            "grid_column": null,
            "grid_gap": null,
            "grid_row": null,
            "grid_template_areas": null,
            "grid_template_columns": null,
            "grid_template_rows": null,
            "height": null,
            "justify_content": null,
            "justify_items": null,
            "left": null,
            "margin": null,
            "max_height": null,
            "max_width": null,
            "min_height": null,
            "min_width": null,
            "object_fit": null,
            "object_position": null,
            "order": null,
            "overflow": null,
            "overflow_x": null,
            "overflow_y": null,
            "padding": null,
            "right": null,
            "top": null,
            "visibility": null,
            "width": null
          }
        },
        "cb7b130c9f5841c2bb85e6bf3a955ac0": {
          "model_module": "@jupyter-widgets/controls",
          "model_name": "DescriptionStyleModel",
          "model_module_version": "1.5.0",
          "state": {
            "_model_module": "@jupyter-widgets/controls",
            "_model_module_version": "1.5.0",
            "_model_name": "DescriptionStyleModel",
            "_view_count": null,
            "_view_module": "@jupyter-widgets/base",
            "_view_module_version": "1.2.0",
            "_view_name": "StyleView",
            "description_width": ""
          }
        },
        "b5ca51db15dd4306bee693c4cbf59c3b": {
          "model_module": "@jupyter-widgets/base",
          "model_name": "LayoutModel",
          "model_module_version": "1.2.0",
          "state": {
            "_model_module": "@jupyter-widgets/base",
            "_model_module_version": "1.2.0",
            "_model_name": "LayoutModel",
            "_view_count": null,
            "_view_module": "@jupyter-widgets/base",
            "_view_module_version": "1.2.0",
            "_view_name": "LayoutView",
            "align_content": null,
            "align_items": null,
            "align_self": null,
            "border": null,
            "bottom": null,
            "display": null,
            "flex": null,
            "flex_flow": null,
            "grid_area": null,
            "grid_auto_columns": null,
            "grid_auto_flow": null,
            "grid_auto_rows": null,
            "grid_column": null,
            "grid_gap": null,
            "grid_row": null,
            "grid_template_areas": null,
            "grid_template_columns": null,
            "grid_template_rows": null,
            "height": null,
            "justify_content": null,
            "justify_items": null,
            "left": null,
            "margin": null,
            "max_height": null,
            "max_width": null,
            "min_height": null,
            "min_width": null,
            "object_fit": null,
            "object_position": null,
            "order": null,
            "overflow": null,
            "overflow_x": null,
            "overflow_y": null,
            "padding": null,
            "right": null,
            "top": null,
            "visibility": null,
            "width": null
          }
        },
        "d150026c38bd498ea268f69ca6046dee": {
          "model_module": "@jupyter-widgets/controls",
          "model_name": "ProgressStyleModel",
          "model_module_version": "1.5.0",
          "state": {
            "_model_module": "@jupyter-widgets/controls",
            "_model_module_version": "1.5.0",
            "_model_name": "ProgressStyleModel",
            "_view_count": null,
            "_view_module": "@jupyter-widgets/base",
            "_view_module_version": "1.2.0",
            "_view_name": "StyleView",
            "bar_color": null,
            "description_width": ""
          }
        },
        "81521bc8409045ed8afed7a1e669ef0a": {
          "model_module": "@jupyter-widgets/base",
          "model_name": "LayoutModel",
          "model_module_version": "1.2.0",
          "state": {
            "_model_module": "@jupyter-widgets/base",
            "_model_module_version": "1.2.0",
            "_model_name": "LayoutModel",
            "_view_count": null,
            "_view_module": "@jupyter-widgets/base",
            "_view_module_version": "1.2.0",
            "_view_name": "LayoutView",
            "align_content": null,
            "align_items": null,
            "align_self": null,
            "border": null,
            "bottom": null,
            "display": null,
            "flex": null,
            "flex_flow": null,
            "grid_area": null,
            "grid_auto_columns": null,
            "grid_auto_flow": null,
            "grid_auto_rows": null,
            "grid_column": null,
            "grid_gap": null,
            "grid_row": null,
            "grid_template_areas": null,
            "grid_template_columns": null,
            "grid_template_rows": null,
            "height": null,
            "justify_content": null,
            "justify_items": null,
            "left": null,
            "margin": null,
            "max_height": null,
            "max_width": null,
            "min_height": null,
            "min_width": null,
            "object_fit": null,
            "object_position": null,
            "order": null,
            "overflow": null,
            "overflow_x": null,
            "overflow_y": null,
            "padding": null,
            "right": null,
            "top": null,
            "visibility": null,
            "width": null
          }
        },
        "1db9697fac454e719a8a2d2a5680680f": {
          "model_module": "@jupyter-widgets/controls",
          "model_name": "DescriptionStyleModel",
          "model_module_version": "1.5.0",
          "state": {
            "_model_module": "@jupyter-widgets/controls",
            "_model_module_version": "1.5.0",
            "_model_name": "DescriptionStyleModel",
            "_view_count": null,
            "_view_module": "@jupyter-widgets/base",
            "_view_module_version": "1.2.0",
            "_view_name": "StyleView",
            "description_width": ""
          }
        },
        "7ad18b446d4144acacc6f9de815df842": {
          "model_module": "@jupyter-widgets/controls",
          "model_name": "HBoxModel",
          "model_module_version": "1.5.0",
          "state": {
            "_dom_classes": [],
            "_model_module": "@jupyter-widgets/controls",
            "_model_module_version": "1.5.0",
            "_model_name": "HBoxModel",
            "_view_count": null,
            "_view_module": "@jupyter-widgets/controls",
            "_view_module_version": "1.5.0",
            "_view_name": "HBoxView",
            "box_style": "",
            "children": [
              "IPY_MODEL_f5ee0d011e6a48fe8b50189bc450e4d6",
              "IPY_MODEL_ed3dd320a27b4e618178c5017003b5dc",
              "IPY_MODEL_a94e6f1fe1cb421888f2ad4f9ed0a325"
            ],
            "layout": "IPY_MODEL_d6fd1350150a4c9e86d834bc9036ae09"
          }
        },
        "f5ee0d011e6a48fe8b50189bc450e4d6": {
          "model_module": "@jupyter-widgets/controls",
          "model_name": "HTMLModel",
          "model_module_version": "1.5.0",
          "state": {
            "_dom_classes": [],
            "_model_module": "@jupyter-widgets/controls",
            "_model_module_version": "1.5.0",
            "_model_name": "HTMLModel",
            "_view_count": null,
            "_view_module": "@jupyter-widgets/controls",
            "_view_module_version": "1.5.0",
            "_view_name": "HTMLView",
            "description": "",
            "description_tooltip": null,
            "layout": "IPY_MODEL_00c9b6d3e35349688b7ec138fc47b9aa",
            "placeholder": "​",
            "style": "IPY_MODEL_b30884d6ce2640c2ac51bf04a3d8c924",
            "value": "tokenizer.model: 100%"
          }
        },
        "ed3dd320a27b4e618178c5017003b5dc": {
          "model_module": "@jupyter-widgets/controls",
          "model_name": "FloatProgressModel",
          "model_module_version": "1.5.0",
          "state": {
            "_dom_classes": [],
            "_model_module": "@jupyter-widgets/controls",
            "_model_module_version": "1.5.0",
            "_model_name": "FloatProgressModel",
            "_view_count": null,
            "_view_module": "@jupyter-widgets/controls",
            "_view_module_version": "1.5.0",
            "_view_name": "ProgressView",
            "bar_style": "success",
            "description": "",
            "description_tooltip": null,
            "layout": "IPY_MODEL_4b7963c2f1604fc8a8e8c8cc52e8f968",
            "max": 499723,
            "min": 0,
            "orientation": "horizontal",
            "style": "IPY_MODEL_b81cc5ac4fc543ebaf1358984a81ed2a",
            "value": 499723
          }
        },
        "a94e6f1fe1cb421888f2ad4f9ed0a325": {
          "model_module": "@jupyter-widgets/controls",
          "model_name": "HTMLModel",
          "model_module_version": "1.5.0",
          "state": {
            "_dom_classes": [],
            "_model_module": "@jupyter-widgets/controls",
            "_model_module_version": "1.5.0",
            "_model_name": "HTMLModel",
            "_view_count": null,
            "_view_module": "@jupyter-widgets/controls",
            "_view_module_version": "1.5.0",
            "_view_name": "HTMLView",
            "description": "",
            "description_tooltip": null,
            "layout": "IPY_MODEL_4e2462efafb744e59b05d00f67d85c27",
            "placeholder": "​",
            "style": "IPY_MODEL_23eb3c4661ae45239396022f784bc2e1",
            "value": " 500k/500k [00:00&lt;00:00, 33.8MB/s]"
          }
        },
        "d6fd1350150a4c9e86d834bc9036ae09": {
          "model_module": "@jupyter-widgets/base",
          "model_name": "LayoutModel",
          "model_module_version": "1.2.0",
          "state": {
            "_model_module": "@jupyter-widgets/base",
            "_model_module_version": "1.2.0",
            "_model_name": "LayoutModel",
            "_view_count": null,
            "_view_module": "@jupyter-widgets/base",
            "_view_module_version": "1.2.0",
            "_view_name": "LayoutView",
            "align_content": null,
            "align_items": null,
            "align_self": null,
            "border": null,
            "bottom": null,
            "display": null,
            "flex": null,
            "flex_flow": null,
            "grid_area": null,
            "grid_auto_columns": null,
            "grid_auto_flow": null,
            "grid_auto_rows": null,
            "grid_column": null,
            "grid_gap": null,
            "grid_row": null,
            "grid_template_areas": null,
            "grid_template_columns": null,
            "grid_template_rows": null,
            "height": null,
            "justify_content": null,
            "justify_items": null,
            "left": null,
            "margin": null,
            "max_height": null,
            "max_width": null,
            "min_height": null,
            "min_width": null,
            "object_fit": null,
            "object_position": null,
            "order": null,
            "overflow": null,
            "overflow_x": null,
            "overflow_y": null,
            "padding": null,
            "right": null,
            "top": null,
            "visibility": null,
            "width": null
          }
        },
        "00c9b6d3e35349688b7ec138fc47b9aa": {
          "model_module": "@jupyter-widgets/base",
          "model_name": "LayoutModel",
          "model_module_version": "1.2.0",
          "state": {
            "_model_module": "@jupyter-widgets/base",
            "_model_module_version": "1.2.0",
            "_model_name": "LayoutModel",
            "_view_count": null,
            "_view_module": "@jupyter-widgets/base",
            "_view_module_version": "1.2.0",
            "_view_name": "LayoutView",
            "align_content": null,
            "align_items": null,
            "align_self": null,
            "border": null,
            "bottom": null,
            "display": null,
            "flex": null,
            "flex_flow": null,
            "grid_area": null,
            "grid_auto_columns": null,
            "grid_auto_flow": null,
            "grid_auto_rows": null,
            "grid_column": null,
            "grid_gap": null,
            "grid_row": null,
            "grid_template_areas": null,
            "grid_template_columns": null,
            "grid_template_rows": null,
            "height": null,
            "justify_content": null,
            "justify_items": null,
            "left": null,
            "margin": null,
            "max_height": null,
            "max_width": null,
            "min_height": null,
            "min_width": null,
            "object_fit": null,
            "object_position": null,
            "order": null,
            "overflow": null,
            "overflow_x": null,
            "overflow_y": null,
            "padding": null,
            "right": null,
            "top": null,
            "visibility": null,
            "width": null
          }
        },
        "b30884d6ce2640c2ac51bf04a3d8c924": {
          "model_module": "@jupyter-widgets/controls",
          "model_name": "DescriptionStyleModel",
          "model_module_version": "1.5.0",
          "state": {
            "_model_module": "@jupyter-widgets/controls",
            "_model_module_version": "1.5.0",
            "_model_name": "DescriptionStyleModel",
            "_view_count": null,
            "_view_module": "@jupyter-widgets/base",
            "_view_module_version": "1.2.0",
            "_view_name": "StyleView",
            "description_width": ""
          }
        },
        "4b7963c2f1604fc8a8e8c8cc52e8f968": {
          "model_module": "@jupyter-widgets/base",
          "model_name": "LayoutModel",
          "model_module_version": "1.2.0",
          "state": {
            "_model_module": "@jupyter-widgets/base",
            "_model_module_version": "1.2.0",
            "_model_name": "LayoutModel",
            "_view_count": null,
            "_view_module": "@jupyter-widgets/base",
            "_view_module_version": "1.2.0",
            "_view_name": "LayoutView",
            "align_content": null,
            "align_items": null,
            "align_self": null,
            "border": null,
            "bottom": null,
            "display": null,
            "flex": null,
            "flex_flow": null,
            "grid_area": null,
            "grid_auto_columns": null,
            "grid_auto_flow": null,
            "grid_auto_rows": null,
            "grid_column": null,
            "grid_gap": null,
            "grid_row": null,
            "grid_template_areas": null,
            "grid_template_columns": null,
            "grid_template_rows": null,
            "height": null,
            "justify_content": null,
            "justify_items": null,
            "left": null,
            "margin": null,
            "max_height": null,
            "max_width": null,
            "min_height": null,
            "min_width": null,
            "object_fit": null,
            "object_position": null,
            "order": null,
            "overflow": null,
            "overflow_x": null,
            "overflow_y": null,
            "padding": null,
            "right": null,
            "top": null,
            "visibility": null,
            "width": null
          }
        },
        "b81cc5ac4fc543ebaf1358984a81ed2a": {
          "model_module": "@jupyter-widgets/controls",
          "model_name": "ProgressStyleModel",
          "model_module_version": "1.5.0",
          "state": {
            "_model_module": "@jupyter-widgets/controls",
            "_model_module_version": "1.5.0",
            "_model_name": "ProgressStyleModel",
            "_view_count": null,
            "_view_module": "@jupyter-widgets/base",
            "_view_module_version": "1.2.0",
            "_view_name": "StyleView",
            "bar_color": null,
            "description_width": ""
          }
        },
        "4e2462efafb744e59b05d00f67d85c27": {
          "model_module": "@jupyter-widgets/base",
          "model_name": "LayoutModel",
          "model_module_version": "1.2.0",
          "state": {
            "_model_module": "@jupyter-widgets/base",
            "_model_module_version": "1.2.0",
            "_model_name": "LayoutModel",
            "_view_count": null,
            "_view_module": "@jupyter-widgets/base",
            "_view_module_version": "1.2.0",
            "_view_name": "LayoutView",
            "align_content": null,
            "align_items": null,
            "align_self": null,
            "border": null,
            "bottom": null,
            "display": null,
            "flex": null,
            "flex_flow": null,
            "grid_area": null,
            "grid_auto_columns": null,
            "grid_auto_flow": null,
            "grid_auto_rows": null,
            "grid_column": null,
            "grid_gap": null,
            "grid_row": null,
            "grid_template_areas": null,
            "grid_template_columns": null,
            "grid_template_rows": null,
            "height": null,
            "justify_content": null,
            "justify_items": null,
            "left": null,
            "margin": null,
            "max_height": null,
            "max_width": null,
            "min_height": null,
            "min_width": null,
            "object_fit": null,
            "object_position": null,
            "order": null,
            "overflow": null,
            "overflow_x": null,
            "overflow_y": null,
            "padding": null,
            "right": null,
            "top": null,
            "visibility": null,
            "width": null
          }
        },
        "23eb3c4661ae45239396022f784bc2e1": {
          "model_module": "@jupyter-widgets/controls",
          "model_name": "DescriptionStyleModel",
          "model_module_version": "1.5.0",
          "state": {
            "_model_module": "@jupyter-widgets/controls",
            "_model_module_version": "1.5.0",
            "_model_name": "DescriptionStyleModel",
            "_view_count": null,
            "_view_module": "@jupyter-widgets/base",
            "_view_module_version": "1.2.0",
            "_view_name": "StyleView",
            "description_width": ""
          }
        },
        "7046ccc8911b456580e063ed83797c6e": {
          "model_module": "@jupyter-widgets/controls",
          "model_name": "HBoxModel",
          "model_module_version": "1.5.0",
          "state": {
            "_dom_classes": [],
            "_model_module": "@jupyter-widgets/controls",
            "_model_module_version": "1.5.0",
            "_model_name": "HBoxModel",
            "_view_count": null,
            "_view_module": "@jupyter-widgets/controls",
            "_view_module_version": "1.5.0",
            "_view_name": "HBoxView",
            "box_style": "",
            "children": [
              "IPY_MODEL_022b7455c4e14e3a88dc256f5a7b664d",
              "IPY_MODEL_514ca17bc5e94cda85981ecb273ebcd9",
              "IPY_MODEL_801ff06fd17642838a2473c84a6daa65"
            ],
            "layout": "IPY_MODEL_9d3204fae6f24dada5730a71f502a6e3"
          }
        },
        "022b7455c4e14e3a88dc256f5a7b664d": {
          "model_module": "@jupyter-widgets/controls",
          "model_name": "HTMLModel",
          "model_module_version": "1.5.0",
          "state": {
            "_dom_classes": [],
            "_model_module": "@jupyter-widgets/controls",
            "_model_module_version": "1.5.0",
            "_model_name": "HTMLModel",
            "_view_count": null,
            "_view_module": "@jupyter-widgets/controls",
            "_view_module_version": "1.5.0",
            "_view_name": "HTMLView",
            "description": "",
            "description_tooltip": null,
            "layout": "IPY_MODEL_8d18ff6157794225a8839b3e7ef5f01a",
            "placeholder": "​",
            "style": "IPY_MODEL_536c483ab5504dd1b846e098967edc7d",
            "value": "added_tokens.json: 100%"
          }
        },
        "514ca17bc5e94cda85981ecb273ebcd9": {
          "model_module": "@jupyter-widgets/controls",
          "model_name": "FloatProgressModel",
          "model_module_version": "1.5.0",
          "state": {
            "_dom_classes": [],
            "_model_module": "@jupyter-widgets/controls",
            "_model_module_version": "1.5.0",
            "_model_name": "FloatProgressModel",
            "_view_count": null,
            "_view_module": "@jupyter-widgets/controls",
            "_view_module_version": "1.5.0",
            "_view_name": "ProgressView",
            "bar_style": "success",
            "description": "",
            "description_tooltip": null,
            "layout": "IPY_MODEL_3ffea3f347364af3848ef88b3fd5d955",
            "max": 293,
            "min": 0,
            "orientation": "horizontal",
            "style": "IPY_MODEL_7748291a5d6e408e94af876f390cf540",
            "value": 293
          }
        },
        "801ff06fd17642838a2473c84a6daa65": {
          "model_module": "@jupyter-widgets/controls",
          "model_name": "HTMLModel",
          "model_module_version": "1.5.0",
          "state": {
            "_dom_classes": [],
            "_model_module": "@jupyter-widgets/controls",
            "_model_module_version": "1.5.0",
            "_model_name": "HTMLModel",
            "_view_count": null,
            "_view_module": "@jupyter-widgets/controls",
            "_view_module_version": "1.5.0",
            "_view_name": "HTMLView",
            "description": "",
            "description_tooltip": null,
            "layout": "IPY_MODEL_6a3d92019254420aa41c51f5cdf80560",
            "placeholder": "​",
            "style": "IPY_MODEL_d53a08f04b534c47b8345680a20c45f5",
            "value": " 293/293 [00:00&lt;00:00, 22.4kB/s]"
          }
        },
        "9d3204fae6f24dada5730a71f502a6e3": {
          "model_module": "@jupyter-widgets/base",
          "model_name": "LayoutModel",
          "model_module_version": "1.2.0",
          "state": {
            "_model_module": "@jupyter-widgets/base",
            "_model_module_version": "1.2.0",
            "_model_name": "LayoutModel",
            "_view_count": null,
            "_view_module": "@jupyter-widgets/base",
            "_view_module_version": "1.2.0",
            "_view_name": "LayoutView",
            "align_content": null,
            "align_items": null,
            "align_self": null,
            "border": null,
            "bottom": null,
            "display": null,
            "flex": null,
            "flex_flow": null,
            "grid_area": null,
            "grid_auto_columns": null,
            "grid_auto_flow": null,
            "grid_auto_rows": null,
            "grid_column": null,
            "grid_gap": null,
            "grid_row": null,
            "grid_template_areas": null,
            "grid_template_columns": null,
            "grid_template_rows": null,
            "height": null,
            "justify_content": null,
            "justify_items": null,
            "left": null,
            "margin": null,
            "max_height": null,
            "max_width": null,
            "min_height": null,
            "min_width": null,
            "object_fit": null,
            "object_position": null,
            "order": null,
            "overflow": null,
            "overflow_x": null,
            "overflow_y": null,
            "padding": null,
            "right": null,
            "top": null,
            "visibility": null,
            "width": null
          }
        },
        "8d18ff6157794225a8839b3e7ef5f01a": {
          "model_module": "@jupyter-widgets/base",
          "model_name": "LayoutModel",
          "model_module_version": "1.2.0",
          "state": {
            "_model_module": "@jupyter-widgets/base",
            "_model_module_version": "1.2.0",
            "_model_name": "LayoutModel",
            "_view_count": null,
            "_view_module": "@jupyter-widgets/base",
            "_view_module_version": "1.2.0",
            "_view_name": "LayoutView",
            "align_content": null,
            "align_items": null,
            "align_self": null,
            "border": null,
            "bottom": null,
            "display": null,
            "flex": null,
            "flex_flow": null,
            "grid_area": null,
            "grid_auto_columns": null,
            "grid_auto_flow": null,
            "grid_auto_rows": null,
            "grid_column": null,
            "grid_gap": null,
            "grid_row": null,
            "grid_template_areas": null,
            "grid_template_columns": null,
            "grid_template_rows": null,
            "height": null,
            "justify_content": null,
            "justify_items": null,
            "left": null,
            "margin": null,
            "max_height": null,
            "max_width": null,
            "min_height": null,
            "min_width": null,
            "object_fit": null,
            "object_position": null,
            "order": null,
            "overflow": null,
            "overflow_x": null,
            "overflow_y": null,
            "padding": null,
            "right": null,
            "top": null,
            "visibility": null,
            "width": null
          }
        },
        "536c483ab5504dd1b846e098967edc7d": {
          "model_module": "@jupyter-widgets/controls",
          "model_name": "DescriptionStyleModel",
          "model_module_version": "1.5.0",
          "state": {
            "_model_module": "@jupyter-widgets/controls",
            "_model_module_version": "1.5.0",
            "_model_name": "DescriptionStyleModel",
            "_view_count": null,
            "_view_module": "@jupyter-widgets/base",
            "_view_module_version": "1.2.0",
            "_view_name": "StyleView",
            "description_width": ""
          }
        },
        "3ffea3f347364af3848ef88b3fd5d955": {
          "model_module": "@jupyter-widgets/base",
          "model_name": "LayoutModel",
          "model_module_version": "1.2.0",
          "state": {
            "_model_module": "@jupyter-widgets/base",
            "_model_module_version": "1.2.0",
            "_model_name": "LayoutModel",
            "_view_count": null,
            "_view_module": "@jupyter-widgets/base",
            "_view_module_version": "1.2.0",
            "_view_name": "LayoutView",
            "align_content": null,
            "align_items": null,
            "align_self": null,
            "border": null,
            "bottom": null,
            "display": null,
            "flex": null,
            "flex_flow": null,
            "grid_area": null,
            "grid_auto_columns": null,
            "grid_auto_flow": null,
            "grid_auto_rows": null,
            "grid_column": null,
            "grid_gap": null,
            "grid_row": null,
            "grid_template_areas": null,
            "grid_template_columns": null,
            "grid_template_rows": null,
            "height": null,
            "justify_content": null,
            "justify_items": null,
            "left": null,
            "margin": null,
            "max_height": null,
            "max_width": null,
            "min_height": null,
            "min_width": null,
            "object_fit": null,
            "object_position": null,
            "order": null,
            "overflow": null,
            "overflow_x": null,
            "overflow_y": null,
            "padding": null,
            "right": null,
            "top": null,
            "visibility": null,
            "width": null
          }
        },
        "7748291a5d6e408e94af876f390cf540": {
          "model_module": "@jupyter-widgets/controls",
          "model_name": "ProgressStyleModel",
          "model_module_version": "1.5.0",
          "state": {
            "_model_module": "@jupyter-widgets/controls",
            "_model_module_version": "1.5.0",
            "_model_name": "ProgressStyleModel",
            "_view_count": null,
            "_view_module": "@jupyter-widgets/base",
            "_view_module_version": "1.2.0",
            "_view_name": "StyleView",
            "bar_color": null,
            "description_width": ""
          }
        },
        "6a3d92019254420aa41c51f5cdf80560": {
          "model_module": "@jupyter-widgets/base",
          "model_name": "LayoutModel",
          "model_module_version": "1.2.0",
          "state": {
            "_model_module": "@jupyter-widgets/base",
            "_model_module_version": "1.2.0",
            "_model_name": "LayoutModel",
            "_view_count": null,
            "_view_module": "@jupyter-widgets/base",
            "_view_module_version": "1.2.0",
            "_view_name": "LayoutView",
            "align_content": null,
            "align_items": null,
            "align_self": null,
            "border": null,
            "bottom": null,
            "display": null,
            "flex": null,
            "flex_flow": null,
            "grid_area": null,
            "grid_auto_columns": null,
            "grid_auto_flow": null,
            "grid_auto_rows": null,
            "grid_column": null,
            "grid_gap": null,
            "grid_row": null,
            "grid_template_areas": null,
            "grid_template_columns": null,
            "grid_template_rows": null,
            "height": null,
            "justify_content": null,
            "justify_items": null,
            "left": null,
            "margin": null,
            "max_height": null,
            "max_width": null,
            "min_height": null,
            "min_width": null,
            "object_fit": null,
            "object_position": null,
            "order": null,
            "overflow": null,
            "overflow_x": null,
            "overflow_y": null,
            "padding": null,
            "right": null,
            "top": null,
            "visibility": null,
            "width": null
          }
        },
        "d53a08f04b534c47b8345680a20c45f5": {
          "model_module": "@jupyter-widgets/controls",
          "model_name": "DescriptionStyleModel",
          "model_module_version": "1.5.0",
          "state": {
            "_model_module": "@jupyter-widgets/controls",
            "_model_module_version": "1.5.0",
            "_model_name": "DescriptionStyleModel",
            "_view_count": null,
            "_view_module": "@jupyter-widgets/base",
            "_view_module_version": "1.2.0",
            "_view_name": "StyleView",
            "description_width": ""
          }
        },
        "6c64afcac574495c8c9297cdb2a44533": {
          "model_module": "@jupyter-widgets/controls",
          "model_name": "HBoxModel",
          "model_module_version": "1.5.0",
          "state": {
            "_dom_classes": [],
            "_model_module": "@jupyter-widgets/controls",
            "_model_module_version": "1.5.0",
            "_model_name": "HBoxModel",
            "_view_count": null,
            "_view_module": "@jupyter-widgets/controls",
            "_view_module_version": "1.5.0",
            "_view_name": "HBoxView",
            "box_style": "",
            "children": [
              "IPY_MODEL_9008194dfdb446bf8ae164640fa69bf9",
              "IPY_MODEL_611f8fc5e3d44b21b6564f74d326f9f2",
              "IPY_MODEL_0445b76275c94bd5873ab7632c218a3b"
            ],
            "layout": "IPY_MODEL_e0da574700a54c18a55fa860df0cf5d2"
          }
        },
        "9008194dfdb446bf8ae164640fa69bf9": {
          "model_module": "@jupyter-widgets/controls",
          "model_name": "HTMLModel",
          "model_module_version": "1.5.0",
          "state": {
            "_dom_classes": [],
            "_model_module": "@jupyter-widgets/controls",
            "_model_module_version": "1.5.0",
            "_model_name": "HTMLModel",
            "_view_count": null,
            "_view_module": "@jupyter-widgets/controls",
            "_view_module_version": "1.5.0",
            "_view_name": "HTMLView",
            "description": "",
            "description_tooltip": null,
            "layout": "IPY_MODEL_f1aef337c7274049bbebe272c738cfa7",
            "placeholder": "​",
            "style": "IPY_MODEL_e5299ad3b78c4df3b500017b83903728",
            "value": "special_tokens_map.json: 100%"
          }
        },
        "611f8fc5e3d44b21b6564f74d326f9f2": {
          "model_module": "@jupyter-widgets/controls",
          "model_name": "FloatProgressModel",
          "model_module_version": "1.5.0",
          "state": {
            "_dom_classes": [],
            "_model_module": "@jupyter-widgets/controls",
            "_model_module_version": "1.5.0",
            "_model_name": "FloatProgressModel",
            "_view_count": null,
            "_view_module": "@jupyter-widgets/controls",
            "_view_module_version": "1.5.0",
            "_view_name": "ProgressView",
            "bar_style": "success",
            "description": "",
            "description_tooltip": null,
            "layout": "IPY_MODEL_7dfd2e5cd16b4be598a362c491a01302",
            "max": 571,
            "min": 0,
            "orientation": "horizontal",
            "style": "IPY_MODEL_5667719ee1f94a24b7b66bc7f7947bba",
            "value": 571
          }
        },
        "0445b76275c94bd5873ab7632c218a3b": {
          "model_module": "@jupyter-widgets/controls",
          "model_name": "HTMLModel",
          "model_module_version": "1.5.0",
          "state": {
            "_dom_classes": [],
            "_model_module": "@jupyter-widgets/controls",
            "_model_module_version": "1.5.0",
            "_model_name": "HTMLModel",
            "_view_count": null,
            "_view_module": "@jupyter-widgets/controls",
            "_view_module_version": "1.5.0",
            "_view_name": "HTMLView",
            "description": "",
            "description_tooltip": null,
            "layout": "IPY_MODEL_837221413ccd404fa030236f42edb895",
            "placeholder": "​",
            "style": "IPY_MODEL_fe60aaf02a52493c81c1a5ff86c29fb9",
            "value": " 571/571 [00:00&lt;00:00, 38.5kB/s]"
          }
        },
        "e0da574700a54c18a55fa860df0cf5d2": {
          "model_module": "@jupyter-widgets/base",
          "model_name": "LayoutModel",
          "model_module_version": "1.2.0",
          "state": {
            "_model_module": "@jupyter-widgets/base",
            "_model_module_version": "1.2.0",
            "_model_name": "LayoutModel",
            "_view_count": null,
            "_view_module": "@jupyter-widgets/base",
            "_view_module_version": "1.2.0",
            "_view_name": "LayoutView",
            "align_content": null,
            "align_items": null,
            "align_self": null,
            "border": null,
            "bottom": null,
            "display": null,
            "flex": null,
            "flex_flow": null,
            "grid_area": null,
            "grid_auto_columns": null,
            "grid_auto_flow": null,
            "grid_auto_rows": null,
            "grid_column": null,
            "grid_gap": null,
            "grid_row": null,
            "grid_template_areas": null,
            "grid_template_columns": null,
            "grid_template_rows": null,
            "height": null,
            "justify_content": null,
            "justify_items": null,
            "left": null,
            "margin": null,
            "max_height": null,
            "max_width": null,
            "min_height": null,
            "min_width": null,
            "object_fit": null,
            "object_position": null,
            "order": null,
            "overflow": null,
            "overflow_x": null,
            "overflow_y": null,
            "padding": null,
            "right": null,
            "top": null,
            "visibility": null,
            "width": null
          }
        },
        "f1aef337c7274049bbebe272c738cfa7": {
          "model_module": "@jupyter-widgets/base",
          "model_name": "LayoutModel",
          "model_module_version": "1.2.0",
          "state": {
            "_model_module": "@jupyter-widgets/base",
            "_model_module_version": "1.2.0",
            "_model_name": "LayoutModel",
            "_view_count": null,
            "_view_module": "@jupyter-widgets/base",
            "_view_module_version": "1.2.0",
            "_view_name": "LayoutView",
            "align_content": null,
            "align_items": null,
            "align_self": null,
            "border": null,
            "bottom": null,
            "display": null,
            "flex": null,
            "flex_flow": null,
            "grid_area": null,
            "grid_auto_columns": null,
            "grid_auto_flow": null,
            "grid_auto_rows": null,
            "grid_column": null,
            "grid_gap": null,
            "grid_row": null,
            "grid_template_areas": null,
            "grid_template_columns": null,
            "grid_template_rows": null,
            "height": null,
            "justify_content": null,
            "justify_items": null,
            "left": null,
            "margin": null,
            "max_height": null,
            "max_width": null,
            "min_height": null,
            "min_width": null,
            "object_fit": null,
            "object_position": null,
            "order": null,
            "overflow": null,
            "overflow_x": null,
            "overflow_y": null,
            "padding": null,
            "right": null,
            "top": null,
            "visibility": null,
            "width": null
          }
        },
        "e5299ad3b78c4df3b500017b83903728": {
          "model_module": "@jupyter-widgets/controls",
          "model_name": "DescriptionStyleModel",
          "model_module_version": "1.5.0",
          "state": {
            "_model_module": "@jupyter-widgets/controls",
            "_model_module_version": "1.5.0",
            "_model_name": "DescriptionStyleModel",
            "_view_count": null,
            "_view_module": "@jupyter-widgets/base",
            "_view_module_version": "1.2.0",
            "_view_name": "StyleView",
            "description_width": ""
          }
        },
        "7dfd2e5cd16b4be598a362c491a01302": {
          "model_module": "@jupyter-widgets/base",
          "model_name": "LayoutModel",
          "model_module_version": "1.2.0",
          "state": {
            "_model_module": "@jupyter-widgets/base",
            "_model_module_version": "1.2.0",
            "_model_name": "LayoutModel",
            "_view_count": null,
            "_view_module": "@jupyter-widgets/base",
            "_view_module_version": "1.2.0",
            "_view_name": "LayoutView",
            "align_content": null,
            "align_items": null,
            "align_self": null,
            "border": null,
            "bottom": null,
            "display": null,
            "flex": null,
            "flex_flow": null,
            "grid_area": null,
            "grid_auto_columns": null,
            "grid_auto_flow": null,
            "grid_auto_rows": null,
            "grid_column": null,
            "grid_gap": null,
            "grid_row": null,
            "grid_template_areas": null,
            "grid_template_columns": null,
            "grid_template_rows": null,
            "height": null,
            "justify_content": null,
            "justify_items": null,
            "left": null,
            "margin": null,
            "max_height": null,
            "max_width": null,
            "min_height": null,
            "min_width": null,
            "object_fit": null,
            "object_position": null,
            "order": null,
            "overflow": null,
            "overflow_x": null,
            "overflow_y": null,
            "padding": null,
            "right": null,
            "top": null,
            "visibility": null,
            "width": null
          }
        },
        "5667719ee1f94a24b7b66bc7f7947bba": {
          "model_module": "@jupyter-widgets/controls",
          "model_name": "ProgressStyleModel",
          "model_module_version": "1.5.0",
          "state": {
            "_model_module": "@jupyter-widgets/controls",
            "_model_module_version": "1.5.0",
            "_model_name": "ProgressStyleModel",
            "_view_count": null,
            "_view_module": "@jupyter-widgets/base",
            "_view_module_version": "1.2.0",
            "_view_name": "StyleView",
            "bar_color": null,
            "description_width": ""
          }
        },
        "837221413ccd404fa030236f42edb895": {
          "model_module": "@jupyter-widgets/base",
          "model_name": "LayoutModel",
          "model_module_version": "1.2.0",
          "state": {
            "_model_module": "@jupyter-widgets/base",
            "_model_module_version": "1.2.0",
            "_model_name": "LayoutModel",
            "_view_count": null,
            "_view_module": "@jupyter-widgets/base",
            "_view_module_version": "1.2.0",
            "_view_name": "LayoutView",
            "align_content": null,
            "align_items": null,
            "align_self": null,
            "border": null,
            "bottom": null,
            "display": null,
            "flex": null,
            "flex_flow": null,
            "grid_area": null,
            "grid_auto_columns": null,
            "grid_auto_flow": null,
            "grid_auto_rows": null,
            "grid_column": null,
            "grid_gap": null,
            "grid_row": null,
            "grid_template_areas": null,
            "grid_template_columns": null,
            "grid_template_rows": null,
            "height": null,
            "justify_content": null,
            "justify_items": null,
            "left": null,
            "margin": null,
            "max_height": null,
            "max_width": null,
            "min_height": null,
            "min_width": null,
            "object_fit": null,
            "object_position": null,
            "order": null,
            "overflow": null,
            "overflow_x": null,
            "overflow_y": null,
            "padding": null,
            "right": null,
            "top": null,
            "visibility": null,
            "width": null
          }
        },
        "fe60aaf02a52493c81c1a5ff86c29fb9": {
          "model_module": "@jupyter-widgets/controls",
          "model_name": "DescriptionStyleModel",
          "model_module_version": "1.5.0",
          "state": {
            "_model_module": "@jupyter-widgets/controls",
            "_model_module_version": "1.5.0",
            "_model_name": "DescriptionStyleModel",
            "_view_count": null,
            "_view_module": "@jupyter-widgets/base",
            "_view_module_version": "1.2.0",
            "_view_name": "StyleView",
            "description_width": ""
          }
        },
        "5d239b77442a4564bb713678aac0c4b0": {
          "model_module": "@jupyter-widgets/controls",
          "model_name": "HBoxModel",
          "model_module_version": "1.5.0",
          "state": {
            "_dom_classes": [],
            "_model_module": "@jupyter-widgets/controls",
            "_model_module_version": "1.5.0",
            "_model_name": "HBoxModel",
            "_view_count": null,
            "_view_module": "@jupyter-widgets/controls",
            "_view_module_version": "1.5.0",
            "_view_name": "HBoxView",
            "box_style": "",
            "children": [
              "IPY_MODEL_b257d9d9a0cc4dd1a850cc371f78d1ab",
              "IPY_MODEL_e2db461c1ed74c6590dd2c46ee643845",
              "IPY_MODEL_8dee1bb41d8642e6abe80a54fc596378"
            ],
            "layout": "IPY_MODEL_147189dd20734b03b6e36bb45d76c7cf"
          }
        },
        "b257d9d9a0cc4dd1a850cc371f78d1ab": {
          "model_module": "@jupyter-widgets/controls",
          "model_name": "HTMLModel",
          "model_module_version": "1.5.0",
          "state": {
            "_dom_classes": [],
            "_model_module": "@jupyter-widgets/controls",
            "_model_module_version": "1.5.0",
            "_model_name": "HTMLModel",
            "_view_count": null,
            "_view_module": "@jupyter-widgets/controls",
            "_view_module_version": "1.5.0",
            "_view_name": "HTMLView",
            "description": "",
            "description_tooltip": null,
            "layout": "IPY_MODEL_8bf818e4a0e149b09d651d5c08db9985",
            "placeholder": "​",
            "style": "IPY_MODEL_4692c61983f040a38f8bd5a50ac5df06",
            "value": "tokenizer.json: 100%"
          }
        },
        "e2db461c1ed74c6590dd2c46ee643845": {
          "model_module": "@jupyter-widgets/controls",
          "model_name": "FloatProgressModel",
          "model_module_version": "1.5.0",
          "state": {
            "_dom_classes": [],
            "_model_module": "@jupyter-widgets/controls",
            "_model_module_version": "1.5.0",
            "_model_name": "FloatProgressModel",
            "_view_count": null,
            "_view_module": "@jupyter-widgets/controls",
            "_view_module_version": "1.5.0",
            "_view_name": "ProgressView",
            "bar_style": "success",
            "description": "",
            "description_tooltip": null,
            "layout": "IPY_MODEL_22e641c1a94940b69b3d03ed563e9dc6",
            "max": 1844436,
            "min": 0,
            "orientation": "horizontal",
            "style": "IPY_MODEL_101d6997cbd443af917ae411577ab229",
            "value": 1844436
          }
        },
        "8dee1bb41d8642e6abe80a54fc596378": {
          "model_module": "@jupyter-widgets/controls",
          "model_name": "HTMLModel",
          "model_module_version": "1.5.0",
          "state": {
            "_dom_classes": [],
            "_model_module": "@jupyter-widgets/controls",
            "_model_module_version": "1.5.0",
            "_model_name": "HTMLModel",
            "_view_count": null,
            "_view_module": "@jupyter-widgets/controls",
            "_view_module_version": "1.5.0",
            "_view_name": "HTMLView",
            "description": "",
            "description_tooltip": null,
            "layout": "IPY_MODEL_c1d13d00b5404f3789d2d05b462977ac",
            "placeholder": "​",
            "style": "IPY_MODEL_ef27d405c0104622a7dd121f2b4efb3f",
            "value": " 1.84M/1.84M [00:00&lt;00:00, 16.6MB/s]"
          }
        },
        "147189dd20734b03b6e36bb45d76c7cf": {
          "model_module": "@jupyter-widgets/base",
          "model_name": "LayoutModel",
          "model_module_version": "1.2.0",
          "state": {
            "_model_module": "@jupyter-widgets/base",
            "_model_module_version": "1.2.0",
            "_model_name": "LayoutModel",
            "_view_count": null,
            "_view_module": "@jupyter-widgets/base",
            "_view_module_version": "1.2.0",
            "_view_name": "LayoutView",
            "align_content": null,
            "align_items": null,
            "align_self": null,
            "border": null,
            "bottom": null,
            "display": null,
            "flex": null,
            "flex_flow": null,
            "grid_area": null,
            "grid_auto_columns": null,
            "grid_auto_flow": null,
            "grid_auto_rows": null,
            "grid_column": null,
            "grid_gap": null,
            "grid_row": null,
            "grid_template_areas": null,
            "grid_template_columns": null,
            "grid_template_rows": null,
            "height": null,
            "justify_content": null,
            "justify_items": null,
            "left": null,
            "margin": null,
            "max_height": null,
            "max_width": null,
            "min_height": null,
            "min_width": null,
            "object_fit": null,
            "object_position": null,
            "order": null,
            "overflow": null,
            "overflow_x": null,
            "overflow_y": null,
            "padding": null,
            "right": null,
            "top": null,
            "visibility": null,
            "width": null
          }
        },
        "8bf818e4a0e149b09d651d5c08db9985": {
          "model_module": "@jupyter-widgets/base",
          "model_name": "LayoutModel",
          "model_module_version": "1.2.0",
          "state": {
            "_model_module": "@jupyter-widgets/base",
            "_model_module_version": "1.2.0",
            "_model_name": "LayoutModel",
            "_view_count": null,
            "_view_module": "@jupyter-widgets/base",
            "_view_module_version": "1.2.0",
            "_view_name": "LayoutView",
            "align_content": null,
            "align_items": null,
            "align_self": null,
            "border": null,
            "bottom": null,
            "display": null,
            "flex": null,
            "flex_flow": null,
            "grid_area": null,
            "grid_auto_columns": null,
            "grid_auto_flow": null,
            "grid_auto_rows": null,
            "grid_column": null,
            "grid_gap": null,
            "grid_row": null,
            "grid_template_areas": null,
            "grid_template_columns": null,
            "grid_template_rows": null,
            "height": null,
            "justify_content": null,
            "justify_items": null,
            "left": null,
            "margin": null,
            "max_height": null,
            "max_width": null,
            "min_height": null,
            "min_width": null,
            "object_fit": null,
            "object_position": null,
            "order": null,
            "overflow": null,
            "overflow_x": null,
            "overflow_y": null,
            "padding": null,
            "right": null,
            "top": null,
            "visibility": null,
            "width": null
          }
        },
        "4692c61983f040a38f8bd5a50ac5df06": {
          "model_module": "@jupyter-widgets/controls",
          "model_name": "DescriptionStyleModel",
          "model_module_version": "1.5.0",
          "state": {
            "_model_module": "@jupyter-widgets/controls",
            "_model_module_version": "1.5.0",
            "_model_name": "DescriptionStyleModel",
            "_view_count": null,
            "_view_module": "@jupyter-widgets/base",
            "_view_module_version": "1.2.0",
            "_view_name": "StyleView",
            "description_width": ""
          }
        },
        "22e641c1a94940b69b3d03ed563e9dc6": {
          "model_module": "@jupyter-widgets/base",
          "model_name": "LayoutModel",
          "model_module_version": "1.2.0",
          "state": {
            "_model_module": "@jupyter-widgets/base",
            "_model_module_version": "1.2.0",
            "_model_name": "LayoutModel",
            "_view_count": null,
            "_view_module": "@jupyter-widgets/base",
            "_view_module_version": "1.2.0",
            "_view_name": "LayoutView",
            "align_content": null,
            "align_items": null,
            "align_self": null,
            "border": null,
            "bottom": null,
            "display": null,
            "flex": null,
            "flex_flow": null,
            "grid_area": null,
            "grid_auto_columns": null,
            "grid_auto_flow": null,
            "grid_auto_rows": null,
            "grid_column": null,
            "grid_gap": null,
            "grid_row": null,
            "grid_template_areas": null,
            "grid_template_columns": null,
            "grid_template_rows": null,
            "height": null,
            "justify_content": null,
            "justify_items": null,
            "left": null,
            "margin": null,
            "max_height": null,
            "max_width": null,
            "min_height": null,
            "min_width": null,
            "object_fit": null,
            "object_position": null,
            "order": null,
            "overflow": null,
            "overflow_x": null,
            "overflow_y": null,
            "padding": null,
            "right": null,
            "top": null,
            "visibility": null,
            "width": null
          }
        },
        "101d6997cbd443af917ae411577ab229": {
          "model_module": "@jupyter-widgets/controls",
          "model_name": "ProgressStyleModel",
          "model_module_version": "1.5.0",
          "state": {
            "_model_module": "@jupyter-widgets/controls",
            "_model_module_version": "1.5.0",
            "_model_name": "ProgressStyleModel",
            "_view_count": null,
            "_view_module": "@jupyter-widgets/base",
            "_view_module_version": "1.2.0",
            "_view_name": "StyleView",
            "bar_color": null,
            "description_width": ""
          }
        },
        "c1d13d00b5404f3789d2d05b462977ac": {
          "model_module": "@jupyter-widgets/base",
          "model_name": "LayoutModel",
          "model_module_version": "1.2.0",
          "state": {
            "_model_module": "@jupyter-widgets/base",
            "_model_module_version": "1.2.0",
            "_model_name": "LayoutModel",
            "_view_count": null,
            "_view_module": "@jupyter-widgets/base",
            "_view_module_version": "1.2.0",
            "_view_name": "LayoutView",
            "align_content": null,
            "align_items": null,
            "align_self": null,
            "border": null,
            "bottom": null,
            "display": null,
            "flex": null,
            "flex_flow": null,
            "grid_area": null,
            "grid_auto_columns": null,
            "grid_auto_flow": null,
            "grid_auto_rows": null,
            "grid_column": null,
            "grid_gap": null,
            "grid_row": null,
            "grid_template_areas": null,
            "grid_template_columns": null,
            "grid_template_rows": null,
            "height": null,
            "justify_content": null,
            "justify_items": null,
            "left": null,
            "margin": null,
            "max_height": null,
            "max_width": null,
            "min_height": null,
            "min_width": null,
            "object_fit": null,
            "object_position": null,
            "order": null,
            "overflow": null,
            "overflow_x": null,
            "overflow_y": null,
            "padding": null,
            "right": null,
            "top": null,
            "visibility": null,
            "width": null
          }
        },
        "ef27d405c0104622a7dd121f2b4efb3f": {
          "model_module": "@jupyter-widgets/controls",
          "model_name": "DescriptionStyleModel",
          "model_module_version": "1.5.0",
          "state": {
            "_model_module": "@jupyter-widgets/controls",
            "_model_module_version": "1.5.0",
            "_model_name": "DescriptionStyleModel",
            "_view_count": null,
            "_view_module": "@jupyter-widgets/base",
            "_view_module_version": "1.2.0",
            "_view_name": "StyleView",
            "description_width": ""
          }
        },
        "6a92c63023ec4d939445da4f9118297e": {
          "model_module": "@jupyter-widgets/controls",
          "model_name": "HBoxModel",
          "model_module_version": "1.5.0",
          "state": {
            "_dom_classes": [],
            "_model_module": "@jupyter-widgets/controls",
            "_model_module_version": "1.5.0",
            "_model_name": "HBoxModel",
            "_view_count": null,
            "_view_module": "@jupyter-widgets/controls",
            "_view_module_version": "1.5.0",
            "_view_name": "HBoxView",
            "box_style": "",
            "children": [
              "IPY_MODEL_9240b695b95f433aa6e2561ae499612a",
              "IPY_MODEL_92f797e8a12e4df38bc5efe181de9811",
              "IPY_MODEL_fe215b5678694718886efe6dfadcfcf9"
            ],
            "layout": "IPY_MODEL_b7a6a59c4dbc4b4a816026767588d42a"
          }
        },
        "9240b695b95f433aa6e2561ae499612a": {
          "model_module": "@jupyter-widgets/controls",
          "model_name": "HTMLModel",
          "model_module_version": "1.5.0",
          "state": {
            "_dom_classes": [],
            "_model_module": "@jupyter-widgets/controls",
            "_model_module_version": "1.5.0",
            "_model_name": "HTMLModel",
            "_view_count": null,
            "_view_module": "@jupyter-widgets/controls",
            "_view_module_version": "1.5.0",
            "_view_name": "HTMLView",
            "description": "",
            "description_tooltip": null,
            "layout": "IPY_MODEL_22d0cf7d05ab46399c890213eb0da019",
            "placeholder": "​",
            "style": "IPY_MODEL_8103f2bb407647d299908ab33e924f37",
            "value": "adapter_model.safetensors: 100%"
          }
        },
        "92f797e8a12e4df38bc5efe181de9811": {
          "model_module": "@jupyter-widgets/controls",
          "model_name": "FloatProgressModel",
          "model_module_version": "1.5.0",
          "state": {
            "_dom_classes": [],
            "_model_module": "@jupyter-widgets/controls",
            "_model_module_version": "1.5.0",
            "_model_name": "FloatProgressModel",
            "_view_count": null,
            "_view_module": "@jupyter-widgets/controls",
            "_view_module_version": "1.5.0",
            "_view_name": "ProgressView",
            "bar_style": "success",
            "description": "",
            "description_tooltip": null,
            "layout": "IPY_MODEL_5d62b69e962143cfa3315cfabccbebea",
            "max": 119597408,
            "min": 0,
            "orientation": "horizontal",
            "style": "IPY_MODEL_3037af615dbe4f47b3f473c8fc9e3cdc",
            "value": 119597408
          }
        },
        "fe215b5678694718886efe6dfadcfcf9": {
          "model_module": "@jupyter-widgets/controls",
          "model_name": "HTMLModel",
          "model_module_version": "1.5.0",
          "state": {
            "_dom_classes": [],
            "_model_module": "@jupyter-widgets/controls",
            "_model_module_version": "1.5.0",
            "_model_name": "HTMLModel",
            "_view_count": null,
            "_view_module": "@jupyter-widgets/controls",
            "_view_module_version": "1.5.0",
            "_view_name": "HTMLView",
            "description": "",
            "description_tooltip": null,
            "layout": "IPY_MODEL_37c681211f29483599aea77e1e98c1cf",
            "placeholder": "​",
            "style": "IPY_MODEL_4148162b739e4f9895537df5ebd5f3f5",
            "value": " 120M/120M [00:01&lt;00:00, 140MB/s]"
          }
        },
        "b7a6a59c4dbc4b4a816026767588d42a": {
          "model_module": "@jupyter-widgets/base",
          "model_name": "LayoutModel",
          "model_module_version": "1.2.0",
          "state": {
            "_model_module": "@jupyter-widgets/base",
            "_model_module_version": "1.2.0",
            "_model_name": "LayoutModel",
            "_view_count": null,
            "_view_module": "@jupyter-widgets/base",
            "_view_module_version": "1.2.0",
            "_view_name": "LayoutView",
            "align_content": null,
            "align_items": null,
            "align_self": null,
            "border": null,
            "bottom": null,
            "display": null,
            "flex": null,
            "flex_flow": null,
            "grid_area": null,
            "grid_auto_columns": null,
            "grid_auto_flow": null,
            "grid_auto_rows": null,
            "grid_column": null,
            "grid_gap": null,
            "grid_row": null,
            "grid_template_areas": null,
            "grid_template_columns": null,
            "grid_template_rows": null,
            "height": null,
            "justify_content": null,
            "justify_items": null,
            "left": null,
            "margin": null,
            "max_height": null,
            "max_width": null,
            "min_height": null,
            "min_width": null,
            "object_fit": null,
            "object_position": null,
            "order": null,
            "overflow": null,
            "overflow_x": null,
            "overflow_y": null,
            "padding": null,
            "right": null,
            "top": null,
            "visibility": null,
            "width": null
          }
        },
        "22d0cf7d05ab46399c890213eb0da019": {
          "model_module": "@jupyter-widgets/base",
          "model_name": "LayoutModel",
          "model_module_version": "1.2.0",
          "state": {
            "_model_module": "@jupyter-widgets/base",
            "_model_module_version": "1.2.0",
            "_model_name": "LayoutModel",
            "_view_count": null,
            "_view_module": "@jupyter-widgets/base",
            "_view_module_version": "1.2.0",
            "_view_name": "LayoutView",
            "align_content": null,
            "align_items": null,
            "align_self": null,
            "border": null,
            "bottom": null,
            "display": null,
            "flex": null,
            "flex_flow": null,
            "grid_area": null,
            "grid_auto_columns": null,
            "grid_auto_flow": null,
            "grid_auto_rows": null,
            "grid_column": null,
            "grid_gap": null,
            "grid_row": null,
            "grid_template_areas": null,
            "grid_template_columns": null,
            "grid_template_rows": null,
            "height": null,
            "justify_content": null,
            "justify_items": null,
            "left": null,
            "margin": null,
            "max_height": null,
            "max_width": null,
            "min_height": null,
            "min_width": null,
            "object_fit": null,
            "object_position": null,
            "order": null,
            "overflow": null,
            "overflow_x": null,
            "overflow_y": null,
            "padding": null,
            "right": null,
            "top": null,
            "visibility": null,
            "width": null
          }
        },
        "8103f2bb407647d299908ab33e924f37": {
          "model_module": "@jupyter-widgets/controls",
          "model_name": "DescriptionStyleModel",
          "model_module_version": "1.5.0",
          "state": {
            "_model_module": "@jupyter-widgets/controls",
            "_model_module_version": "1.5.0",
            "_model_name": "DescriptionStyleModel",
            "_view_count": null,
            "_view_module": "@jupyter-widgets/base",
            "_view_module_version": "1.2.0",
            "_view_name": "StyleView",
            "description_width": ""
          }
        },
        "5d62b69e962143cfa3315cfabccbebea": {
          "model_module": "@jupyter-widgets/base",
          "model_name": "LayoutModel",
          "model_module_version": "1.2.0",
          "state": {
            "_model_module": "@jupyter-widgets/base",
            "_model_module_version": "1.2.0",
            "_model_name": "LayoutModel",
            "_view_count": null,
            "_view_module": "@jupyter-widgets/base",
            "_view_module_version": "1.2.0",
            "_view_name": "LayoutView",
            "align_content": null,
            "align_items": null,
            "align_self": null,
            "border": null,
            "bottom": null,
            "display": null,
            "flex": null,
            "flex_flow": null,
            "grid_area": null,
            "grid_auto_columns": null,
            "grid_auto_flow": null,
            "grid_auto_rows": null,
            "grid_column": null,
            "grid_gap": null,
            "grid_row": null,
            "grid_template_areas": null,
            "grid_template_columns": null,
            "grid_template_rows": null,
            "height": null,
            "justify_content": null,
            "justify_items": null,
            "left": null,
            "margin": null,
            "max_height": null,
            "max_width": null,
            "min_height": null,
            "min_width": null,
            "object_fit": null,
            "object_position": null,
            "order": null,
            "overflow": null,
            "overflow_x": null,
            "overflow_y": null,
            "padding": null,
            "right": null,
            "top": null,
            "visibility": null,
            "width": null
          }
        },
        "3037af615dbe4f47b3f473c8fc9e3cdc": {
          "model_module": "@jupyter-widgets/controls",
          "model_name": "ProgressStyleModel",
          "model_module_version": "1.5.0",
          "state": {
            "_model_module": "@jupyter-widgets/controls",
            "_model_module_version": "1.5.0",
            "_model_name": "ProgressStyleModel",
            "_view_count": null,
            "_view_module": "@jupyter-widgets/base",
            "_view_module_version": "1.2.0",
            "_view_name": "StyleView",
            "bar_color": null,
            "description_width": ""
          }
        },
        "37c681211f29483599aea77e1e98c1cf": {
          "model_module": "@jupyter-widgets/base",
          "model_name": "LayoutModel",
          "model_module_version": "1.2.0",
          "state": {
            "_model_module": "@jupyter-widgets/base",
            "_model_module_version": "1.2.0",
            "_model_name": "LayoutModel",
            "_view_count": null,
            "_view_module": "@jupyter-widgets/base",
            "_view_module_version": "1.2.0",
            "_view_name": "LayoutView",
            "align_content": null,
            "align_items": null,
            "align_self": null,
            "border": null,
            "bottom": null,
            "display": null,
            "flex": null,
            "flex_flow": null,
            "grid_area": null,
            "grid_auto_columns": null,
            "grid_auto_flow": null,
            "grid_auto_rows": null,
            "grid_column": null,
            "grid_gap": null,
            "grid_row": null,
            "grid_template_areas": null,
            "grid_template_columns": null,
            "grid_template_rows": null,
            "height": null,
            "justify_content": null,
            "justify_items": null,
            "left": null,
            "margin": null,
            "max_height": null,
            "max_width": null,
            "min_height": null,
            "min_width": null,
            "object_fit": null,
            "object_position": null,
            "order": null,
            "overflow": null,
            "overflow_x": null,
            "overflow_y": null,
            "padding": null,
            "right": null,
            "top": null,
            "visibility": null,
            "width": null
          }
        },
        "4148162b739e4f9895537df5ebd5f3f5": {
          "model_module": "@jupyter-widgets/controls",
          "model_name": "DescriptionStyleModel",
          "model_module_version": "1.5.0",
          "state": {
            "_model_module": "@jupyter-widgets/controls",
            "_model_module_version": "1.5.0",
            "_model_name": "DescriptionStyleModel",
            "_view_count": null,
            "_view_module": "@jupyter-widgets/base",
            "_view_module_version": "1.2.0",
            "_view_name": "StyleView",
            "description_width": ""
          }
        },
        "82e3ae1d5c2744169348c492fb8346f3": {
          "model_module": "@jupyter-widgets/controls",
          "model_name": "HBoxModel",
          "model_module_version": "1.5.0",
          "state": {
            "_dom_classes": [],
            "_model_module": "@jupyter-widgets/controls",
            "_model_module_version": "1.5.0",
            "_model_name": "HBoxModel",
            "_view_count": null,
            "_view_module": "@jupyter-widgets/controls",
            "_view_module_version": "1.5.0",
            "_view_name": "HBoxView",
            "box_style": "",
            "children": [
              "IPY_MODEL_f961dad0f661455bbb7820d0b6783c64",
              "IPY_MODEL_d76fedae85b64c69a879b0740aacec5e",
              "IPY_MODEL_089915e45c674d1b84dd4555aa3ea674"
            ],
            "layout": "IPY_MODEL_8eaa1e6982d347168f9d81fc3f136291"
          }
        },
        "f961dad0f661455bbb7820d0b6783c64": {
          "model_module": "@jupyter-widgets/controls",
          "model_name": "HTMLModel",
          "model_module_version": "1.5.0",
          "state": {
            "_dom_classes": [],
            "_model_module": "@jupyter-widgets/controls",
            "_model_module_version": "1.5.0",
            "_model_name": "HTMLModel",
            "_view_count": null,
            "_view_module": "@jupyter-widgets/controls",
            "_view_module_version": "1.5.0",
            "_view_name": "HTMLView",
            "description": "",
            "description_tooltip": null,
            "layout": "IPY_MODEL_bbc70483d7874a9995044de19ca5d05f",
            "placeholder": "​",
            "style": "IPY_MODEL_8e1bcea07338428f88f34ee819f57852",
            "value": "Map: 100%"
          }
        },
        "d76fedae85b64c69a879b0740aacec5e": {
          "model_module": "@jupyter-widgets/controls",
          "model_name": "FloatProgressModel",
          "model_module_version": "1.5.0",
          "state": {
            "_dom_classes": [],
            "_model_module": "@jupyter-widgets/controls",
            "_model_module_version": "1.5.0",
            "_model_name": "FloatProgressModel",
            "_view_count": null,
            "_view_module": "@jupyter-widgets/controls",
            "_view_module_version": "1.5.0",
            "_view_name": "ProgressView",
            "bar_style": "success",
            "description": "",
            "description_tooltip": null,
            "layout": "IPY_MODEL_cc3029e9a92f46fdbf0bc190c805d5c3",
            "max": 7735,
            "min": 0,
            "orientation": "horizontal",
            "style": "IPY_MODEL_ac791075d2d640ae88e23b9bd1ea69da",
            "value": 7735
          }
        },
        "089915e45c674d1b84dd4555aa3ea674": {
          "model_module": "@jupyter-widgets/controls",
          "model_name": "HTMLModel",
          "model_module_version": "1.5.0",
          "state": {
            "_dom_classes": [],
            "_model_module": "@jupyter-widgets/controls",
            "_model_module_version": "1.5.0",
            "_model_name": "HTMLModel",
            "_view_count": null,
            "_view_module": "@jupyter-widgets/controls",
            "_view_module_version": "1.5.0",
            "_view_name": "HTMLView",
            "description": "",
            "description_tooltip": null,
            "layout": "IPY_MODEL_a5261e0f7415422797a9a021c4b92e5d",
            "placeholder": "​",
            "style": "IPY_MODEL_7e254d304dea48faadd9f0f776475396",
            "value": " 7735/7735 [00:18&lt;00:00, 422.00 examples/s]"
          }
        },
        "8eaa1e6982d347168f9d81fc3f136291": {
          "model_module": "@jupyter-widgets/base",
          "model_name": "LayoutModel",
          "model_module_version": "1.2.0",
          "state": {
            "_model_module": "@jupyter-widgets/base",
            "_model_module_version": "1.2.0",
            "_model_name": "LayoutModel",
            "_view_count": null,
            "_view_module": "@jupyter-widgets/base",
            "_view_module_version": "1.2.0",
            "_view_name": "LayoutView",
            "align_content": null,
            "align_items": null,
            "align_self": null,
            "border": null,
            "bottom": null,
            "display": null,
            "flex": null,
            "flex_flow": null,
            "grid_area": null,
            "grid_auto_columns": null,
            "grid_auto_flow": null,
            "grid_auto_rows": null,
            "grid_column": null,
            "grid_gap": null,
            "grid_row": null,
            "grid_template_areas": null,
            "grid_template_columns": null,
            "grid_template_rows": null,
            "height": null,
            "justify_content": null,
            "justify_items": null,
            "left": null,
            "margin": null,
            "max_height": null,
            "max_width": null,
            "min_height": null,
            "min_width": null,
            "object_fit": null,
            "object_position": null,
            "order": null,
            "overflow": null,
            "overflow_x": null,
            "overflow_y": null,
            "padding": null,
            "right": null,
            "top": null,
            "visibility": null,
            "width": null
          }
        },
        "bbc70483d7874a9995044de19ca5d05f": {
          "model_module": "@jupyter-widgets/base",
          "model_name": "LayoutModel",
          "model_module_version": "1.2.0",
          "state": {
            "_model_module": "@jupyter-widgets/base",
            "_model_module_version": "1.2.0",
            "_model_name": "LayoutModel",
            "_view_count": null,
            "_view_module": "@jupyter-widgets/base",
            "_view_module_version": "1.2.0",
            "_view_name": "LayoutView",
            "align_content": null,
            "align_items": null,
            "align_self": null,
            "border": null,
            "bottom": null,
            "display": null,
            "flex": null,
            "flex_flow": null,
            "grid_area": null,
            "grid_auto_columns": null,
            "grid_auto_flow": null,
            "grid_auto_rows": null,
            "grid_column": null,
            "grid_gap": null,
            "grid_row": null,
            "grid_template_areas": null,
            "grid_template_columns": null,
            "grid_template_rows": null,
            "height": null,
            "justify_content": null,
            "justify_items": null,
            "left": null,
            "margin": null,
            "max_height": null,
            "max_width": null,
            "min_height": null,
            "min_width": null,
            "object_fit": null,
            "object_position": null,
            "order": null,
            "overflow": null,
            "overflow_x": null,
            "overflow_y": null,
            "padding": null,
            "right": null,
            "top": null,
            "visibility": null,
            "width": null
          }
        },
        "8e1bcea07338428f88f34ee819f57852": {
          "model_module": "@jupyter-widgets/controls",
          "model_name": "DescriptionStyleModel",
          "model_module_version": "1.5.0",
          "state": {
            "_model_module": "@jupyter-widgets/controls",
            "_model_module_version": "1.5.0",
            "_model_name": "DescriptionStyleModel",
            "_view_count": null,
            "_view_module": "@jupyter-widgets/base",
            "_view_module_version": "1.2.0",
            "_view_name": "StyleView",
            "description_width": ""
          }
        },
        "cc3029e9a92f46fdbf0bc190c805d5c3": {
          "model_module": "@jupyter-widgets/base",
          "model_name": "LayoutModel",
          "model_module_version": "1.2.0",
          "state": {
            "_model_module": "@jupyter-widgets/base",
            "_model_module_version": "1.2.0",
            "_model_name": "LayoutModel",
            "_view_count": null,
            "_view_module": "@jupyter-widgets/base",
            "_view_module_version": "1.2.0",
            "_view_name": "LayoutView",
            "align_content": null,
            "align_items": null,
            "align_self": null,
            "border": null,
            "bottom": null,
            "display": null,
            "flex": null,
            "flex_flow": null,
            "grid_area": null,
            "grid_auto_columns": null,
            "grid_auto_flow": null,
            "grid_auto_rows": null,
            "grid_column": null,
            "grid_gap": null,
            "grid_row": null,
            "grid_template_areas": null,
            "grid_template_columns": null,
            "grid_template_rows": null,
            "height": null,
            "justify_content": null,
            "justify_items": null,
            "left": null,
            "margin": null,
            "max_height": null,
            "max_width": null,
            "min_height": null,
            "min_width": null,
            "object_fit": null,
            "object_position": null,
            "order": null,
            "overflow": null,
            "overflow_x": null,
            "overflow_y": null,
            "padding": null,
            "right": null,
            "top": null,
            "visibility": null,
            "width": null
          }
        },
        "ac791075d2d640ae88e23b9bd1ea69da": {
          "model_module": "@jupyter-widgets/controls",
          "model_name": "ProgressStyleModel",
          "model_module_version": "1.5.0",
          "state": {
            "_model_module": "@jupyter-widgets/controls",
            "_model_module_version": "1.5.0",
            "_model_name": "ProgressStyleModel",
            "_view_count": null,
            "_view_module": "@jupyter-widgets/base",
            "_view_module_version": "1.2.0",
            "_view_name": "StyleView",
            "bar_color": null,
            "description_width": ""
          }
        },
        "a5261e0f7415422797a9a021c4b92e5d": {
          "model_module": "@jupyter-widgets/base",
          "model_name": "LayoutModel",
          "model_module_version": "1.2.0",
          "state": {
            "_model_module": "@jupyter-widgets/base",
            "_model_module_version": "1.2.0",
            "_model_name": "LayoutModel",
            "_view_count": null,
            "_view_module": "@jupyter-widgets/base",
            "_view_module_version": "1.2.0",
            "_view_name": "LayoutView",
            "align_content": null,
            "align_items": null,
            "align_self": null,
            "border": null,
            "bottom": null,
            "display": null,
            "flex": null,
            "flex_flow": null,
            "grid_area": null,
            "grid_auto_columns": null,
            "grid_auto_flow": null,
            "grid_auto_rows": null,
            "grid_column": null,
            "grid_gap": null,
            "grid_row": null,
            "grid_template_areas": null,
            "grid_template_columns": null,
            "grid_template_rows": null,
            "height": null,
            "justify_content": null,
            "justify_items": null,
            "left": null,
            "margin": null,
            "max_height": null,
            "max_width": null,
            "min_height": null,
            "min_width": null,
            "object_fit": null,
            "object_position": null,
            "order": null,
            "overflow": null,
            "overflow_x": null,
            "overflow_y": null,
            "padding": null,
            "right": null,
            "top": null,
            "visibility": null,
            "width": null
          }
        },
        "7e254d304dea48faadd9f0f776475396": {
          "model_module": "@jupyter-widgets/controls",
          "model_name": "DescriptionStyleModel",
          "model_module_version": "1.5.0",
          "state": {
            "_model_module": "@jupyter-widgets/controls",
            "_model_module_version": "1.5.0",
            "_model_name": "DescriptionStyleModel",
            "_view_count": null,
            "_view_module": "@jupyter-widgets/base",
            "_view_module_version": "1.2.0",
            "_view_name": "StyleView",
            "description_width": ""
          }
        }
      }
    }
  },
  "nbformat": 4,
  "nbformat_minor": 0
}