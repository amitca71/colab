{
  "nbformat": 4,
  "nbformat_minor": 0,
  "metadata": {
    "colab": {
      "provenance": [],
      "authorship_tag": "ABX9TyMKfZZyb0u5GHjV+X3jb/YA",
      "include_colab_link": true
    },
    "kernelspec": {
      "name": "python3",
      "display_name": "Python 3"
    },
    "language_info": {
      "name": "python"
    }
  },
  "cells": [
    {
      "cell_type": "markdown",
      "metadata": {
        "id": "view-in-github",
        "colab_type": "text"
      },
      "source": [
        "<a href=\"https://colab.research.google.com/github/amitca71/colab/blob/main/pdfreader.ipynb\" target=\"_parent\"><img src=\"https://colab.research.google.com/assets/colab-badge.svg\" alt=\"Open In Colab\"/></a>"
      ]
    },
    {
      "cell_type": "code",
      "execution_count": null,
      "metadata": {
        "colab": {
          "base_uri": "https://localhost:8080/"
        },
        "id": "HbIhLJ_A-mo4",
        "outputId": "13677a36-a76c-4063-ca21-806252d76ca6"
      },
      "outputs": [
        {
          "output_type": "stream",
          "name": "stdout",
          "text": [
            "Requirement already satisfied: pypdf in /usr/local/lib/python3.10/dist-packages (3.16.1)\n"
          ]
        }
      ],
      "source": [
        "!pip install pypdf"
      ]
    },
    {
      "cell_type": "code",
      "source": [
        "from pypdf import PdfReader\n",
        "from google.colab import drive\n",
        "drive.mount('/content/gdrive', force_remount=True)\n",
        "root_dir = \"/content/gdrive/My Drive/\""
      ],
      "metadata": {
        "colab": {
          "base_uri": "https://localhost:8080/"
        },
        "id": "9GMxn3PK_UF9",
        "outputId": "42bb2e13-c180-4291-aeda-e4fd58e61eba"
      },
      "execution_count": null,
      "outputs": [
        {
          "output_type": "stream",
          "name": "stdout",
          "text": [
            "Mounted at /content/gdrive\n"
          ]
        }
      ]
    },
    {
      "cell_type": "code",
      "source": [
        "import os\n",
        "import re\n",
        "import pandas as pd\n",
        "pdf_folder_path = f'{root_dir}/charles_data/'\n",
        "os.listdir(pdf_folder_path)"
      ],
      "metadata": {
        "colab": {
          "base_uri": "https://localhost:8080/"
        },
        "id": "lY507Tss_34N",
        "outputId": "6a50bc6d-d316-48a4-c41e-ef71eefa1741"
      },
      "execution_count": null,
      "outputs": [
        {
          "output_type": "execute_result",
          "data": {
            "text/plain": [
              "['RFI 0800 - Louver Support Framing at Loading Dock Soffit (RESPONSE without attachment).pdf',\n",
              " 'RFI 0500-MKA Response.pdf',\n",
              " 'RFI 0502-Response.pdf']"
            ]
          },
          "metadata": {},
          "execution_count": 72
        }
      ]
    },
    {
      "cell_type": "code",
      "source": [
        "#rfi_date has two values for the sake of the example. actually, the 2nd one covers the 1st one and can be left alone\n",
        "#initially, only the 1st one was there and rfi_date was not extracted from RFI 0800 - Louver Support Framing at Loading Dock Soffit (RESPONSE without attachment).pdf\n",
        "#see how it was debugged below\n",
        "regex_str_dct={\n",
        "    \"rfi_title\": [r\"(?P<rfi_title>(.|\\n)*)REQUEST FOR INFORMATION\" ],\n",
        "    \"rfi_number\": [r\"(.|\\n)*REQUEST FOR INFORMATION (?P<rfi_number>\\d+)\"],\n",
        "    \"rfi_date\": [r\"(.|\\n)*DATE : (?P<rfi_date>\\d+/\\d+/\\d+)\", r\"(.|\\n)*DATE\\s*:\\s*(?P<rfi_date>\\d+/\\d+/\\d+)\"],\n",
        "    \"project_name\": [r\"(.|\\n)*PROJECT:\\n(?P<project_name>.*)\"],\n",
        "    \"due_date\": [r\"(.|\\n)*Response Required By:  \\n(?P<due_date>\\d+/\\d+/\\d+)\"]\n",
        "}\n",
        "\n",
        "# \"rfi_date\": [r\"(.|\\n)*DATE : (?P<rfi_date>\\d+/\\d+/\\d+)\", r\"(.|\\n)*DATE\\s*:\\s*(?P<rfi_date>\\d+/\\d+/\\d+)\"],"
      ],
      "metadata": {
        "id": "tOoZ0uJrbiej"
      },
      "execution_count": null,
      "outputs": []
    },
    {
      "cell_type": "code",
      "source": [
        "def get_value_by_regex(page, regex_str):\n",
        "  return (re.match(regex_str, page))"
      ],
      "metadata": {
        "id": "fbbWz68IfO1Z"
      },
      "execution_count": null,
      "outputs": []
    },
    {
      "cell_type": "code",
      "source": [
        "rfis_meta_list=[]\n",
        "for fl in os.listdir(pdf_folder_path):\n",
        "  rfi_meta_dict={}\n",
        "  pdf_file_path=f'{pdf_folder_path}/{fl}'\n",
        "  pdf_reader=PdfReader(pdf_file_path)\n",
        "  first_page_str=pdf_reader.pages[0].extract_text()\n",
        "  for r in regex_str_dct.keys():\n",
        "    for i in range (0, (len(regex_str_dct[r]))):\n",
        "      matches=get_value_by_regex(first_page_str, regex_str_dct[r][i])\n",
        "      if (matches):\n",
        "#       print(matches.group(r))\n",
        "        rfi_meta_dict[r]=matches.group(r)\n",
        "        break;\n",
        "#  print(rfi_meta_dict)\n",
        "  if (len(rfi_meta_dict.keys())<len(regex_str_dct.keys())):\n",
        "    print (f\"file {pdf_file_path} does not contain all attributes\")\n",
        "    print(\"Missing values:\", (set(regex_str_dct.keys()).difference(rfi_meta_dict.keys())))\n",
        "  rfi_meta_pd=pd.DataFrame.from_dict(rfi_meta_dict,orient='index').T\n",
        "  rfis_meta_list.append(rfi_meta_pd)"
      ],
      "metadata": {
        "id": "StpkPSI3AJaZ"
      },
      "execution_count": null,
      "outputs": []
    },
    {
      "cell_type": "code",
      "source": [
        "full_pd=pd.concat(rfis_meta_list)\n",
        "full_pd"
      ],
      "metadata": {
        "colab": {
          "base_uri": "https://localhost:8080/",
          "height": 143
        },
        "id": "SHrEKjXmcXoZ",
        "outputId": "c14b570f-e374-4d7c-e9d3-5ad3f84a1beb"
      },
      "execution_count": null,
      "outputs": [
        {
          "output_type": "execute_result",
          "data": {
            "text/plain": [
              "                                         rfi_title rfi_number    rfi_date  \\\n",
              "0  Louver Support Framing at Loading \\nDock Soffit       0800   7/28/2016   \n",
              "0                      EE - Step on Sheet S-112B.1       0500  12/31/2013   \n",
              "0          EE - Slab Depression on Detail A6/A-474       0502    1/2/2014   \n",
              "\n",
              "                                 project_name  due_date  \n",
              "0                         11414The Collection  8/4/2016  \n",
              "0  11209Ala Moana Center - Ewa Mall Expansion  1/7/2014  \n",
              "0  11209Ala Moana Center - Ewa Mall Expansion  1/9/2014  "
            ],
            "text/html": [
              "\n",
              "  <div id=\"df-8826ab1d-c187-4335-ae9c-bb1bbfaf9587\" class=\"colab-df-container\">\n",
              "    <div>\n",
              "<style scoped>\n",
              "    .dataframe tbody tr th:only-of-type {\n",
              "        vertical-align: middle;\n",
              "    }\n",
              "\n",
              "    .dataframe tbody tr th {\n",
              "        vertical-align: top;\n",
              "    }\n",
              "\n",
              "    .dataframe thead th {\n",
              "        text-align: right;\n",
              "    }\n",
              "</style>\n",
              "<table border=\"1\" class=\"dataframe\">\n",
              "  <thead>\n",
              "    <tr style=\"text-align: right;\">\n",
              "      <th></th>\n",
              "      <th>rfi_title</th>\n",
              "      <th>rfi_number</th>\n",
              "      <th>rfi_date</th>\n",
              "      <th>project_name</th>\n",
              "      <th>due_date</th>\n",
              "    </tr>\n",
              "  </thead>\n",
              "  <tbody>\n",
              "    <tr>\n",
              "      <th>0</th>\n",
              "      <td>Louver Support Framing at Loading \\nDock Soffit</td>\n",
              "      <td>0800</td>\n",
              "      <td>7/28/2016</td>\n",
              "      <td>11414The Collection</td>\n",
              "      <td>8/4/2016</td>\n",
              "    </tr>\n",
              "    <tr>\n",
              "      <th>0</th>\n",
              "      <td>EE - Step on Sheet S-112B.1</td>\n",
              "      <td>0500</td>\n",
              "      <td>12/31/2013</td>\n",
              "      <td>11209Ala Moana Center - Ewa Mall Expansion</td>\n",
              "      <td>1/7/2014</td>\n",
              "    </tr>\n",
              "    <tr>\n",
              "      <th>0</th>\n",
              "      <td>EE - Slab Depression on Detail A6/A-474</td>\n",
              "      <td>0502</td>\n",
              "      <td>1/2/2014</td>\n",
              "      <td>11209Ala Moana Center - Ewa Mall Expansion</td>\n",
              "      <td>1/9/2014</td>\n",
              "    </tr>\n",
              "  </tbody>\n",
              "</table>\n",
              "</div>\n",
              "    <div class=\"colab-df-buttons\">\n",
              "\n",
              "  <div class=\"colab-df-container\">\n",
              "    <button class=\"colab-df-convert\" onclick=\"convertToInteractive('df-8826ab1d-c187-4335-ae9c-bb1bbfaf9587')\"\n",
              "            title=\"Convert this dataframe to an interactive table.\"\n",
              "            style=\"display:none;\">\n",
              "\n",
              "  <svg xmlns=\"http://www.w3.org/2000/svg\" height=\"24px\" viewBox=\"0 -960 960 960\">\n",
              "    <path d=\"M120-120v-720h720v720H120Zm60-500h600v-160H180v160Zm220 220h160v-160H400v160Zm0 220h160v-160H400v160ZM180-400h160v-160H180v160Zm440 0h160v-160H620v160ZM180-180h160v-160H180v160Zm440 0h160v-160H620v160Z\"/>\n",
              "  </svg>\n",
              "    </button>\n",
              "\n",
              "  <style>\n",
              "    .colab-df-container {\n",
              "      display:flex;\n",
              "      gap: 12px;\n",
              "    }\n",
              "\n",
              "    .colab-df-convert {\n",
              "      background-color: #E8F0FE;\n",
              "      border: none;\n",
              "      border-radius: 50%;\n",
              "      cursor: pointer;\n",
              "      display: none;\n",
              "      fill: #1967D2;\n",
              "      height: 32px;\n",
              "      padding: 0 0 0 0;\n",
              "      width: 32px;\n",
              "    }\n",
              "\n",
              "    .colab-df-convert:hover {\n",
              "      background-color: #E2EBFA;\n",
              "      box-shadow: 0px 1px 2px rgba(60, 64, 67, 0.3), 0px 1px 3px 1px rgba(60, 64, 67, 0.15);\n",
              "      fill: #174EA6;\n",
              "    }\n",
              "\n",
              "    .colab-df-buttons div {\n",
              "      margin-bottom: 4px;\n",
              "    }\n",
              "\n",
              "    [theme=dark] .colab-df-convert {\n",
              "      background-color: #3B4455;\n",
              "      fill: #D2E3FC;\n",
              "    }\n",
              "\n",
              "    [theme=dark] .colab-df-convert:hover {\n",
              "      background-color: #434B5C;\n",
              "      box-shadow: 0px 1px 3px 1px rgba(0, 0, 0, 0.15);\n",
              "      filter: drop-shadow(0px 1px 2px rgba(0, 0, 0, 0.3));\n",
              "      fill: #FFFFFF;\n",
              "    }\n",
              "  </style>\n",
              "\n",
              "    <script>\n",
              "      const buttonEl =\n",
              "        document.querySelector('#df-8826ab1d-c187-4335-ae9c-bb1bbfaf9587 button.colab-df-convert');\n",
              "      buttonEl.style.display =\n",
              "        google.colab.kernel.accessAllowed ? 'block' : 'none';\n",
              "\n",
              "      async function convertToInteractive(key) {\n",
              "        const element = document.querySelector('#df-8826ab1d-c187-4335-ae9c-bb1bbfaf9587');\n",
              "        const dataTable =\n",
              "          await google.colab.kernel.invokeFunction('convertToInteractive',\n",
              "                                                    [key], {});\n",
              "        if (!dataTable) return;\n",
              "\n",
              "        const docLinkHtml = 'Like what you see? Visit the ' +\n",
              "          '<a target=\"_blank\" href=https://colab.research.google.com/notebooks/data_table.ipynb>data table notebook</a>'\n",
              "          + ' to learn more about interactive tables.';\n",
              "        element.innerHTML = '';\n",
              "        dataTable['output_type'] = 'display_data';\n",
              "        await google.colab.output.renderOutput(dataTable, element);\n",
              "        const docLink = document.createElement('div');\n",
              "        docLink.innerHTML = docLinkHtml;\n",
              "        element.appendChild(docLink);\n",
              "      }\n",
              "    </script>\n",
              "  </div>\n",
              "\n",
              "\n",
              "<div id=\"df-8095bab8-e24b-4bdb-b468-8a748ea5c7e2\">\n",
              "  <button class=\"colab-df-quickchart\" onclick=\"quickchart('df-8095bab8-e24b-4bdb-b468-8a748ea5c7e2')\"\n",
              "            title=\"Suggest charts.\"\n",
              "            style=\"display:none;\">\n",
              "\n",
              "<svg xmlns=\"http://www.w3.org/2000/svg\" height=\"24px\"viewBox=\"0 0 24 24\"\n",
              "     width=\"24px\">\n",
              "    <g>\n",
              "        <path d=\"M19 3H5c-1.1 0-2 .9-2 2v14c0 1.1.9 2 2 2h14c1.1 0 2-.9 2-2V5c0-1.1-.9-2-2-2zM9 17H7v-7h2v7zm4 0h-2V7h2v10zm4 0h-2v-4h2v4z\"/>\n",
              "    </g>\n",
              "</svg>\n",
              "  </button>\n",
              "\n",
              "<style>\n",
              "  .colab-df-quickchart {\n",
              "      --bg-color: #E8F0FE;\n",
              "      --fill-color: #1967D2;\n",
              "      --hover-bg-color: #E2EBFA;\n",
              "      --hover-fill-color: #174EA6;\n",
              "      --disabled-fill-color: #AAA;\n",
              "      --disabled-bg-color: #DDD;\n",
              "  }\n",
              "\n",
              "  [theme=dark] .colab-df-quickchart {\n",
              "      --bg-color: #3B4455;\n",
              "      --fill-color: #D2E3FC;\n",
              "      --hover-bg-color: #434B5C;\n",
              "      --hover-fill-color: #FFFFFF;\n",
              "      --disabled-bg-color: #3B4455;\n",
              "      --disabled-fill-color: #666;\n",
              "  }\n",
              "\n",
              "  .colab-df-quickchart {\n",
              "    background-color: var(--bg-color);\n",
              "    border: none;\n",
              "    border-radius: 50%;\n",
              "    cursor: pointer;\n",
              "    display: none;\n",
              "    fill: var(--fill-color);\n",
              "    height: 32px;\n",
              "    padding: 0;\n",
              "    width: 32px;\n",
              "  }\n",
              "\n",
              "  .colab-df-quickchart:hover {\n",
              "    background-color: var(--hover-bg-color);\n",
              "    box-shadow: 0 1px 2px rgba(60, 64, 67, 0.3), 0 1px 3px 1px rgba(60, 64, 67, 0.15);\n",
              "    fill: var(--button-hover-fill-color);\n",
              "  }\n",
              "\n",
              "  .colab-df-quickchart-complete:disabled,\n",
              "  .colab-df-quickchart-complete:disabled:hover {\n",
              "    background-color: var(--disabled-bg-color);\n",
              "    fill: var(--disabled-fill-color);\n",
              "    box-shadow: none;\n",
              "  }\n",
              "\n",
              "  .colab-df-spinner {\n",
              "    border: 2px solid var(--fill-color);\n",
              "    border-color: transparent;\n",
              "    border-bottom-color: var(--fill-color);\n",
              "    animation:\n",
              "      spin 1s steps(1) infinite;\n",
              "  }\n",
              "\n",
              "  @keyframes spin {\n",
              "    0% {\n",
              "      border-color: transparent;\n",
              "      border-bottom-color: var(--fill-color);\n",
              "      border-left-color: var(--fill-color);\n",
              "    }\n",
              "    20% {\n",
              "      border-color: transparent;\n",
              "      border-left-color: var(--fill-color);\n",
              "      border-top-color: var(--fill-color);\n",
              "    }\n",
              "    30% {\n",
              "      border-color: transparent;\n",
              "      border-left-color: var(--fill-color);\n",
              "      border-top-color: var(--fill-color);\n",
              "      border-right-color: var(--fill-color);\n",
              "    }\n",
              "    40% {\n",
              "      border-color: transparent;\n",
              "      border-right-color: var(--fill-color);\n",
              "      border-top-color: var(--fill-color);\n",
              "    }\n",
              "    60% {\n",
              "      border-color: transparent;\n",
              "      border-right-color: var(--fill-color);\n",
              "    }\n",
              "    80% {\n",
              "      border-color: transparent;\n",
              "      border-right-color: var(--fill-color);\n",
              "      border-bottom-color: var(--fill-color);\n",
              "    }\n",
              "    90% {\n",
              "      border-color: transparent;\n",
              "      border-bottom-color: var(--fill-color);\n",
              "    }\n",
              "  }\n",
              "</style>\n",
              "\n",
              "  <script>\n",
              "    async function quickchart(key) {\n",
              "      const quickchartButtonEl =\n",
              "        document.querySelector('#' + key + ' button');\n",
              "      quickchartButtonEl.disabled = true;  // To prevent multiple clicks.\n",
              "      quickchartButtonEl.classList.add('colab-df-spinner');\n",
              "      try {\n",
              "        const charts = await google.colab.kernel.invokeFunction(\n",
              "            'suggestCharts', [key], {});\n",
              "      } catch (error) {\n",
              "        console.error('Error during call to suggestCharts:', error);\n",
              "      }\n",
              "      quickchartButtonEl.classList.remove('colab-df-spinner');\n",
              "      quickchartButtonEl.classList.add('colab-df-quickchart-complete');\n",
              "    }\n",
              "    (() => {\n",
              "      let quickchartButtonEl =\n",
              "        document.querySelector('#df-8095bab8-e24b-4bdb-b468-8a748ea5c7e2 button');\n",
              "      quickchartButtonEl.style.display =\n",
              "        google.colab.kernel.accessAllowed ? 'block' : 'none';\n",
              "    })();\n",
              "  </script>\n",
              "</div>\n",
              "    </div>\n",
              "  </div>\n"
            ]
          },
          "metadata": {},
          "execution_count": 76
        }
      ]
    },
    {
      "cell_type": "code",
      "source": [
        "full_pd.to_csv('/tmp/all_data.csv')"
      ],
      "metadata": {
        "id": "_wCpd6Unh1FU"
      },
      "execution_count": null,
      "outputs": []
    },
    {
      "cell_type": "code",
      "source": [
        "!cat /tmp/all_data.csv"
      ],
      "metadata": {
        "colab": {
          "base_uri": "https://localhost:8080/"
        },
        "id": "elyc26D4jA2A",
        "outputId": "87a34a84-4398-45a1-b124-09c4c1b3b979"
      },
      "execution_count": null,
      "outputs": [
        {
          "output_type": "stream",
          "name": "stdout",
          "text": [
            ",rfi_title,rfi_number,rfi_date,project_name,due_date\n",
            "0,\"Louver Support Framing at Loading \n",
            "Dock Soffit\",0800,7/28/2016,11414The Collection,8/4/2016\n",
            "0,EE - Step on Sheet S-112B.1,0500,12/31/2013,11209Ala Moana Center - Ewa Mall Expansion,1/7/2014\n",
            "0,EE - Slab Depression on Detail A6/A-474,0502,1/2/2014,11209Ala Moana Center - Ewa Mall Expansion,1/9/2014\n"
          ]
        }
      ]
    },
    {
      "cell_type": "code",
      "source": [
        "rfi_meta_dict={}\n",
        "pdf_file_path=\"/content/gdrive/My Drive//charles_data//RFI 0800 - Louver Support Framing at Loading Dock Soffit (RESPONSE without attachment).pdf\"\n",
        "pdf_reader=PdfReader(pdf_file_path)\n",
        "first_page_str=pdf_reader.pages[0].extract_text()\n",
        "print(first_page_str)\n",
        "for r in regex_str_dct.keys():\n",
        "  for i in range (0, (len(regex_str_dct[r]))):\n",
        "    matches=get_value_by_regex(first_page_str, regex_str_dct[r][i])\n",
        "    if (matches):\n",
        "      print(matches.group(r))\n",
        "      rfi_meta_dict[r]=matches.group(r)\n",
        "      break;\n",
        "print(rfi_meta_dict)"
      ],
      "metadata": {
        "colab": {
          "base_uri": "https://localhost:8080/"
        },
        "id": "uZQxpjxGxZ5H",
        "outputId": "70f453a4-e60c-41fa-b305-3a0b859eb204"
      },
      "execution_count": null,
      "outputs": [
        {
          "output_type": "stream",
          "name": "stdout",
          "text": [
            "Louver Support Framing at Loading \n",
            "Dock SoffitREQUEST FOR INFORMATION 0800\n",
            "201 Merchant Street\n",
            "Honolulu, Hawaii   96813\n",
            "Tel: (808) 739-4391 Fax: (808) 532-3618\n",
            "Pappageorge Haymes PartnersNUMBER:DATE :7/28/2016\n",
            "RFI TO:DISCIPLINE: StructuralPROJECT:\n",
            "11414The Collection\n",
            "ATTACHMENTS:\n",
            "Joel Pankros\n",
            "640 North LaSalle Street\n",
            "Chicago, Illinois   60654ORIGINATOR :To Architect: 2 Sheets\n",
            "Response Required By:  \n",
            "8/4/2016\n",
            "QUESTION: Ray Milner Authored By:\n",
            "Reference the attached sketches from shts. A404 and A 618.\n",
            "A louver with steel support framing is shown at the loading dock soffit on sheets A 404 and A 618, see attached.  Please provide \n",
            "structural details for the steel support framing.\n",
            "ANSWER:\n",
            "[9/27/2016 9:36 AM Pappageorge Haymes Partners - Joel Pankros]\n",
            "Refer to details (see attached) provided by Baldridge & Associates Structural Engineering, Inc (BASE) by the request of HDCC \n",
            "for support of louver L26, L27, LV28 & LV29By: Joel Pankros  - Pappageorge Haymes Partners 9/27/2016\n",
            "DIRECTION TO SUB/VENDOR:\n",
            "Proceed with this clarification with no cost increase to your subcontract.  If this answer causes a cost increase or time \n",
            "extension notify us in writing within 5 days.\n",
            "Page 1\n",
            "Louver Support Framing at Loading \n",
            "Dock Soffit\n",
            "0800\n",
            "7/28/2016\n",
            "11414The Collection\n",
            "8/4/2016\n",
            "{'rfi_title': 'Louver Support Framing at Loading \\nDock Soffit', 'rfi_number': '0800', 'rfi_date': '7/28/2016', 'project_name': '11414The Collection', 'due_date': '8/4/2016'}\n"
          ]
        }
      ]
    }
  ]
}