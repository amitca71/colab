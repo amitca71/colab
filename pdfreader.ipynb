{
  "nbformat": 4,
  "nbformat_minor": 0,
  "metadata": {
    "colab": {
      "provenance": [],
      "authorship_tag": "ABX9TyO93rGkYlVhcsWqTCcKJYGI",
      "include_colab_link": true
    },
    "kernelspec": {
      "name": "python3",
      "display_name": "Python 3"
    },
    "language_info": {
      "name": "python"
    }
  },
  "cells": [
    {
      "cell_type": "markdown",
      "metadata": {
        "id": "view-in-github",
        "colab_type": "text"
      },
      "source": [
        "<a href=\"https://colab.research.google.com/github/amitca71/colab/blob/main/pdfreader.ipynb\" target=\"_parent\"><img src=\"https://colab.research.google.com/assets/colab-badge.svg\" alt=\"Open In Colab\"/></a>"
      ]
    },
    {
      "cell_type": "code",
      "execution_count": null,
      "metadata": {
        "colab": {
          "base_uri": "https://localhost:8080/"
        },
        "id": "HbIhLJ_A-mo4",
        "outputId": "42d23e20-e92c-4369-d294-199e9ba9c91f"
      },
      "outputs": [
        {
          "output_type": "stream",
          "name": "stdout",
          "text": [
            "Collecting pypdf\n",
            "  Downloading pypdf-3.16.1-py3-none-any.whl (276 kB)\n",
            "\u001b[?25l     \u001b[90m━━━━━━━━━━━━━━━━━━━━━━━━━━━━━━━━━━━━━━━━\u001b[0m \u001b[32m0.0/276.3 kB\u001b[0m \u001b[31m?\u001b[0m eta \u001b[36m-:--:--\u001b[0m\r\u001b[2K     \u001b[91m━━━━━━━━━━━━━━━━━━━━━━━━━━━━━━━\u001b[0m\u001b[91m╸\u001b[0m\u001b[90m━━━━━━━\u001b[0m \u001b[32m225.3/276.3 kB\u001b[0m \u001b[31m6.7 MB/s\u001b[0m eta \u001b[36m0:00:01\u001b[0m\r\u001b[2K     \u001b[90m━━━━━━━━━━━━━━━━━━━━━━━━━━━━━━━━━━━━━━━\u001b[0m \u001b[32m276.3/276.3 kB\u001b[0m \u001b[31m6.0 MB/s\u001b[0m eta \u001b[36m0:00:00\u001b[0m\n",
            "\u001b[?25hInstalling collected packages: pypdf\n",
            "Successfully installed pypdf-3.16.1\n"
          ]
        }
      ],
      "source": [
        "!pip install pypdf"
      ]
    },
    {
      "cell_type": "code",
      "source": [
        "from pypdf import PdfReader\n",
        "from google.colab import drive\n",
        "drive.mount('/content/gdrive', force_remount=True)\n",
        "root_dir = \"/content/gdrive/My Drive/\""
      ],
      "metadata": {
        "colab": {
          "base_uri": "https://localhost:8080/"
        },
        "id": "9GMxn3PK_UF9",
        "outputId": "6145b55a-ec9f-443b-f322-0a3e53b01940"
      },
      "execution_count": null,
      "outputs": [
        {
          "output_type": "stream",
          "name": "stdout",
          "text": [
            "Mounted at /content/gdrive\n"
          ]
        }
      ]
    },
    {
      "cell_type": "code",
      "source": [
        "import os\n",
        "import re\n",
        "import pandas as pd\n",
        "pdf_folder_path = f'{root_dir}/charles_data/'\n",
        "os.listdir(pdf_folder_path)"
      ],
      "metadata": {
        "id": "lY507Tss_34N"
      },
      "execution_count": null,
      "outputs": []
    },
    {
      "cell_type": "code",
      "source": [
        "#rfi_date has two values for the sake of the example. actually, the 2nd one covers the 1st one and can be left alone\n",
        "#initially, only the 1st one was there and rfi_date was not extracted from RFI 0800 - Louver Support Framing at Loading Dock Soffit (RESPONSE without attachment).pdf\n",
        "#see how it was debugged below\n",
        "regex_str_dct={\n",
        "    \"rfi_title\": [r\"(?P<rfi_title>(.|\\n)*)REQUEST FOR INFORMATION\" ],\n",
        "    \"rfi_number\": [r\"(.|\\n)*REQUEST FOR INFORMATION (?P<rfi_number>\\d+)\"],\n",
        "    \"rfi_date\": [r\"(.|\\n)*DATE : (?P<rfi_date>\\d+/\\d+/\\d+)\", r\"(.|\\n)*DATE\\s*:\\s*(?P<rfi_date>\\d+/\\d+/\\d+)\"],\n",
        "    \"project_name\": [r\"(.|\\n)*PROJECT:\\n(?P<project_name>.*)\"],\n",
        "    \"due_date\": [r\"(.|\\n)*Response Required By:  \\n(?P<due_date>\\d+/\\d+/\\d+)\"],\n",
        "    \"assigned_to\": [r\"(.|\\n)*Fax: (\\d+|\\(|\\)|\\s|-)*\\n(?P<assigned_to>.*)NUMBER\"],\n",
        "    \"question\": [r\"(.|\\n)*RELATED DOCUMENTS: Rev. Rev. Date\\n.*\\n(?P<question>(.|\\n)*)QUESTION: .* Authored By:\\nANSWER:\" ,r\"(.|\\n)*QUESTION: .* Authored By:\\n(?P<question>(.|\\n)*)ANSWER:\"],\n",
        "    \"answer\": [r\"(.|\\n)*ANSWER:\\n(?P<answer>(.|\\n)*)\\nDIRECTION TO SUB/VENDOR:\"]\n",
        "}\n",
        "\n",
        "# \"rfi_date\": [r\"(.|\\n)*DATE : (?P<rfi_date>\\d+/\\d+/\\d+)\", r\"(.|\\n)*DATE\\s*:\\s*(?P<rfi_date>\\d+/\\d+/\\d+)\"],"
      ],
      "metadata": {
        "id": "tOoZ0uJrbiej"
      },
      "execution_count": 37,
      "outputs": []
    },
    {
      "cell_type": "code",
      "source": [
        "def get_value_by_regex(page, regex_str):\n",
        "  return (re.match(regex_str, page))"
      ],
      "metadata": {
        "id": "fbbWz68IfO1Z"
      },
      "execution_count": null,
      "outputs": []
    },
    {
      "cell_type": "code",
      "source": [
        "rfis_meta_list=[]\n",
        "for fl in os.listdir(pdf_folder_path):\n",
        "  rfi_meta_dict={}\n",
        "  pdf_file_path=f'{pdf_folder_path}/{fl}'\n",
        "  pdf_reader=PdfReader(pdf_file_path)\n",
        "  first_page_str=pdf_reader.pages[0].extract_text()\n",
        "  for r in regex_str_dct.keys():\n",
        "    for i in range (0, (len(regex_str_dct[r]))):\n",
        "      matches=get_value_by_regex(first_page_str, regex_str_dct[r][i])\n",
        "      if (matches):\n",
        "#       print(matches.group(r))\n",
        "        rfi_meta_dict[r]=matches.group(r)\n",
        "        break;\n",
        "#  print(rfi_meta_dict)\n",
        "  if (len(rfi_meta_dict.keys())<len(regex_str_dct.keys())):\n",
        "    print (f\"file {pdf_file_path} does not contain all attributes\")\n",
        "    print(\"Missing values:\", (set(regex_str_dct.keys()).difference(rfi_meta_dict.keys())))\n",
        "  rfi_meta_pd=pd.DataFrame.from_dict(rfi_meta_dict,orient='index').T\n",
        "  rfis_meta_list.append(rfi_meta_pd)"
      ],
      "metadata": {
        "id": "StpkPSI3AJaZ"
      },
      "execution_count": 38,
      "outputs": []
    },
    {
      "cell_type": "code",
      "source": [
        "print(first_page_str)"
      ],
      "metadata": {
        "id": "0JQe5jvGZCcT"
      },
      "execution_count": null,
      "outputs": []
    },
    {
      "cell_type": "code",
      "source": [
        "full_pd=pd.concat(rfis_meta_list)\n",
        "full_pd"
      ],
      "metadata": {
        "id": "SHrEKjXmcXoZ"
      },
      "execution_count": null,
      "outputs": []
    },
    {
      "cell_type": "code",
      "source": [
        "full_pd.to_csv('/tmp/all_data.csv')"
      ],
      "metadata": {
        "id": "_wCpd6Unh1FU"
      },
      "execution_count": 40,
      "outputs": []
    },
    {
      "cell_type": "code",
      "source": [
        "!cat /tmp/all_data.csv"
      ],
      "metadata": {
        "id": "elyc26D4jA2A"
      },
      "execution_count": null,
      "outputs": []
    },
    {
      "cell_type": "code",
      "source": [
        "rfi_meta_dict={}\n",
        "pdf_file_path=\"/content/gdrive/My Drive//charles_data//RFI 0800 - Louver Support Framing at Loading Dock Soffit (RESPONSE without attachment).pdf\"\n",
        "pdf_reader=PdfReader(pdf_file_path)\n",
        "first_page_str=pdf_reader.pages[0].extract_text()\n",
        "print(first_page_str)\n",
        "for r in regex_str_dct.keys():\n",
        "  for i in range (0, (len(regex_str_dct[r]))):\n",
        "    matches=get_value_by_regex(first_page_str, regex_str_dct[r][i])\n",
        "    if (matches):\n",
        "      print(matches.group(r))\n",
        "      rfi_meta_dict[r]=matches.group(r)\n",
        "      break;\n",
        "print(rfi_meta_dict)"
      ],
      "metadata": {
        "id": "uZQxpjxGxZ5H"
      },
      "execution_count": null,
      "outputs": []
    },
    {
      "cell_type": "code",
      "source": [
        "first_page_str"
      ],
      "metadata": {
        "id": "XfGfQBYlbezw"
      },
      "execution_count": null,
      "outputs": []
    }
  ]
}