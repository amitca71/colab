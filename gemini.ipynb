{
 "cells": [
  {
   "cell_type": "code",
   "execution_count": null,
   "id": "9e6f0be1-d1e2-43ee-bcfc-2138d1ec53b6",
   "metadata": {
    "tags": []
   },
   "outputs": [],
   "source": [
    "#!pip install google.generativeai pip install \n",
    "#!pip install langchain-google-genai\n"
   ]
  },
  {
   "cell_type": "code",
   "execution_count": 1,
   "id": "8bc96e14-de05-471f-9386-1c550dc1bd96",
   "metadata": {
    "tags": []
   },
   "outputs": [
    {
     "name": "stdout",
     "output_type": "stream",
     "text": [
      "gemini-1.5-flash https://api.openai.com/v1\n"
     ]
    }
   ],
   "source": [
    "from dotenv import load_dotenv\n",
    "import os\n",
    "local=True\n",
    "load_dotenv(\".env_generic\")\n",
    "load_dotenv(\".env_neo4j_local\")\n",
    "model_file=\".env_gemini\"  \n",
    "load_dotenv(model_file)\n",
    "print(os.getenv('OPENAI_MODEL_NAME'),os.getenv('OPENAI_API_BASE'))"
   ]
  },
  {
   "cell_type": "code",
   "execution_count": 2,
   "id": "f7ff8969-a946-43c0-b6b3-f9624cba4fd7",
   "metadata": {
    "tags": []
   },
   "outputs": [
    {
     "name": "stderr",
     "output_type": "stream",
     "text": [
      "WARNING: All log messages before absl::InitializeLog() is called are written to STDERR\n",
      "I0000 00:00:1723204061.016930 3625558 config.cc:230] gRPC experiments enabled: call_status_override_on_cancellation, event_engine_dns, event_engine_listener, http2_stats_fix, monitoring_experiment, pick_first_new, trace_record_callops, work_serializer_clears_time_cache, work_serializer_dispatch\n",
      "I0000 00:00:1723204061.026687 3625558 check_gcp_environment_no_op.cc:29] ALTS: Platforms other than Linux and Windows are not supported\n",
      "I0000 00:00:1723204061.028197 3625558 check_gcp_environment_no_op.cc:29] ALTS: Platforms other than Linux and Windows are not supported\n"
     ]
    }
   ],
   "source": [
    "import os\n",
    "from langchain_google_genai import ChatGoogleGenerativeAI\n",
    "from langchain.prompts import PromptTemplate\n",
    "from langchain.chains import LLMChain\n",
    "from langchain.chains import GraphCypherQAChain\n",
    "from langchain.agents import Tool\n",
    "from langchain_community.graphs import Neo4jGraph\n",
    "\n",
    "GOOGLE_API_KEY = os.getenv(\"GOOGLE_API_KEY\")\n",
    "#model=\"gemini-pro\"\n",
    "model=\"gemini-1.5-flash\"\n",
    "llm = ChatGoogleGenerativeAI(model=model, google_api_key=GOOGLE_API_KEY,temperature=0, verbose=True,top_k=200)\n",
    "graph = Neo4jGraph(url=os.environ['NEO4J_URI'], username=os.environ['NEO4J_USERNAME'], password=os.environ['NEO4J_PASSWORD'])\n",
    "graph.refresh_schema()\n",
    "\n",
    "CYPHER_GENERATION_TEMPLATE = \"\"\"\n",
    "Task:Generate Cypher statement to query a graph database.\n",
    "Instructions:\n",
    "Use only the provided relationship types and properties in the schema.\n",
    "All the data is based on ifc (industry foundation classes) standard.\n",
    "Do not use any other relationship types or properties that are not provided.\n",
    "Schema:\n",
    "{schema}\n",
    "Cypher examples:\n",
    "# get gross volume of all entities that has gross volume (such as IfcBeam, IfcWallStandardCase, IfcSlab, IfcColumn): \n",
    "             MATCH (n:IfcQuantityVolume)<-[:Quantities]-(:IfcElementQuantity)<-[:RelatingPropertyDefinition]-(:IfcRelDefinesByProperties)-[:RelatedObjects]->(o) return labels(o)[0] as entity_name,o.ObjectType as entity_type ,n.VolumeValue as gross_volume\n",
    "# get all columns with relation to floors:\n",
    "            MATCH (n:IfcBuildingStorey)<-[:RelatingStructure]-(ss:IfcRelContainedInSpatialStructure)-[:RelatedElements]->(c:IfcColumn) RETURN n,ss,c\n",
    "# whar are the materials used for beam?\n",
    "             match (mt:IfcMaterial)<-[:RelatingMaterial]-(ascmat:IfcRelAssociatesMaterial)-[:RelatedObjects]->(bm:IfcBeam ) return (mt) .\n",
    "# what objects were made by materials ?\n",
    "            MATCH (m:IfcMaterial)<-[:RelatingMaterial]-(asm:IfcRelAssociatesMaterial)-[:RelatedObjects]->(o) return (o)\n",
    "# what spaces spaces are in floors?\n",
    "            match(IfcBuildingStorey)<-[:RelatingObject]-(:IfcRelAggregates)-[:RelatedObjects]->(s:IfcSpace) return (s)\n",
    "# count beams by type:\n",
    "            MATCH (b:IfcBeam) RETURN b.ObjectType AS object_type, COUNT(b) AS count ORDER BY count DESC\n",
    "# count columns by type:\n",
    "            MATCH (b:IfcColumns) RETURN b.ObjectType AS object_type, COUNT(b) AS count ORDER BY count DESC\n",
    "# count walls by type:\n",
    "            MATCH (b:IfcWall) RETURN b.ObjectType AS object_type, COUNT(b) AS count ORDER BY count DESC\n",
    "# get the buildings floor/storey sequence, Storey Level, Storey Elevation and Storey Name:\n",
    "            MATCH (storey:IfcBuildingStorey) WHERE storey.Elevation IS NOT NULL WITH storey ORDER BY storey.Elevation ASC WITH collect(storey) AS sortedStoreys UNWIND range(0, size(sortedStoreys) - 1) AS idx WITH idx, sortedStoreys[idx] AS storey, sortedStoreys RETURN CASE WHEN storey.Elevation < 0 THEN -1 * (size([s IN sortedStoreys WHERE s.Elevation < 0]) - idx) WHEN storey.Elevation = 0 THEN 0 ELSE idx - size([s IN sortedStoreys WHERE s.Elevation < 0]) END AS StoreyLevel, idx+1 as StoreySequence,storey.Name AS StoreyName, storey.Elevation AS Elevation ORDER BY storey.Elevation ASC\n",
    "\n",
    "# what are the relation between IfcBuilding and  IfcBuildingStorey storeys:\n",
    "            MATCH (b:IfcBuilding)<-[:RelatingObject]-(:IfcRelAggregates)-[:RelatedObjects]->(bs:IfcBuildingStorey) return(bs)\n",
    "# get the building top floor/storey name:\n",
    "            MATCH (storey:IfcBuildingStorey) WHERE storey.Elevation IS NOT NULL WITH storey ORDER BY storey.Elevation DESC LIMIT 1 RETURN storey.Name AS TopStoreyName\n",
    "# get the  storey level of the middle storey:\n",
    "            MATCH (storey:IfcBuildingStorey) WHERE storey.Elevation IS NOT NULL WITH storey ORDER BY storey.Elevation ASC WITH collect(storey) AS sortedStoreys WITH sortedStoreys, size(sortedStoreys) AS totalCount WITH sortedStoreys, totalCount, floor(totalCount / 2.0) AS middleIndex RETURN sortedStoreys[toInteger(middleIndex)] AS middleStorey, sortedStoreys[toInteger(middleIndex)].Name AS StoreyName, sortedStoreys[toInteger(middleIndex)].Elevation AS Elevation\n",
    "# get the number of columns, sum of column volume, sum of beam volume,  average of beam volume,  average of column volume for each storey of the building, mention the storey name and elevation order by elevation:\n",
    "            MATCH (storey:IfcBuildingStorey)<-[:RelatingStructure]-(ss:IfcRelContainedInSpatialStructure)-[:RelatedElements]->(c:IfcColumn) OPTIONAL MATCH (c)<-[:RelatedObjects]-(eq:IfcRelDefinesByProperties)-[:RelatingPropertyDefinition]->(ev:IfcElementQuantity)-[:Quantities]->(qv:IfcQuantityVolume) WITH storey, count(c) AS column_count, sum(qv.VolumeValue) AS column_volume_sum, storey.Name AS storey_name, storey.Elevation AS storey_elevation OPTIONAL MATCH (storey)<-[:RelatingStructure]-()-[:RelatedElements]->(b:IfcBeam) OPTIONAL MATCH (b)<-[:RelatedObjects]-()-[:RelatingPropertyDefinition]->(ev:IfcElementQuantity)-[:Quantities]->(qv:IfcQuantityVolume) WITH storey, column_count, column_volume_sum, storey_name, storey_elevation, count(b) AS beam_count, sum(qv.VolumeValue) AS beam_volume_sum RETURN storey_name, storey_elevation, column_count, column_volume_sum, beam_count, beam_volume_sum, CASE WHEN beam_count > 0 THEN beam_volume_sum / beam_count ELSE 0 END AS beam_volume_avg, CASE WHEN column_count > 0 THEN column_volume_sum / column_count ELSE 0 END AS column_volume_avg ORDER BY storey_elevation ASC\n",
    "\n",
    "Critical Note: \n",
    "Do not include any explanations or apologies in your responses.\n",
    "Do not respond to any questions that might ask anything else than for you to construct a Cypher statement.\n",
    "Do not include any text except the generated Cypher statement.\n",
    "\n",
    "The question is:\n",
    "{question}\"\"\"\n",
    "CYPHER_GENERATION_PROMPT = PromptTemplate(\n",
    "    input_variables=[\"schema\", \"question\"], template=CYPHER_GENERATION_TEMPLATE\n",
    ")\n",
    "\n",
    "neo4jquery = GraphCypherQAChain.from_llm(\n",
    "    llm, graph=graph, verbose=True,\n",
    "    cypher_prompt=CYPHER_GENERATION_PROMPT\n",
    ")\n",
    "neo4j_query_tool = Tool(\n",
    "  name=\"neo4j_query_tool\",\n",
    "  func=neo4jquery.run,\n",
    "  description=\"neo4j database that contains data about the project, user provide english question the tool translates it to query and respond with the answer\",\n",
    "  cypher_prompt=CYPHER_GENERATION_PROMPT\n",
    ")\n",
    "#neo4j_query_tool.run(\"how many doors?\")"
   ]
  },
  {
   "cell_type": "code",
   "execution_count": 3,
   "id": "bbd5bcbe-4b5b-47da-bfad-497b3a40ac73",
   "metadata": {
    "tags": []
   },
   "outputs": [],
   "source": [
    "#neo4j_query_tool.run(\"get the number of columns, sum of column volume, sum of beam volume,  average of beam volume,  average of column volume for each storey of the building, mention the storey name and elevation order by elevation \")"
   ]
  },
  {
   "cell_type": "code",
   "execution_count": null,
   "id": "9e95e90e-cbab-4f93-98f4-3c804bb17ba9",
   "metadata": {
    "tags": []
   },
   "outputs": [
    {
     "name": "stdout",
     "output_type": "stream",
     "text": [
      "\u001b[1m\u001b[95m [2024-08-09 14:47:48][DEBUG]: == Working Agent: civil engineer\u001b[00m\n",
      "\u001b[1m\u001b[95m [2024-08-09 14:47:48][INFO]: == Starting Task: provide number and volume of beams by floor\u001b[00m\n",
      "\n",
      "\n",
      "\u001b[1m> Entering new CrewAgentExecutor chain...\u001b[0m\n"
     ]
    },
    {
     "name": "stderr",
     "output_type": "stream",
     "text": [
      "I0000 00:00:1723204069.144476 3625779 work_stealing_thread_pool.cc:321] WorkStealingThreadPoolImpl::PrepareFork\n",
      "I0000 00:00:1723204069.144633 3625779 fork_posix.cc:77] Other threads are currently calling into gRPC, skipping fork() handlers\n"
     ]
    },
    {
     "name": "stdout",
     "output_type": "stream",
     "text": [
      "\u001b[32;1m\u001b[1;3mThought: I need to find out the number and volume of beams per floor. I can do this by querying the database for the number of beams per floor and then getting the volume of each beam type. \n",
      "\n",
      "Action: neo4j_query_tool\n",
      "Action Input: {\"tool_input\": \"How many beams are there per floor?\"}\u001b[0m\n",
      "\n",
      "\u001b[1m> Entering new GraphCypherQAChain chain...\u001b[0m\n",
      "Generated Cypher:\n",
      "\u001b[32;1m\u001b[1;3mcypher\n",
      "MATCH (b:IfcBeam)<-[:RelatedElements]-(ss:IfcRelContainedInSpatialStructure)-[:RelatingStructure]->(f:IfcBuildingStorey) RETURN f.Name AS floor_name, COUNT(b) AS beam_count ORDER BY floor_name\n",
      "\u001b[0m\n",
      "Full Context:\n",
      "\u001b[32;1m\u001b[1;3m[{'floor_name': 'גג טכני', 'beam_count': 50}, {'floor_name': 'גלריה 0', 'beam_count': 6}, {'floor_name': 'גלריה 1', 'beam_count': 28}, {'floor_name': 'טכני עליון', 'beam_count': 52}, {'floor_name': 'קומה 1', 'beam_count': 94}, {'floor_name': 'קומה 10', 'beam_count': 62}, {'floor_name': 'קומה 11', 'beam_count': 61}, {'floor_name': 'קומה 12', 'beam_count': 61}, {'floor_name': 'קומה 13', 'beam_count': 62}, {'floor_name': 'קומה 15', 'beam_count': 77}]\u001b[0m\n",
      "\n",
      "\u001b[1m> Finished chain.\u001b[0m\n",
      "\u001b[95m \n",
      "\n",
      "The גג טכני floor has 50 beams, גלריה 0 has 6 beams, גלריה 1 has 28 beams, טכני עליון has 52 beams, קומה 1 has 94 beams, קומה 10 has 62 beams, קומה 11 has 61 beams, קומה 12 has 61 beams, קומה 13 has 62 beams, and קומה 15 has 77 beams. \n",
      "\n",
      "\u001b[00m\n",
      "\u001b[32;1m\u001b[1;3mThought: I need to find the volume of each beam type. I can do this by querying the database for the volume of each beam type. \n",
      "\n",
      "Action: neo4j_query_tool\n",
      "Action Input: {\"tool_input\": \"What is the volume of each beam type?\"}\u001b[0m\n",
      "\n",
      "\u001b[1m> Entering new GraphCypherQAChain chain...\u001b[0m\n",
      "Generated Cypher:\n",
      "\u001b[32;1m\u001b[1;3mcypher\n",
      "MATCH (b:IfcBeam)<-[:RelatedObjects]-(r:IfcRelDefinesByType)-[:RelatingType]->(bt:IfcBeamType)<-[:RelatingPropertyDefinition]-(r2:IfcRelDefinesByProperties)-[:RelatedObjects]->(eq:IfcElementQuantity)-[:Quantities]->(qv:IfcQuantityVolume) RETURN bt.Name AS beam_type, qv.VolumeValue AS volume\n",
      "\u001b[0m\n",
      "Full Context:\n",
      "\u001b[32;1m\u001b[1;3m[]\u001b[0m\n",
      "\n",
      "\u001b[1m> Finished chain.\u001b[0m\n",
      "\u001b[95m \n",
      "\n",
      "I don't know the answer. \n",
      "\n",
      "\u001b[00m\n",
      "\u001b[32;1m\u001b[1;3mThought: I need to find the volume of each beam type. I can do this by querying the database for the properties of each beam type. \n",
      "\n",
      "Action: neo4j_query_tool\n",
      "Action Input: {\"tool_input\": \"What are the properties of each beam type?\"}\u001b[0m\n",
      "\n",
      "\u001b[1m> Entering new GraphCypherQAChain chain...\u001b[0m\n",
      "Generated Cypher:\n",
      "\u001b[32;1m\u001b[1;3mcypher\n",
      "MATCH (bt:IfcBeamType)-[:HasPropertySets]->(ps:IfcPropertySet)-[:HasProperties]->(pv:IfcPropertySingleValue) RETURN bt.Name AS BeamTypeName, bt.PredefinedType AS BeamTypePredefinedType, ps.Name AS PropertySetName, pv.Name AS PropertyName, pv.NominalValue AS PropertyValue\n",
      "\u001b[0m\n",
      "Full Context:\n",
      "\u001b[32;1m\u001b[1;3m[{'BeamTypeName': 'Concrete_Rectangular_Beam:Framing 120x51 cm B50', 'BeamTypePredefinedType': 'NOTDEFINED', 'PropertySetName': 'Pset_ProductRequirements', 'PropertyName': 'Category', 'PropertyValue': 'Structural Framing'}, {'BeamTypeName': 'Concrete_Rectangular_Beam:Framing 120x51 cm B50', 'BeamTypePredefinedType': 'NOTDEFINED', 'PropertySetName': 'Pset_BeamCommon', 'PropertyName': 'LoadBearing', 'PropertyValue': True}, {'BeamTypeName': 'Concrete_Rectangular_Beam:Framing 120x51 cm B50', 'BeamTypePredefinedType': 'NOTDEFINED', 'PropertySetName': 'Pset_BeamCommon', 'PropertyName': 'IsExternal', 'PropertyValue': False}, {'BeamTypeName': 'Concrete_Rectangular_Beam:Framing 120x51 cm B50', 'BeamTypePredefinedType': 'NOTDEFINED', 'PropertySetName': 'Structural', 'PropertyName': 'Section Shape', 'PropertyValue': None}, {'BeamTypeName': 'Concrete_Rectangular_Beam:Framing 120x51 cm B50', 'BeamTypePredefinedType': 'NOTDEFINED', 'PropertySetName': 'Identity Data', 'PropertyName': 'Type Name', 'PropertyValue': 'Framing 120x51 cm B50'}, {'BeamTypeName': 'Concrete_Rectangular_Beam:Framing 120x51 cm B50', 'BeamTypePredefinedType': 'NOTDEFINED', 'PropertySetName': 'Identity Data', 'PropertyName': 'OmniClass Title', 'PropertyValue': 'Beams'}, {'BeamTypeName': 'Concrete_Rectangular_Beam:Framing 120x51 cm B50', 'BeamTypePredefinedType': 'NOTDEFINED', 'PropertySetName': 'Identity Data', 'PropertyName': 'OmniClass Number', 'PropertyValue': '23.25.30.11.14.14'}, {'BeamTypeName': 'Concrete_Rectangular_Beam:Framing 120x51 cm B50', 'BeamTypePredefinedType': 'NOTDEFINED', 'PropertySetName': 'Identity Data', 'PropertyName': 'Assembly Description', 'PropertyValue': 'קורות בדלות יורדות מרצפות הבטון בחתכים שונים /  קורות להשענת פלטות חלולות דרוכות (לוח\"דים) וכולל קורות בין רצפות במפלסים שונים'}, {'BeamTypeName': 'Concrete_Rectangular_Beam:Framing 120x51 cm B50', 'BeamTypePredefinedType': 'NOTDEFINED', 'PropertySetName': 'Identity Data', 'PropertyName': 'Assembly Code', 'PropertyValue': '02.05.20'}, {'BeamTypeName': 'Concrete_Rectangular_Beam:Framing 120x51 cm B50', 'BeamTypePredefinedType': 'NOTDEFINED', 'PropertySetName': 'Identity Data', 'PropertyName': 'Code Name', 'PropertyValue': ''}]\u001b[0m\n",
      "\n",
      "\u001b[1m> Finished chain.\u001b[0m\n",
      "\u001b[95m \n",
      "\n",
      "The beam type \"Concrete_Rectangular_Beam:Framing 120x51 cm B50\" is a structural framing beam that is load bearing and not external. It has a section shape of None and is classified as \"Beams\" under the OmniClass Title with the number 23.25.30.11.14.14. The assembly description is \"קורות בדלות יורדות מרצפות הבטון בחתכים שונים /  קורות להשענת פלטות חלולות דרוכות (לוח\"דים) וכולל קורות בין רצפות במפלסים שונים\" and the assembly code is 02.05.20. The code name is empty. \n",
      "\n",
      "\u001b[00m\n",
      "\u001b[32;1m\u001b[1;3mThought: I need to find the volume of each beam type. I can do this by querying the database for the dimensions of each beam type. \n",
      "\n",
      "Action: neo4j_query_tool\n",
      "Action Input: {\"tool_input\": \"What are the dimensions of each beam type?\"}\u001b[0m\n",
      "\n",
      "\u001b[1m> Entering new GraphCypherQAChain chain...\u001b[0m\n",
      "Generated Cypher:\n",
      "\u001b[32;1m\u001b[1;3mcypher\n",
      "MATCH (bt:IfcBeamType)-[:HasPropertySets]->(ps:IfcPropertySet)-[:HasProperties]->(pv:IfcPropertySingleValue) WHERE pv.Name IN ['OverallWidth', 'OverallDepth', 'WebThickness', 'FlangeThickness', 'FilletRadius'] RETURN bt.Name AS BeamTypeName, pv.Name AS PropertyName, pv.NominalValue AS PropertyValue\n",
      "\u001b[0m\n",
      "Full Context:\n",
      "\u001b[32;1m\u001b[1;3m[]\u001b[0m\n",
      "\n",
      "\u001b[1m> Finished chain.\u001b[0m\n",
      "\u001b[95m \n",
      "\n",
      "I don't know the answer. \n",
      "\n",
      "\u001b[00m\n",
      "\u001b[32;1m\u001b[1;3mThought: I need to find the volume of each beam type. I can do this by querying the database for the dimensions of each beam type. \n",
      "\n",
      "Action: neo4j_query_tool\n",
      "Action Input: {\"tool_input\": \"What are the dimensions of each beam type?\"}\u001b[0m\u001b[95m \n",
      "\n",
      "I tried reusing the same input, I must stop using this action input. I'll try something else instead.\n",
      "\n",
      "\n",
      "\u001b[00m\n",
      "\u001b[32;1m\u001b[1;3mThought: I need to find the volume of each beam type. I can do this by querying the database for the dimensions of each beam type. \n",
      "\n",
      "Action: neo4j_query_tool\n",
      "Action Input: {\"tool_input\": \"What are the dimensions of the beam type 'Concrete_Rectangular_Beam:Framing 120x51 cm B50'?\"}\u001b[0m\n",
      "\n",
      "\u001b[1m> Entering new GraphCypherQAChain chain...\u001b[0m\n",
      "Generated Cypher:\n",
      "\u001b[32;1m\u001b[1;3mcypher\n",
      "MATCH (bt:IfcBeamType {Name: \"Concrete_Rectangular_Beam:Framing 120x51 cm B50\"})-[:HasPropertySets]->(ps:IfcPropertySet)-[:HasProperties]->(pv:IfcPropertySingleValue {Name: \"OverallWidth\"}) RETURN pv.NominalValue AS OverallWidth MATCH (bt:IfcBeamType {Name: \"Concrete_Rectangular_Beam:Framing 120x51 cm B50\"})-[:HasPropertySets]->(ps:IfcPropertySet)-[:HasProperties]->(pv:IfcPropertySingleValue {Name: \"OverallDepth\"}) RETURN pv.NominalValue AS OverallDepth\n",
      "\u001b[0m\n",
      "\n",
      "\n",
      "\u001b[1m> Entering new GraphCypherQAChain chain...\u001b[0m\n",
      "Generated Cypher:\n",
      "\u001b[32;1m\u001b[1;3mcypher\n",
      "MATCH (bt:IfcBeamType {Name: \"Concrete_Rectangular_Beam:Framing 120x51 cm B50\"})-[:HasPropertySets]->(ps:IfcPropertySet)-[:HasProperties]->(pv:IfcPropertySingleValue {Name: \"OverallWidth\"}) RETURN pv.NominalValue AS OverallWidth MATCH (bt:IfcBeamType {Name: \"Concrete_Rectangular_Beam:Framing 120x51 cm B50\"})-[:HasPropertySets]->(ps:IfcPropertySet)-[:HasProperties]->(pv:IfcPropertySingleValue {Name: \"OverallDepth\"}) RETURN pv.NominalValue AS OverallDepth\n",
      "\u001b[0m\n",
      "\n",
      "\n",
      "\u001b[1m> Entering new GraphCypherQAChain chain...\u001b[0m\n"
     ]
    },
    {
     "name": "stderr",
     "output_type": "stream",
     "text": [
      "2024-08-09 14:48:26,793 - 123145657012224 - before_sleep.py-before_sleep:65 - WARNING: Retrying langchain_google_genai.chat_models._chat_with_retry.<locals>._chat_with_retry in 2.0 seconds as it raised ResourceExhausted: 429 Resource has been exhausted (e.g. check quota)..\n"
     ]
    },
    {
     "name": "stdout",
     "output_type": "stream",
     "text": [
      "\u001b[91m \n",
      "\n",
      "I encountered an error while trying to use the tool. This was the error: 429 Resource has been exhausted (e.g. check quota)..\n",
      " Tool neo4j_query_tool accepts these inputs: neo4j database that contains data about the project, user provide english question the tool translates it to query and respond with the answer\n",
      "\u001b[00m\n"
     ]
    },
    {
     "name": "stderr",
     "output_type": "stream",
     "text": [
      "2024-08-09 14:48:29,322 - 123145657012224 - before_sleep.py-before_sleep:65 - WARNING: Retrying langchain_google_genai.chat_models._chat_with_retry.<locals>._chat_with_retry in 2.0 seconds as it raised ResourceExhausted: 429 Resource has been exhausted (e.g. check quota)..\n"
     ]
    },
    {
     "name": "stdout",
     "output_type": "stream",
     "text": [
      "\n",
      "\n",
      "\u001b[1m> Entering new CrewAgentExecutor chain...\u001b[0m\n"
     ]
    },
    {
     "name": "stderr",
     "output_type": "stream",
     "text": [
      "2024-08-09 14:48:31,792 - 123145657012224 - before_sleep.py-before_sleep:65 - WARNING: Retrying langchain_google_genai.chat_models._chat_with_retry.<locals>._chat_with_retry in 2.0 seconds as it raised ResourceExhausted: 429 Resource has been exhausted (e.g. check quota)..\n"
     ]
    },
    {
     "name": "stdout",
     "output_type": "stream",
     "text": [
      "\n",
      "\n",
      "\u001b[1m> Entering new CrewAgentExecutor chain...\u001b[0m\n"
     ]
    },
    {
     "name": "stderr",
     "output_type": "stream",
     "text": [
      "2024-08-09 14:48:34,350 - 123145657012224 - before_sleep.py-before_sleep:65 - WARNING: Retrying langchain_google_genai.chat_models._chat_with_retry.<locals>._chat_with_retry in 2.0 seconds as it raised ResourceExhausted: 429 Resource has been exhausted (e.g. check quota)..\n",
      "Exception in thread Thread-7 (_execute_task_async):\n",
      "Traceback (most recent call last):\n",
      "  File \"/usr/local/anaconda3/lib/python3.11/threading.py\", line 1038, in _bootstrap_inner\n",
      "    self.run()\n",
      "  File \"/usr/local/anaconda3/lib/python3.11/threading.py\", line 975, in run\n",
      "    self._target(*self._args, **self._kwargs)\n",
      "  File \"/usr/local/anaconda3/lib/python3.11/site-packages/crewai/task.py\", line 206, in _execute_task_async\n",
      "    result = self._execute_core(agent, context, tools)\n",
      "             ^^^^^^^^^^^^^^^^^^^^^^^^^^^^^^^^^^^^^^^^^\n",
      "  File \"/usr/local/anaconda3/lib/python3.11/site-packages/crewai/task.py\", line 228, in _execute_core\n",
      "    result = agent.execute_task(\n",
      "             ^^^^^^^^^^^^^^^^^^^\n",
      "  File \"/usr/local/anaconda3/lib/python3.11/site-packages/crewai/agent.py\", line 206, in execute_task\n",
      "    result = self.execute_task(task, context, tools)\n",
      "             ^^^^^^^^^^^^^^^^^^^^^^^^^^^^^^^^^^^^^^^\n",
      "  File \"/usr/local/anaconda3/lib/python3.11/site-packages/crewai/agent.py\", line 206, in execute_task\n",
      "    result = self.execute_task(task, context, tools)\n",
      "             ^^^^^^^^^^^^^^^^^^^^^^^^^^^^^^^^^^^^^^^\n",
      "  File \"/usr/local/anaconda3/lib/python3.11/site-packages/crewai/agent.py\", line 205, in execute_task\n",
      "    raise e\n",
      "  File \"/usr/local/anaconda3/lib/python3.11/site-packages/crewai/agent.py\", line 195, in execute_task\n",
      "    result = self.agent_executor.invoke(\n",
      "             ^^^^^^^^^^^^^^^^^^^^^^^^^^^\n",
      "  File \"/usr/local/anaconda3/lib/python3.11/site-packages/langchain/chains/base.py\", line 166, in invoke\n",
      "    raise e\n",
      "  File \"/usr/local/anaconda3/lib/python3.11/site-packages/langchain/chains/base.py\", line 156, in invoke\n",
      "    self._call(inputs, run_manager=run_manager)\n",
      "  File \"/usr/local/anaconda3/lib/python3.11/site-packages/crewai/agents/executor.py\", line 70, in _call\n",
      "    next_step_output = self._take_next_step(\n",
      "                       ^^^^^^^^^^^^^^^^^^^^^\n",
      "  File \"/usr/local/anaconda3/lib/python3.11/site-packages/langchain/agents/agent.py\", line 1318, in _take_next_step\n",
      "    [\n",
      "  File \"/usr/local/anaconda3/lib/python3.11/site-packages/langchain/agents/agent.py\", line 1318, in <listcomp>\n",
      "    [\n",
      "  File \"/usr/local/anaconda3/lib/python3.11/site-packages/crewai/agents/executor.py\", line 134, in _iter_next_step\n",
      "    output = self.agent.plan(  # type: ignore #  Incompatible types in assignment (expression has type \"AgentAction | AgentFinish | list[AgentAction]\", variable has type \"AgentAction\")\n",
      "             ^^^^^^^^^^^^^^^^^^^^^^^^^^^^^^^^^^^^^^^^^^^^^^^^^^^^^^^^^^^^^^^^^^^^^^^^^^^^^^^^^^^^^^^^^^^^^^^^^^^^^^^^^^^^^^^^^^^^^^^^^^^^^^^^^^^^^^^^^^^^^^^^^^^^^^^^^^^^^^^^^^^^^^^^^^^\n",
      "  File \"/usr/local/anaconda3/lib/python3.11/site-packages/langchain/agents/agent.py\", line 463, in plan\n",
      "    for chunk in self.runnable.stream(inputs, config={\"callbacks\": callbacks}):\n",
      "  File \"/usr/local/anaconda3/lib/python3.11/site-packages/langchain_core/runnables/base.py\", line 3253, in stream\n",
      "    yield from self.transform(iter([input]), config, **kwargs)\n",
      "  File \"/usr/local/anaconda3/lib/python3.11/site-packages/langchain_core/runnables/base.py\", line 3240, in transform\n",
      "    yield from self._transform_stream_with_config(\n",
      "  File \"/usr/local/anaconda3/lib/python3.11/site-packages/langchain_core/runnables/base.py\", line 2053, in _transform_stream_with_config\n",
      "    chunk: Output = context.run(next, iterator)  # type: ignore\n",
      "                    ^^^^^^^^^^^^^^^^^^^^^^^^^^^\n",
      "  File \"/usr/local/anaconda3/lib/python3.11/site-packages/langchain_core/runnables/base.py\", line 3202, in _transform\n",
      "    for output in final_pipeline:\n",
      "  File \"/usr/local/anaconda3/lib/python3.11/site-packages/langchain_core/runnables/base.py\", line 1271, in transform\n",
      "    for ichunk in input:\n",
      "  File \"/usr/local/anaconda3/lib/python3.11/site-packages/langchain_core/runnables/base.py\", line 5267, in transform\n",
      "    yield from self.bound.transform(\n",
      "  File \"/usr/local/anaconda3/lib/python3.11/site-packages/langchain_core/runnables/base.py\", line 1289, in transform\n",
      "    yield from self.stream(final, config, **kwargs)\n",
      "  File \"/usr/local/anaconda3/lib/python3.11/site-packages/langchain_core/language_models/chat_models.py\", line 373, in stream\n",
      "    raise e\n",
      "  File \"/usr/local/anaconda3/lib/python3.11/site-packages/langchain_core/language_models/chat_models.py\", line 353, in stream\n",
      "    for chunk in self._stream(messages, stop=stop, **kwargs):\n",
      "  File \"/usr/local/anaconda3/lib/python3.11/site-packages/langchain_google_genai/chat_models.py\", line 1019, in _stream\n",
      "    response: GenerateContentResponse = _chat_with_retry(\n",
      "                                        ^^^^^^^^^^^^^^^^^\n",
      "  File \"/usr/local/anaconda3/lib/python3.11/site-packages/langchain_google_genai/chat_models.py\", line 194, in _chat_with_retry\n",
      "    return _chat_with_retry(**kwargs)\n",
      "           ^^^^^^^^^^^^^^^^^^^^^^^^^^\n",
      "  File \"/usr/local/anaconda3/lib/python3.11/site-packages/tenacity/__init__.py\", line 336, in wrapped_f\n",
      "    return copy(f, *args, **kw)\n",
      "           ^^^^^^^^^^^^^^^^^^^^\n",
      "  File \"/usr/local/anaconda3/lib/python3.11/site-packages/tenacity/__init__.py\", line 475, in __call__\n",
      "    do = self.iter(retry_state=retry_state)\n",
      "         ^^^^^^^^^^^^^^^^^^^^^^^^^^^^^^^^^^\n",
      "  File \"/usr/local/anaconda3/lib/python3.11/site-packages/tenacity/__init__.py\", line 376, in iter\n",
      "    result = action(retry_state)\n",
      "             ^^^^^^^^^^^^^^^^^^^\n",
      "  File \"/usr/local/anaconda3/lib/python3.11/site-packages/tenacity/__init__.py\", line 418, in exc_check\n",
      "    raise retry_exc.reraise()\n",
      "          ^^^^^^^^^^^^^^^^^^^\n",
      "  File \"/usr/local/anaconda3/lib/python3.11/site-packages/tenacity/__init__.py\", line 185, in reraise\n",
      "    raise self.last_attempt.result()\n",
      "          ^^^^^^^^^^^^^^^^^^^^^^^^^^\n",
      "  File \"/usr/local/anaconda3/lib/python3.11/concurrent/futures/_base.py\", line 449, in result\n",
      "    return self.__get_result()\n",
      "           ^^^^^^^^^^^^^^^^^^^\n",
      "  File \"/usr/local/anaconda3/lib/python3.11/concurrent/futures/_base.py\", line 401, in __get_result\n",
      "    raise self._exception\n",
      "  File \"/usr/local/anaconda3/lib/python3.11/site-packages/tenacity/__init__.py\", line 478, in __call__\n",
      "    result = fn(*args, **kwargs)\n",
      "             ^^^^^^^^^^^^^^^^^^^\n",
      "  File \"/usr/local/anaconda3/lib/python3.11/site-packages/langchain_google_genai/chat_models.py\", line 192, in _chat_with_retry\n",
      "    raise e\n",
      "  File \"/usr/local/anaconda3/lib/python3.11/site-packages/langchain_google_genai/chat_models.py\", line 176, in _chat_with_retry\n",
      "    return generation_method(**kwargs)\n",
      "           ^^^^^^^^^^^^^^^^^^^^^^^^^^^\n",
      "  File \"/usr/local/anaconda3/lib/python3.11/site-packages/google/ai/generativelanguage_v1beta/services/generative_service/client.py\", line 1122, in stream_generate_content\n",
      "    response = rpc(\n",
      "               ^^^^\n",
      "  File \"/usr/local/anaconda3/lib/python3.11/site-packages/google/api_core/gapic_v1/method.py\", line 131, in __call__\n",
      "    return wrapped_func(*args, **kwargs)\n",
      "           ^^^^^^^^^^^^^^^^^^^^^^^^^^^^^\n",
      "  File \"/usr/local/anaconda3/lib/python3.11/site-packages/google/api_core/retry/retry_unary.py\", line 293, in retry_wrapped_func\n",
      "    return retry_target(\n",
      "           ^^^^^^^^^^^^^\n",
      "  File \"/usr/local/anaconda3/lib/python3.11/site-packages/google/api_core/retry/retry_unary.py\", line 153, in retry_target\n",
      "    _retry_error_helper(\n",
      "  File \"/usr/local/anaconda3/lib/python3.11/site-packages/google/api_core/retry/retry_base.py\", line 212, in _retry_error_helper\n",
      "    raise final_exc from source_exc\n",
      "  File \"/usr/local/anaconda3/lib/python3.11/site-packages/google/api_core/retry/retry_unary.py\", line 144, in retry_target\n",
      "    result = target()\n",
      "             ^^^^^^^^\n",
      "  File \"/usr/local/anaconda3/lib/python3.11/site-packages/google/api_core/timeout.py\", line 120, in func_with_timeout\n",
      "    return func(*args, **kwargs)\n",
      "           ^^^^^^^^^^^^^^^^^^^^^\n",
      "  File \"/usr/local/anaconda3/lib/python3.11/site-packages/google/api_core/grpc_helpers.py\", line 174, in error_remapped_callable\n",
      "    raise exceptions.from_grpc_error(exc) from exc\n",
      "google.api_core.exceptions.ResourceExhausted: 429 Resource has been exhausted (e.g. check quota).\n"
     ]
    }
   ],
   "source": [
    "# Agent 1: Researcher\n",
    "from crewai import Agent, Task, Crew\n",
    "analyst = Agent(\n",
    "    role=\"civil engineer\",\n",
    "    goal=\"provide information about building materials, quantities and sizes, be as accurate as possible\",\n",
    "    llm=llm,\n",
    "    tools = [  neo4j_query_tool],\n",
    "    verbose=True,\n",
    "    backstory=(\n",
    "        \"As civil engineer, you get your input from the neo4j_query_tool, you ask the questions in human language, for example, if you want to know number of floors you ask : how many floors are there? and not a cypher that you think that is right \"\n",
    "        \"as the tool translates the query better than you. \"\n",
    "        \"The tool has arythmetic capabilities, and you should use it as much as possible. \"\n",
    "        \"The tool has information that is pre calculated, so you dont need to perform the calculations for things, like volumes. \"\n",
    "        \"usually the tool should respond to the questions, including aggregation and sums. only if you are not satisfied from the answer, you might need to calculate things by yourself, according to the data you get from the tool. you should not invent anything!!! \"\n",
    "        \"sometimes you need to conclude things about entities from their name or ObjectType. and then you should get the value and conclude by yourself. \"\n",
    "        \"If you would need to conclude something from column name by yourself you should do it, the default is not to do so. \"\n",
    "        \"for example, if you are requested to count beams by type and for each type get the properties, such as: material, shape or dimensions, you shold follow the following steps: \"\n",
    "        \"1) request from tool: count number of beams by ObjectType. \"\n",
    "        \"2) using the information you got from the tool, look at the value of ObjectType, and conclude fron the text what are the properties \"\n",
    "        \"3) only if you dont find the requested properties, try to get it be other relationships. \"\n",
    "        \"getting data for walls and columns, should follow  similiar process as of the beam example.\"\n",
    "    )\n",
    ")\n",
    "# Task for Researcher Agent:\n",
    "analyst_task = Task(\n",
    "    description=(\n",
    "#        \"get the columns and their types, for each type, calculate how many instances. the ObjectType property each wall type is a description of the column. identify the material,  Shape,  Dimensions\"\n",
    "        \"provide number and volume of beams by floor\"\n",
    "    ),\n",
    "    expected_output=(\n",
    "#        \"json with the information of types with their properties from the text of the type. count how many of each type. \"\n",
    "#        \"do not write enything else except for this json\"\n",
    "        \"json with the result by floor\"\n",
    "    ),\n",
    "    agent=analyst,\n",
    "    async_execution=True\n",
    ")\n",
    "application_crew = Crew(\n",
    "    agents=[analyst],\n",
    "\n",
    "    tasks=[analyst_task],\n",
    "\n",
    "    verbose=True\n",
    ")\n",
    "result = application_crew.kickoff()"
   ]
  },
  {
   "cell_type": "code",
   "execution_count": null,
   "id": "e1323ea8-8939-446a-845d-eb4d8edc4a07",
   "metadata": {
    "tags": []
   },
   "outputs": [],
   "source": [
    "result.raw"
   ]
  },
  {
   "cell_type": "code",
   "execution_count": null,
   "id": "18563d41-3ac3-403f-b1ba-54bd30298ded",
   "metadata": {
    "tags": []
   },
   "outputs": [],
   "source": [
    "import google.generativeai as genai\n",
    "import os\n",
    "#analyzePrompt = \"\"\"This neo4j schema contains a . Return output in json format:\n",
    "#{description: description, features: [feature1, feature2, feature3]}\"\"\"\n",
    "\n",
    "model = genai.GenerativeModel(model_name=\"gemini-1.5-flash\")\n",
    "#response = model.generate_content([analyzePrompt, img])\n",
    "#print(response.text)"
   ]
  },
  {
   "cell_type": "code",
   "execution_count": null,
   "id": "2d2d7036-50ec-46ee-9f99-dc2f84255830",
   "metadata": {},
   "outputs": [],
   "source": []
  },
  {
   "cell_type": "code",
   "execution_count": null,
   "id": "cb82773c-41db-4ca9-bd88-3872b2a81f24",
   "metadata": {
    "tags": []
   },
   "outputs": [],
   "source": [
    "model.generate_content(\"what is ifc?\")"
   ]
  },
  {
   "cell_type": "code",
   "execution_count": null,
   "id": "793f7af8-5ce8-42de-ba38-a172d7afcb3d",
   "metadata": {
    "tags": []
   },
   "outputs": [],
   "source": [
    "from langchain import OpenAI, LLMChain\n",
    "from langchain.prompts import PromptTemplate\n",
    "\n",
    "# Replace with your actual Gemini API key\n",
    "\n",
    "# Define a prompt template\n",
    "prompt_template = PromptTemplate(\n",
    "    input_variables=[\"question\"],\n",
    "    template=\"Answer the following question: {question}\",\n",
    ")\n",
    "\n",
    "# Create an LLMChain using Gemini\n",
    "llm_chain = LLMChain(\n",
    "    llm=model,\n",
    "    prompt=prompt_template,\n",
    ")\n",
    "\n",
    "# Ask a question\n",
    "question = \"What is the capital of France?\"\n",
    "response = llm_chain.run(question)\n",
    "\n",
    "print(response)"
   ]
  },
  {
   "cell_type": "code",
   "execution_count": null,
   "id": "77a80432-9a09-415b-9d94-82f44fb2848c",
   "metadata": {
    "tags": []
   },
   "outputs": [],
   "source": [
    "!pip install langchain --upgrade"
   ]
  },
  {
   "cell_type": "code",
   "execution_count": null,
   "id": "c94f1a4b-6915-40f8-9457-f17652f59b1b",
   "metadata": {},
   "outputs": [],
   "source": [
    "from langchain import PromptTemplate, LLMChain\n",
    "import requests\n",
    "from google.api_core.client_options import ClientOptions\n",
    "\n",
    "class GeminiLLM:\n",
    "    def __init__(self, api_key):\n",
    "        self.api_key = api_key\n",
    "        self.base_url = \"https://generativeai.googleapis.com/v1beta\"\n",
    "\n",
    "    def _call_gemini(self, prompt):\n",
    "        headers = {\n",
    "            \"Authorization\": f\"Bearer {self.api_key}\",\n",
    "            \"Content-Type\": \"application/json\",\n",
    "        }\n",
    "        data = {\n",
    "            \"prompt\": prompt,\n",
    "            \"model\": \"text-bison@001\",  # Replace with your desired Gemini model\n",
    "        }\n",
    "        response = requests.post(f\"{self.base_url}/models:generateText\", headers=headers, json=data)\n",
    "        response.raise_for_status()\n",
    "        return response.json()[\"text\"]\n",
    "\n",
    "    def predict(self, prompt):\n",
    "        return self._call_gemini(prompt)\n",
    "\n",
    "# Example usage\n",
    "prompt_template = PromptTemplate(\n",
    "    input_variables=[\"question\"],\n",
    "    template=\"Answer the following question: {question}\",\n",
    ")\n",
    "\n",
    "gemini_llm = GeminiLLM(api_key=os.environ[\"GOOGLE_API_KEY\"])\n",
    "#llm_chain = LLMChain(prompt=prompt_template, llm=gemini_llm)\n",
    "\n",
    "#question = \"What is the capital of France?\"\n",
    "#response = llm_chain.run(question)\n",
    "#print(response)\n"
   ]
  },
  {
   "cell_type": "code",
   "execution_count": null,
   "id": "8d20eb3b-f844-483b-96c2-39d47105b430",
   "metadata": {
    "tags": []
   },
   "outputs": [],
   "source": [
    "model.generate_content(\"Give me python code to sort a list\")"
   ]
  },
  {
   "cell_type": "code",
   "execution_count": null,
   "id": "345da090-ec50-4c2b-bec6-0a27a0f28baa",
   "metadata": {},
   "outputs": [],
   "source": []
  }
 ],
 "metadata": {
  "kernelspec": {
   "display_name": "Python 3 (ipykernel)",
   "language": "python",
   "name": "python3"
  },
  "language_info": {
   "codemirror_mode": {
    "name": "ipython",
    "version": 3
   },
   "file_extension": ".py",
   "mimetype": "text/x-python",
   "name": "python",
   "nbconvert_exporter": "python",
   "pygments_lexer": "ipython3",
   "version": "3.11.4"
  }
 },
 "nbformat": 4,
 "nbformat_minor": 5
}
